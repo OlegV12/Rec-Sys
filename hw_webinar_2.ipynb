{
  "cells": [
    {
      "cell_type": "markdown",
      "metadata": {
        "id": "view-in-github",
        "colab_type": "text"
      },
      "source": [
        "<a href=\"https://colab.research.google.com/github/OlegV12/Rec-Sys/blob/Lesson_2/hw_webinar_2.ipynb\" target=\"_parent\"><img src=\"https://colab.research.google.com/assets/colab-badge.svg\" alt=\"Open In Colab\"/></a>"
      ]
    },
    {
      "cell_type": "code",
      "source": [
        "pip install implicit"
      ],
      "metadata": {
        "colab": {
          "base_uri": "https://localhost:8080/"
        },
        "id": "SiJuExKydDpb",
        "outputId": "9d52b7f9-280f-4b77-9460-ff06bfcb2168"
      },
      "execution_count": 3,
      "outputs": [
        {
          "output_type": "stream",
          "name": "stdout",
          "text": [
            "Collecting implicit\n",
            "  Downloading implicit-0.4.8.tar.gz (1.1 MB)\n",
            "\u001b[?25l\r\u001b[K     |▎                               | 10 kB 23.3 MB/s eta 0:00:01\r\u001b[K     |▋                               | 20 kB 28.7 MB/s eta 0:00:01\r\u001b[K     |▉                               | 30 kB 26.4 MB/s eta 0:00:01\r\u001b[K     |█▏                              | 40 kB 19.9 MB/s eta 0:00:01\r\u001b[K     |█▍                              | 51 kB 9.9 MB/s eta 0:00:01\r\u001b[K     |█▊                              | 61 kB 10.4 MB/s eta 0:00:01\r\u001b[K     |██                              | 71 kB 9.4 MB/s eta 0:00:01\r\u001b[K     |██▎                             | 81 kB 10.3 MB/s eta 0:00:01\r\u001b[K     |██▋                             | 92 kB 11.2 MB/s eta 0:00:01\r\u001b[K     |██▉                             | 102 kB 9.0 MB/s eta 0:00:01\r\u001b[K     |███▏                            | 112 kB 9.0 MB/s eta 0:00:01\r\u001b[K     |███▍                            | 122 kB 9.0 MB/s eta 0:00:01\r\u001b[K     |███▊                            | 133 kB 9.0 MB/s eta 0:00:01\r\u001b[K     |████                            | 143 kB 9.0 MB/s eta 0:00:01\r\u001b[K     |████▎                           | 153 kB 9.0 MB/s eta 0:00:01\r\u001b[K     |████▋                           | 163 kB 9.0 MB/s eta 0:00:01\r\u001b[K     |████▉                           | 174 kB 9.0 MB/s eta 0:00:01\r\u001b[K     |█████▏                          | 184 kB 9.0 MB/s eta 0:00:01\r\u001b[K     |█████▍                          | 194 kB 9.0 MB/s eta 0:00:01\r\u001b[K     |█████▊                          | 204 kB 9.0 MB/s eta 0:00:01\r\u001b[K     |██████                          | 215 kB 9.0 MB/s eta 0:00:01\r\u001b[K     |██████▎                         | 225 kB 9.0 MB/s eta 0:00:01\r\u001b[K     |██████▋                         | 235 kB 9.0 MB/s eta 0:00:01\r\u001b[K     |██████▉                         | 245 kB 9.0 MB/s eta 0:00:01\r\u001b[K     |███████▏                        | 256 kB 9.0 MB/s eta 0:00:01\r\u001b[K     |███████▌                        | 266 kB 9.0 MB/s eta 0:00:01\r\u001b[K     |███████▊                        | 276 kB 9.0 MB/s eta 0:00:01\r\u001b[K     |████████                        | 286 kB 9.0 MB/s eta 0:00:01\r\u001b[K     |████████▎                       | 296 kB 9.0 MB/s eta 0:00:01\r\u001b[K     |████████▋                       | 307 kB 9.0 MB/s eta 0:00:01\r\u001b[K     |████████▉                       | 317 kB 9.0 MB/s eta 0:00:01\r\u001b[K     |█████████▏                      | 327 kB 9.0 MB/s eta 0:00:01\r\u001b[K     |█████████▌                      | 337 kB 9.0 MB/s eta 0:00:01\r\u001b[K     |█████████▊                      | 348 kB 9.0 MB/s eta 0:00:01\r\u001b[K     |██████████                      | 358 kB 9.0 MB/s eta 0:00:01\r\u001b[K     |██████████▎                     | 368 kB 9.0 MB/s eta 0:00:01\r\u001b[K     |██████████▋                     | 378 kB 9.0 MB/s eta 0:00:01\r\u001b[K     |██████████▉                     | 389 kB 9.0 MB/s eta 0:00:01\r\u001b[K     |███████████▏                    | 399 kB 9.0 MB/s eta 0:00:01\r\u001b[K     |███████████▌                    | 409 kB 9.0 MB/s eta 0:00:01\r\u001b[K     |███████████▊                    | 419 kB 9.0 MB/s eta 0:00:01\r\u001b[K     |████████████                    | 430 kB 9.0 MB/s eta 0:00:01\r\u001b[K     |████████████▎                   | 440 kB 9.0 MB/s eta 0:00:01\r\u001b[K     |████████████▋                   | 450 kB 9.0 MB/s eta 0:00:01\r\u001b[K     |█████████████                   | 460 kB 9.0 MB/s eta 0:00:01\r\u001b[K     |█████████████▏                  | 471 kB 9.0 MB/s eta 0:00:01\r\u001b[K     |█████████████▌                  | 481 kB 9.0 MB/s eta 0:00:01\r\u001b[K     |█████████████▊                  | 491 kB 9.0 MB/s eta 0:00:01\r\u001b[K     |██████████████                  | 501 kB 9.0 MB/s eta 0:00:01\r\u001b[K     |██████████████▎                 | 512 kB 9.0 MB/s eta 0:00:01\r\u001b[K     |██████████████▋                 | 522 kB 9.0 MB/s eta 0:00:01\r\u001b[K     |███████████████                 | 532 kB 9.0 MB/s eta 0:00:01\r\u001b[K     |███████████████▏                | 542 kB 9.0 MB/s eta 0:00:01\r\u001b[K     |███████████████▌                | 552 kB 9.0 MB/s eta 0:00:01\r\u001b[K     |███████████████▊                | 563 kB 9.0 MB/s eta 0:00:01\r\u001b[K     |████████████████                | 573 kB 9.0 MB/s eta 0:00:01\r\u001b[K     |████████████████▎               | 583 kB 9.0 MB/s eta 0:00:01\r\u001b[K     |████████████████▋               | 593 kB 9.0 MB/s eta 0:00:01\r\u001b[K     |█████████████████               | 604 kB 9.0 MB/s eta 0:00:01\r\u001b[K     |█████████████████▏              | 614 kB 9.0 MB/s eta 0:00:01\r\u001b[K     |█████████████████▌              | 624 kB 9.0 MB/s eta 0:00:01\r\u001b[K     |█████████████████▊              | 634 kB 9.0 MB/s eta 0:00:01\r\u001b[K     |██████████████████              | 645 kB 9.0 MB/s eta 0:00:01\r\u001b[K     |██████████████████▍             | 655 kB 9.0 MB/s eta 0:00:01\r\u001b[K     |██████████████████▋             | 665 kB 9.0 MB/s eta 0:00:01\r\u001b[K     |███████████████████             | 675 kB 9.0 MB/s eta 0:00:01\r\u001b[K     |███████████████████▏            | 686 kB 9.0 MB/s eta 0:00:01\r\u001b[K     |███████████████████▌            | 696 kB 9.0 MB/s eta 0:00:01\r\u001b[K     |███████████████████▊            | 706 kB 9.0 MB/s eta 0:00:01\r\u001b[K     |████████████████████            | 716 kB 9.0 MB/s eta 0:00:01\r\u001b[K     |████████████████████▍           | 727 kB 9.0 MB/s eta 0:00:01\r\u001b[K     |████████████████████▋           | 737 kB 9.0 MB/s eta 0:00:01\r\u001b[K     |█████████████████████           | 747 kB 9.0 MB/s eta 0:00:01\r\u001b[K     |█████████████████████▏          | 757 kB 9.0 MB/s eta 0:00:01\r\u001b[K     |█████████████████████▌          | 768 kB 9.0 MB/s eta 0:00:01\r\u001b[K     |█████████████████████▊          | 778 kB 9.0 MB/s eta 0:00:01\r\u001b[K     |██████████████████████          | 788 kB 9.0 MB/s eta 0:00:01\r\u001b[K     |██████████████████████▍         | 798 kB 9.0 MB/s eta 0:00:01\r\u001b[K     |██████████████████████▋         | 808 kB 9.0 MB/s eta 0:00:01\r\u001b[K     |███████████████████████         | 819 kB 9.0 MB/s eta 0:00:01\r\u001b[K     |███████████████████████▏        | 829 kB 9.0 MB/s eta 0:00:01\r\u001b[K     |███████████████████████▌        | 839 kB 9.0 MB/s eta 0:00:01\r\u001b[K     |███████████████████████▉        | 849 kB 9.0 MB/s eta 0:00:01\r\u001b[K     |████████████████████████        | 860 kB 9.0 MB/s eta 0:00:01\r\u001b[K     |████████████████████████▍       | 870 kB 9.0 MB/s eta 0:00:01\r\u001b[K     |████████████████████████▋       | 880 kB 9.0 MB/s eta 0:00:01\r\u001b[K     |█████████████████████████       | 890 kB 9.0 MB/s eta 0:00:01\r\u001b[K     |█████████████████████████▏      | 901 kB 9.0 MB/s eta 0:00:01\r\u001b[K     |█████████████████████████▌      | 911 kB 9.0 MB/s eta 0:00:01\r\u001b[K     |█████████████████████████▉      | 921 kB 9.0 MB/s eta 0:00:01\r\u001b[K     |██████████████████████████      | 931 kB 9.0 MB/s eta 0:00:01\r\u001b[K     |██████████████████████████▍     | 942 kB 9.0 MB/s eta 0:00:01\r\u001b[K     |██████████████████████████▋     | 952 kB 9.0 MB/s eta 0:00:01\r\u001b[K     |███████████████████████████     | 962 kB 9.0 MB/s eta 0:00:01\r\u001b[K     |███████████████████████████▏    | 972 kB 9.0 MB/s eta 0:00:01\r\u001b[K     |███████████████████████████▌    | 983 kB 9.0 MB/s eta 0:00:01\r\u001b[K     |███████████████████████████▉    | 993 kB 9.0 MB/s eta 0:00:01\r\u001b[K     |████████████████████████████    | 1.0 MB 9.0 MB/s eta 0:00:01\r\u001b[K     |████████████████████████████▍   | 1.0 MB 9.0 MB/s eta 0:00:01\r\u001b[K     |████████████████████████████▋   | 1.0 MB 9.0 MB/s eta 0:00:01\r\u001b[K     |█████████████████████████████   | 1.0 MB 9.0 MB/s eta 0:00:01\r\u001b[K     |█████████████████████████████▎  | 1.0 MB 9.0 MB/s eta 0:00:01\r\u001b[K     |█████████████████████████████▌  | 1.1 MB 9.0 MB/s eta 0:00:01\r\u001b[K     |█████████████████████████████▉  | 1.1 MB 9.0 MB/s eta 0:00:01\r\u001b[K     |██████████████████████████████  | 1.1 MB 9.0 MB/s eta 0:00:01\r\u001b[K     |██████████████████████████████▍ | 1.1 MB 9.0 MB/s eta 0:00:01\r\u001b[K     |██████████████████████████████▋ | 1.1 MB 9.0 MB/s eta 0:00:01\r\u001b[K     |███████████████████████████████ | 1.1 MB 9.0 MB/s eta 0:00:01\r\u001b[K     |███████████████████████████████▎| 1.1 MB 9.0 MB/s eta 0:00:01\r\u001b[K     |███████████████████████████████▌| 1.1 MB 9.0 MB/s eta 0:00:01\r\u001b[K     |███████████████████████████████▉| 1.1 MB 9.0 MB/s eta 0:00:01\r\u001b[K     |████████████████████████████████| 1.1 MB 9.0 MB/s \n",
            "\u001b[?25h  Installing build dependencies ... \u001b[?25l\u001b[?25hdone\n",
            "  Getting requirements to build wheel ... \u001b[?25l\u001b[?25hdone\n",
            "  Installing backend dependencies ... \u001b[?25l\u001b[?25hdone\n",
            "    Preparing wheel metadata ... \u001b[?25l\u001b[?25hdone\n",
            "Requirement already satisfied: scipy>=0.16 in /usr/local/lib/python3.7/dist-packages (from implicit) (1.4.1)\n",
            "Requirement already satisfied: tqdm>=4.27 in /usr/local/lib/python3.7/dist-packages (from implicit) (4.62.3)\n",
            "Requirement already satisfied: numpy in /usr/local/lib/python3.7/dist-packages (from implicit) (1.19.5)\n",
            "Building wheels for collected packages: implicit\n",
            "  Building wheel for implicit (PEP 517) ... \u001b[?25l\u001b[?25hdone\n",
            "  Created wheel for implicit: filename=implicit-0.4.8-cp37-cp37m-linux_x86_64.whl size=4606647 sha256=2e27a11ae46491a626f53530db3946ecaf0b1c9f570ae01c6587c2c7ee18f405\n",
            "  Stored in directory: /root/.cache/pip/wheels/88/e6/34/25e73cccbaf1a961154bb562a5f86123b68fdbf40e306073d6\n",
            "Successfully built implicit\n",
            "Installing collected packages: implicit\n",
            "Successfully installed implicit-0.4.8\n"
          ]
        }
      ]
    },
    {
      "cell_type": "code",
      "execution_count": 2,
      "metadata": {
        "id": "rgIzW-DSC8Yi",
        "colab": {
          "base_uri": "https://localhost:8080/",
          "height": 368
        },
        "outputId": "6b475b7e-3113-4a34-ed6e-368cbf887f7b"
      },
      "outputs": [
        {
          "output_type": "error",
          "ename": "ModuleNotFoundError",
          "evalue": "ignored",
          "traceback": [
            "\u001b[0;31m---------------------------------------------------------------------------\u001b[0m",
            "\u001b[0;31mModuleNotFoundError\u001b[0m                       Traceback (most recent call last)",
            "\u001b[0;32m<ipython-input-2-55bb3eabd076>\u001b[0m in \u001b[0;36m<module>\u001b[0;34m()\u001b[0m\n\u001b[1;32m      8\u001b[0m \u001b[0;34m\u001b[0m\u001b[0m\n\u001b[1;32m      9\u001b[0m \u001b[0;31m# Детерминированные алгоритмы\u001b[0m\u001b[0;34m\u001b[0m\u001b[0;34m\u001b[0m\u001b[0;34m\u001b[0m\u001b[0m\n\u001b[0;32m---> 10\u001b[0;31m \u001b[0;32mfrom\u001b[0m \u001b[0mimplicit\u001b[0m\u001b[0;34m.\u001b[0m\u001b[0mnearest_neighbours\u001b[0m \u001b[0;32mimport\u001b[0m \u001b[0mItemItemRecommender\u001b[0m\u001b[0;34m,\u001b[0m \u001b[0mCosineRecommender\u001b[0m\u001b[0;34m,\u001b[0m \u001b[0mTFIDFRecommender\u001b[0m\u001b[0;34m,\u001b[0m \u001b[0mBM25Recommender\u001b[0m\u001b[0;34m\u001b[0m\u001b[0;34m\u001b[0m\u001b[0m\n\u001b[0m\u001b[1;32m     11\u001b[0m \u001b[0;34m\u001b[0m\u001b[0m\n\u001b[1;32m     12\u001b[0m \u001b[0;31m# Метрики\u001b[0m\u001b[0;34m\u001b[0m\u001b[0;34m\u001b[0m\u001b[0;34m\u001b[0m\u001b[0m\n",
            "\u001b[0;31mModuleNotFoundError\u001b[0m: No module named 'implicit'",
            "",
            "\u001b[0;31m---------------------------------------------------------------------------\u001b[0;32m\nNOTE: If your import is failing due to a missing package, you can\nmanually install dependencies using either !pip or !apt.\n\nTo view examples of installing some common dependencies, click the\n\"Open Examples\" button below.\n\u001b[0;31m---------------------------------------------------------------------------\u001b[0m\n"
          ],
          "errorDetails": {
            "actions": [
              {
                "action": "open_url",
                "actionText": "Open Examples",
                "url": "/notebooks/snippets/importing_libraries.ipynb"
              }
            ]
          }
        }
      ],
      "source": [
        "import pandas as pd\n",
        "import numpy as np\n",
        "import matplotlib.pyplot as plt\n",
        "%matplotlib inline\n",
        "\n",
        "# Для работы с матрицами\n",
        "from scipy.sparse import csr_matrix, coo_matrix\n",
        "\n",
        "# Детерминированные алгоритмы\n",
        "from implicit.nearest_neighbours import ItemItemRecommender, CosineRecommender, TFIDFRecommender, BM25Recommender\n",
        "\n",
        "# Метрики\n",
        "from implicit.evaluation import train_test_split\n",
        "from implicit.evaluation import precision_at_k, mean_average_precision_at_k, AUC_at_k, ndcg_at_k"
      ]
    },
    {
      "cell_type": "code",
      "source": [
        "from google.colab import drive\n",
        "drive.mount('/gdrive')\n",
        "\n"
      ],
      "metadata": {
        "colab": {
          "base_uri": "https://localhost:8080/"
        },
        "id": "rjFeU2bMd-he",
        "outputId": "de4992d9-7de1-4f18-f67b-a36961b2e09c"
      },
      "execution_count": 5,
      "outputs": [
        {
          "output_type": "stream",
          "name": "stdout",
          "text": [
            "Mounted at /gdrive\n"
          ]
        }
      ]
    },
    {
      "cell_type": "code",
      "execution_count": 6,
      "metadata": {
        "colab": {
          "base_uri": "https://localhost:8080/",
          "height": 111
        },
        "id": "9qFkcgyrC8Yt",
        "outputId": "023a3686-c95f-4a73-ee4a-536ab65d21b6"
      },
      "outputs": [
        {
          "output_type": "execute_result",
          "data": {
            "text/html": [
              "\n",
              "  <div id=\"df-556f7290-1970-4131-840f-fcfde5281a79\">\n",
              "    <div class=\"colab-df-container\">\n",
              "      <div>\n",
              "<style scoped>\n",
              "    .dataframe tbody tr th:only-of-type {\n",
              "        vertical-align: middle;\n",
              "    }\n",
              "\n",
              "    .dataframe tbody tr th {\n",
              "        vertical-align: top;\n",
              "    }\n",
              "\n",
              "    .dataframe thead th {\n",
              "        text-align: right;\n",
              "    }\n",
              "</style>\n",
              "<table border=\"1\" class=\"dataframe\">\n",
              "  <thead>\n",
              "    <tr style=\"text-align: right;\">\n",
              "      <th></th>\n",
              "      <th>user_id</th>\n",
              "      <th>basket_id</th>\n",
              "      <th>day</th>\n",
              "      <th>item_id</th>\n",
              "      <th>quantity</th>\n",
              "      <th>sales_value</th>\n",
              "      <th>store_id</th>\n",
              "      <th>retail_disc</th>\n",
              "      <th>trans_time</th>\n",
              "      <th>week_no</th>\n",
              "      <th>coupon_disc</th>\n",
              "      <th>coupon_match_disc</th>\n",
              "    </tr>\n",
              "  </thead>\n",
              "  <tbody>\n",
              "    <tr>\n",
              "      <th>0</th>\n",
              "      <td>2375</td>\n",
              "      <td>26984851472</td>\n",
              "      <td>1</td>\n",
              "      <td>1004906</td>\n",
              "      <td>1</td>\n",
              "      <td>1.39</td>\n",
              "      <td>364</td>\n",
              "      <td>-0.6</td>\n",
              "      <td>1631</td>\n",
              "      <td>1</td>\n",
              "      <td>0.0</td>\n",
              "      <td>0.0</td>\n",
              "    </tr>\n",
              "    <tr>\n",
              "      <th>1</th>\n",
              "      <td>2375</td>\n",
              "      <td>26984851472</td>\n",
              "      <td>1</td>\n",
              "      <td>1033142</td>\n",
              "      <td>1</td>\n",
              "      <td>0.82</td>\n",
              "      <td>364</td>\n",
              "      <td>0.0</td>\n",
              "      <td>1631</td>\n",
              "      <td>1</td>\n",
              "      <td>0.0</td>\n",
              "      <td>0.0</td>\n",
              "    </tr>\n",
              "  </tbody>\n",
              "</table>\n",
              "</div>\n",
              "      <button class=\"colab-df-convert\" onclick=\"convertToInteractive('df-556f7290-1970-4131-840f-fcfde5281a79')\"\n",
              "              title=\"Convert this dataframe to an interactive table.\"\n",
              "              style=\"display:none;\">\n",
              "        \n",
              "  <svg xmlns=\"http://www.w3.org/2000/svg\" height=\"24px\"viewBox=\"0 0 24 24\"\n",
              "       width=\"24px\">\n",
              "    <path d=\"M0 0h24v24H0V0z\" fill=\"none\"/>\n",
              "    <path d=\"M18.56 5.44l.94 2.06.94-2.06 2.06-.94-2.06-.94-.94-2.06-.94 2.06-2.06.94zm-11 1L8.5 8.5l.94-2.06 2.06-.94-2.06-.94L8.5 2.5l-.94 2.06-2.06.94zm10 10l.94 2.06.94-2.06 2.06-.94-2.06-.94-.94-2.06-.94 2.06-2.06.94z\"/><path d=\"M17.41 7.96l-1.37-1.37c-.4-.4-.92-.59-1.43-.59-.52 0-1.04.2-1.43.59L10.3 9.45l-7.72 7.72c-.78.78-.78 2.05 0 2.83L4 21.41c.39.39.9.59 1.41.59.51 0 1.02-.2 1.41-.59l7.78-7.78 2.81-2.81c.8-.78.8-2.07 0-2.86zM5.41 20L4 18.59l7.72-7.72 1.47 1.35L5.41 20z\"/>\n",
              "  </svg>\n",
              "      </button>\n",
              "      \n",
              "  <style>\n",
              "    .colab-df-container {\n",
              "      display:flex;\n",
              "      flex-wrap:wrap;\n",
              "      gap: 12px;\n",
              "    }\n",
              "\n",
              "    .colab-df-convert {\n",
              "      background-color: #E8F0FE;\n",
              "      border: none;\n",
              "      border-radius: 50%;\n",
              "      cursor: pointer;\n",
              "      display: none;\n",
              "      fill: #1967D2;\n",
              "      height: 32px;\n",
              "      padding: 0 0 0 0;\n",
              "      width: 32px;\n",
              "    }\n",
              "\n",
              "    .colab-df-convert:hover {\n",
              "      background-color: #E2EBFA;\n",
              "      box-shadow: 0px 1px 2px rgba(60, 64, 67, 0.3), 0px 1px 3px 1px rgba(60, 64, 67, 0.15);\n",
              "      fill: #174EA6;\n",
              "    }\n",
              "\n",
              "    [theme=dark] .colab-df-convert {\n",
              "      background-color: #3B4455;\n",
              "      fill: #D2E3FC;\n",
              "    }\n",
              "\n",
              "    [theme=dark] .colab-df-convert:hover {\n",
              "      background-color: #434B5C;\n",
              "      box-shadow: 0px 1px 3px 1px rgba(0, 0, 0, 0.15);\n",
              "      filter: drop-shadow(0px 1px 2px rgba(0, 0, 0, 0.3));\n",
              "      fill: #FFFFFF;\n",
              "    }\n",
              "  </style>\n",
              "\n",
              "      <script>\n",
              "        const buttonEl =\n",
              "          document.querySelector('#df-556f7290-1970-4131-840f-fcfde5281a79 button.colab-df-convert');\n",
              "        buttonEl.style.display =\n",
              "          google.colab.kernel.accessAllowed ? 'block' : 'none';\n",
              "\n",
              "        async function convertToInteractive(key) {\n",
              "          const element = document.querySelector('#df-556f7290-1970-4131-840f-fcfde5281a79');\n",
              "          const dataTable =\n",
              "            await google.colab.kernel.invokeFunction('convertToInteractive',\n",
              "                                                     [key], {});\n",
              "          if (!dataTable) return;\n",
              "\n",
              "          const docLinkHtml = 'Like what you see? Visit the ' +\n",
              "            '<a target=\"_blank\" href=https://colab.research.google.com/notebooks/data_table.ipynb>data table notebook</a>'\n",
              "            + ' to learn more about interactive tables.';\n",
              "          element.innerHTML = '';\n",
              "          dataTable['output_type'] = 'display_data';\n",
              "          await google.colab.output.renderOutput(dataTable, element);\n",
              "          const docLink = document.createElement('div');\n",
              "          docLink.innerHTML = docLinkHtml;\n",
              "          element.appendChild(docLink);\n",
              "        }\n",
              "      </script>\n",
              "    </div>\n",
              "  </div>\n",
              "  "
            ],
            "text/plain": [
              "   user_id    basket_id  day  ...  week_no  coupon_disc  coupon_match_disc\n",
              "0     2375  26984851472    1  ...        1          0.0                0.0\n",
              "1     2375  26984851472    1  ...        1          0.0                0.0\n",
              "\n",
              "[2 rows x 12 columns]"
            ]
          },
          "metadata": {},
          "execution_count": 6
        }
      ],
      "source": [
        "data = pd.read_csv('/gdrive/MyDrive/retail_train.csv')\n",
        "data.head(2)"
      ]
    },
    {
      "cell_type": "code",
      "source": [
        "popularity = data.groupby('item_id')['sales_value'].sum().reset_index()"
      ],
      "metadata": {
        "id": "ADcEpVqCzjwe"
      },
      "execution_count": 7,
      "outputs": []
    },
    {
      "cell_type": "code",
      "source": [
        "popularity['weight'] =popularity['sales_value'] * (1/popularity['sales_value'].sum())"
      ],
      "metadata": {
        "id": "9SvBo5-x1whc"
      },
      "execution_count": 8,
      "outputs": []
    },
    {
      "cell_type": "code",
      "source": [
        "popularity.sort_values('sales_value', ascending=False)"
      ],
      "metadata": {
        "colab": {
          "base_uri": "https://localhost:8080/",
          "height": 419
        },
        "id": "pmmAK7H_zzc9",
        "outputId": "ff1d5728-c8cf-4500-a19b-f6f25dd21744"
      },
      "execution_count": 9,
      "outputs": [
        {
          "output_type": "execute_result",
          "data": {
            "text/html": [
              "\n",
              "  <div id=\"df-1ee3c056-db2a-465b-b662-f69ecedd369a\">\n",
              "    <div class=\"colab-df-container\">\n",
              "      <div>\n",
              "<style scoped>\n",
              "    .dataframe tbody tr th:only-of-type {\n",
              "        vertical-align: middle;\n",
              "    }\n",
              "\n",
              "    .dataframe tbody tr th {\n",
              "        vertical-align: top;\n",
              "    }\n",
              "\n",
              "    .dataframe thead th {\n",
              "        text-align: right;\n",
              "    }\n",
              "</style>\n",
              "<table border=\"1\" class=\"dataframe\">\n",
              "  <thead>\n",
              "    <tr style=\"text-align: right;\">\n",
              "      <th></th>\n",
              "      <th>item_id</th>\n",
              "      <th>sales_value</th>\n",
              "      <th>weight</th>\n",
              "    </tr>\n",
              "  </thead>\n",
              "  <tbody>\n",
              "    <tr>\n",
              "      <th>56233</th>\n",
              "      <td>6534178</td>\n",
              "      <td>467993.62</td>\n",
              "      <td>0.062970</td>\n",
              "    </tr>\n",
              "    <tr>\n",
              "      <th>56193</th>\n",
              "      <td>6533889</td>\n",
              "      <td>42645.75</td>\n",
              "      <td>0.005738</td>\n",
              "    </tr>\n",
              "    <tr>\n",
              "      <th>29195</th>\n",
              "      <td>1029743</td>\n",
              "      <td>37981.91</td>\n",
              "      <td>0.005111</td>\n",
              "    </tr>\n",
              "    <tr>\n",
              "      <th>56228</th>\n",
              "      <td>6534166</td>\n",
              "      <td>31298.96</td>\n",
              "      <td>0.004211</td>\n",
              "    </tr>\n",
              "    <tr>\n",
              "      <th>35054</th>\n",
              "      <td>1082185</td>\n",
              "      <td>27291.02</td>\n",
              "      <td>0.003672</td>\n",
              "    </tr>\n",
              "    <tr>\n",
              "      <th>...</th>\n",
              "      <td>...</td>\n",
              "      <td>...</td>\n",
              "      <td>...</td>\n",
              "    </tr>\n",
              "    <tr>\n",
              "      <th>50764</th>\n",
              "      <td>2961522</td>\n",
              "      <td>0.00</td>\n",
              "      <td>0.000000</td>\n",
              "    </tr>\n",
              "    <tr>\n",
              "      <th>70059</th>\n",
              "      <td>10121805</td>\n",
              "      <td>0.00</td>\n",
              "      <td>0.000000</td>\n",
              "    </tr>\n",
              "    <tr>\n",
              "      <th>39334</th>\n",
              "      <td>1121502</td>\n",
              "      <td>0.00</td>\n",
              "      <td>0.000000</td>\n",
              "    </tr>\n",
              "    <tr>\n",
              "      <th>5918</th>\n",
              "      <td>821773</td>\n",
              "      <td>0.00</td>\n",
              "      <td>0.000000</td>\n",
              "    </tr>\n",
              "    <tr>\n",
              "      <th>59028</th>\n",
              "      <td>7160577</td>\n",
              "      <td>0.00</td>\n",
              "      <td>0.000000</td>\n",
              "    </tr>\n",
              "  </tbody>\n",
              "</table>\n",
              "<p>89051 rows × 3 columns</p>\n",
              "</div>\n",
              "      <button class=\"colab-df-convert\" onclick=\"convertToInteractive('df-1ee3c056-db2a-465b-b662-f69ecedd369a')\"\n",
              "              title=\"Convert this dataframe to an interactive table.\"\n",
              "              style=\"display:none;\">\n",
              "        \n",
              "  <svg xmlns=\"http://www.w3.org/2000/svg\" height=\"24px\"viewBox=\"0 0 24 24\"\n",
              "       width=\"24px\">\n",
              "    <path d=\"M0 0h24v24H0V0z\" fill=\"none\"/>\n",
              "    <path d=\"M18.56 5.44l.94 2.06.94-2.06 2.06-.94-2.06-.94-.94-2.06-.94 2.06-2.06.94zm-11 1L8.5 8.5l.94-2.06 2.06-.94-2.06-.94L8.5 2.5l-.94 2.06-2.06.94zm10 10l.94 2.06.94-2.06 2.06-.94-2.06-.94-.94-2.06-.94 2.06-2.06.94z\"/><path d=\"M17.41 7.96l-1.37-1.37c-.4-.4-.92-.59-1.43-.59-.52 0-1.04.2-1.43.59L10.3 9.45l-7.72 7.72c-.78.78-.78 2.05 0 2.83L4 21.41c.39.39.9.59 1.41.59.51 0 1.02-.2 1.41-.59l7.78-7.78 2.81-2.81c.8-.78.8-2.07 0-2.86zM5.41 20L4 18.59l7.72-7.72 1.47 1.35L5.41 20z\"/>\n",
              "  </svg>\n",
              "      </button>\n",
              "      \n",
              "  <style>\n",
              "    .colab-df-container {\n",
              "      display:flex;\n",
              "      flex-wrap:wrap;\n",
              "      gap: 12px;\n",
              "    }\n",
              "\n",
              "    .colab-df-convert {\n",
              "      background-color: #E8F0FE;\n",
              "      border: none;\n",
              "      border-radius: 50%;\n",
              "      cursor: pointer;\n",
              "      display: none;\n",
              "      fill: #1967D2;\n",
              "      height: 32px;\n",
              "      padding: 0 0 0 0;\n",
              "      width: 32px;\n",
              "    }\n",
              "\n",
              "    .colab-df-convert:hover {\n",
              "      background-color: #E2EBFA;\n",
              "      box-shadow: 0px 1px 2px rgba(60, 64, 67, 0.3), 0px 1px 3px 1px rgba(60, 64, 67, 0.15);\n",
              "      fill: #174EA6;\n",
              "    }\n",
              "\n",
              "    [theme=dark] .colab-df-convert {\n",
              "      background-color: #3B4455;\n",
              "      fill: #D2E3FC;\n",
              "    }\n",
              "\n",
              "    [theme=dark] .colab-df-convert:hover {\n",
              "      background-color: #434B5C;\n",
              "      box-shadow: 0px 1px 3px 1px rgba(0, 0, 0, 0.15);\n",
              "      filter: drop-shadow(0px 1px 2px rgba(0, 0, 0, 0.3));\n",
              "      fill: #FFFFFF;\n",
              "    }\n",
              "  </style>\n",
              "\n",
              "      <script>\n",
              "        const buttonEl =\n",
              "          document.querySelector('#df-1ee3c056-db2a-465b-b662-f69ecedd369a button.colab-df-convert');\n",
              "        buttonEl.style.display =\n",
              "          google.colab.kernel.accessAllowed ? 'block' : 'none';\n",
              "\n",
              "        async function convertToInteractive(key) {\n",
              "          const element = document.querySelector('#df-1ee3c056-db2a-465b-b662-f69ecedd369a');\n",
              "          const dataTable =\n",
              "            await google.colab.kernel.invokeFunction('convertToInteractive',\n",
              "                                                     [key], {});\n",
              "          if (!dataTable) return;\n",
              "\n",
              "          const docLinkHtml = 'Like what you see? Visit the ' +\n",
              "            '<a target=\"_blank\" href=https://colab.research.google.com/notebooks/data_table.ipynb>data table notebook</a>'\n",
              "            + ' to learn more about interactive tables.';\n",
              "          element.innerHTML = '';\n",
              "          dataTable['output_type'] = 'display_data';\n",
              "          await google.colab.output.renderOutput(dataTable, element);\n",
              "          const docLink = document.createElement('div');\n",
              "          docLink.innerHTML = docLinkHtml;\n",
              "          element.appendChild(docLink);\n",
              "        }\n",
              "      </script>\n",
              "    </div>\n",
              "  </div>\n",
              "  "
            ],
            "text/plain": [
              "        item_id  sales_value    weight\n",
              "56233   6534178    467993.62  0.062970\n",
              "56193   6533889     42645.75  0.005738\n",
              "29195   1029743     37981.91  0.005111\n",
              "56228   6534166     31298.96  0.004211\n",
              "35054   1082185     27291.02  0.003672\n",
              "...         ...          ...       ...\n",
              "50764   2961522         0.00  0.000000\n",
              "70059  10121805         0.00  0.000000\n",
              "39334   1121502         0.00  0.000000\n",
              "5918     821773         0.00  0.000000\n",
              "59028   7160577         0.00  0.000000\n",
              "\n",
              "[89051 rows x 3 columns]"
            ]
          },
          "metadata": {},
          "execution_count": 9
        }
      ]
    },
    {
      "cell_type": "code",
      "execution_count": 10,
      "metadata": {
        "id": "epcBZlgJC8Y0"
      },
      "outputs": [],
      "source": [
        "test_size_weeks = 3\n",
        "\n",
        "data_train = data[data['week_no'] < data['week_no'].max() - test_size_weeks]\n",
        "data_test = data[data['week_no'] >= data['week_no'].max() - test_size_weeks]"
      ]
    },
    {
      "cell_type": "markdown",
      "metadata": {
        "id": "zlUUzLFeC8Y4"
      },
      "source": [
        "### Задание 1. Weighted Random Recommendation\n",
        "\n",
        "Напишите код для случайных рекоммендаций, в которых вероятность рекомендовать товар прямо пропорциональна логарифму продаж\n",
        "- Можно сэмплировать товары случайно, но пропорционально какому-либо весу\n",
        "- Например, прямопропорционально популярности. Вес = log(sales_sum товара)"
      ]
    },
    {
      "cell_type": "code",
      "source": [
        "def random_recommendation(items, n=5, p=None):\n",
        "    \"\"\"Случайные рекоммендации\"\"\"\n",
        "    \n",
        "    items = np.array(items)\n",
        "    recs = np.random.choice(items, size=n, replace=False, p=p)\n",
        "    \n",
        "    return recs.tolist()"
      ],
      "metadata": {
        "id": "64P-4Zi4cISG"
      },
      "execution_count": 11,
      "outputs": []
    },
    {
      "cell_type": "code",
      "execution_count": 12,
      "metadata": {
        "id": "brMuCHolC8Y4"
      },
      "outputs": [],
      "source": [
        "def weighted_random_recommendation(items_weights, n=5):\n",
        "    \"\"\"Случайные рекоммендации\n",
        "    \n",
        "    Input\n",
        "    -----\n",
        "    items_weights: pd.DataFrame\n",
        "        Датафрейм со столбцами item_id, weight. Сумма weight по всем товарам = 1\n",
        "    \"\"\"\n",
        "    \n",
        "    # Подсказка: необходимо модифицировать функцию random_recommendation()\n",
        "    # your_code\n",
        "    recs = np.random.choice(items_weights['item_id'], size=n, replace=False, p=items_weights['weight'])\n",
        "\n",
        "    \n",
        "    return recs.tolist()"
      ]
    },
    {
      "cell_type": "code",
      "execution_count": 14,
      "metadata": {
        "id": "nK_AS3tmC8Y7",
        "outputId": "af1fecc2-26f9-4c9a-d557-c871b0621dc5",
        "colab": {
          "base_uri": "https://localhost:8080/"
        }
      },
      "outputs": [
        {
          "output_type": "execute_result",
          "data": {
            "text/plain": [
              "[1055911, 7410168, 9527290, 995242, 865456]"
            ]
          },
          "metadata": {},
          "execution_count": 14
        }
      ],
      "source": [
        "# your_code\n",
        "\n",
        "weighted_random_recommendation(popularity)"
      ]
    },
    {
      "cell_type": "markdown",
      "metadata": {
        "id": "hyNG6O-wC8Y_"
      },
      "source": [
        "### Задание 2. Расчет метрик\n",
        "Рассчитайте Precision@5 для каждого алгоритма с помощью функции из вебинара 1. Какой алгоритм показывает лучшее качество?"
      ]
    },
    {
      "cell_type": "code",
      "source": [
        "def precision_at_k(recommended_list, bought_list, k=5):\n",
        "    \n",
        "    bought_list = np.array(bought_list)\n",
        "    recommended_list = np.array(recommended_list)\n",
        "    \n",
        "    bought_list = bought_list  # Тут нет [:k] !!\n",
        "    recommended_list = recommended_list[:k]\n",
        "    \n",
        "    flags = np.isin(bought_list, recommended_list)\n",
        "    \n",
        "    precision = flags.sum() / len(recommended_list)\n",
        "    \n",
        "    \n",
        "    return precision"
      ],
      "metadata": {
        "id": "RsmMVwSK_vch"
      },
      "execution_count": 3,
      "outputs": []
    },
    {
      "cell_type": "code",
      "execution_count": 29,
      "metadata": {
        "id": "36HtRgm8C8ZA",
        "outputId": "9e080452-0f74-4323-c8d2-d9018077b050",
        "colab": {
          "base_uri": "https://localhost:8080/",
          "height": 223
        }
      },
      "outputs": [
        {
          "output_type": "execute_result",
          "data": {
            "text/html": [
              "\n",
              "  <div id=\"df-d936ed4e-d4d4-4222-bc6c-5e30e863b2e2\">\n",
              "    <div class=\"colab-df-container\">\n",
              "      <div>\n",
              "<style scoped>\n",
              "    .dataframe tbody tr th:only-of-type {\n",
              "        vertical-align: middle;\n",
              "    }\n",
              "\n",
              "    .dataframe tbody tr th {\n",
              "        vertical-align: top;\n",
              "    }\n",
              "\n",
              "    .dataframe thead th {\n",
              "        text-align: right;\n",
              "    }\n",
              "</style>\n",
              "<table border=\"1\" class=\"dataframe\">\n",
              "  <thead>\n",
              "    <tr style=\"text-align: right;\">\n",
              "      <th></th>\n",
              "      <th>user_id</th>\n",
              "      <th>actual</th>\n",
              "      <th>random_recommendation</th>\n",
              "      <th>popular_recommendation</th>\n",
              "      <th>itemitem</th>\n",
              "      <th>cosine</th>\n",
              "      <th>tfidf</th>\n",
              "      <th>own_purchases</th>\n",
              "    </tr>\n",
              "  </thead>\n",
              "  <tbody>\n",
              "    <tr>\n",
              "      <th>0</th>\n",
              "      <td>1</td>\n",
              "      <td>[  821867   834484   856942   865456   889248 ...</td>\n",
              "      <td>[553111, 990130, 14025228, 8091299, 855288]</td>\n",
              "      <td>[6534178, 6533889, 1029743, 6534166, 1082185]</td>\n",
              "      <td>[999999, 1082185, 981760, 1127831, 995242]</td>\n",
              "      <td>[1082185, 999999, 981760, 1127831, 1098066]</td>\n",
              "      <td>[1082185, 981760, 1127831, 999999, 1098066]</td>\n",
              "      <td>[1082185, 1029743, 995785, 1004906, 1081177]</td>\n",
              "    </tr>\n",
              "    <tr>\n",
              "      <th>1</th>\n",
              "      <td>3</td>\n",
              "      <td>[  835476   851057   872021   878302   879948 ...</td>\n",
              "      <td>[8155825, 1841061, 946817, 1541203, 8203466]</td>\n",
              "      <td>[6534178, 6533889, 1029743, 6534166, 1082185]</td>\n",
              "      <td>[999999, 1082185, 981760, 1098066, 995242]</td>\n",
              "      <td>[1082185, 1098066, 981760, 999999, 826249]</td>\n",
              "      <td>[1082185, 981760, 1098066, 826249, 999999]</td>\n",
              "      <td>[1082185, 1098066, 6534178, 1127831, 1068719]</td>\n",
              "    </tr>\n",
              "  </tbody>\n",
              "</table>\n",
              "</div>\n",
              "      <button class=\"colab-df-convert\" onclick=\"convertToInteractive('df-d936ed4e-d4d4-4222-bc6c-5e30e863b2e2')\"\n",
              "              title=\"Convert this dataframe to an interactive table.\"\n",
              "              style=\"display:none;\">\n",
              "        \n",
              "  <svg xmlns=\"http://www.w3.org/2000/svg\" height=\"24px\"viewBox=\"0 0 24 24\"\n",
              "       width=\"24px\">\n",
              "    <path d=\"M0 0h24v24H0V0z\" fill=\"none\"/>\n",
              "    <path d=\"M18.56 5.44l.94 2.06.94-2.06 2.06-.94-2.06-.94-.94-2.06-.94 2.06-2.06.94zm-11 1L8.5 8.5l.94-2.06 2.06-.94-2.06-.94L8.5 2.5l-.94 2.06-2.06.94zm10 10l.94 2.06.94-2.06 2.06-.94-2.06-.94-.94-2.06-.94 2.06-2.06.94z\"/><path d=\"M17.41 7.96l-1.37-1.37c-.4-.4-.92-.59-1.43-.59-.52 0-1.04.2-1.43.59L10.3 9.45l-7.72 7.72c-.78.78-.78 2.05 0 2.83L4 21.41c.39.39.9.59 1.41.59.51 0 1.02-.2 1.41-.59l7.78-7.78 2.81-2.81c.8-.78.8-2.07 0-2.86zM5.41 20L4 18.59l7.72-7.72 1.47 1.35L5.41 20z\"/>\n",
              "  </svg>\n",
              "      </button>\n",
              "      \n",
              "  <style>\n",
              "    .colab-df-container {\n",
              "      display:flex;\n",
              "      flex-wrap:wrap;\n",
              "      gap: 12px;\n",
              "    }\n",
              "\n",
              "    .colab-df-convert {\n",
              "      background-color: #E8F0FE;\n",
              "      border: none;\n",
              "      border-radius: 50%;\n",
              "      cursor: pointer;\n",
              "      display: none;\n",
              "      fill: #1967D2;\n",
              "      height: 32px;\n",
              "      padding: 0 0 0 0;\n",
              "      width: 32px;\n",
              "    }\n",
              "\n",
              "    .colab-df-convert:hover {\n",
              "      background-color: #E2EBFA;\n",
              "      box-shadow: 0px 1px 2px rgba(60, 64, 67, 0.3), 0px 1px 3px 1px rgba(60, 64, 67, 0.15);\n",
              "      fill: #174EA6;\n",
              "    }\n",
              "\n",
              "    [theme=dark] .colab-df-convert {\n",
              "      background-color: #3B4455;\n",
              "      fill: #D2E3FC;\n",
              "    }\n",
              "\n",
              "    [theme=dark] .colab-df-convert:hover {\n",
              "      background-color: #434B5C;\n",
              "      box-shadow: 0px 1px 3px 1px rgba(0, 0, 0, 0.15);\n",
              "      filter: drop-shadow(0px 1px 2px rgba(0, 0, 0, 0.3));\n",
              "      fill: #FFFFFF;\n",
              "    }\n",
              "  </style>\n",
              "\n",
              "      <script>\n",
              "        const buttonEl =\n",
              "          document.querySelector('#df-d936ed4e-d4d4-4222-bc6c-5e30e863b2e2 button.colab-df-convert');\n",
              "        buttonEl.style.display =\n",
              "          google.colab.kernel.accessAllowed ? 'block' : 'none';\n",
              "\n",
              "        async function convertToInteractive(key) {\n",
              "          const element = document.querySelector('#df-d936ed4e-d4d4-4222-bc6c-5e30e863b2e2');\n",
              "          const dataTable =\n",
              "            await google.colab.kernel.invokeFunction('convertToInteractive',\n",
              "                                                     [key], {});\n",
              "          if (!dataTable) return;\n",
              "\n",
              "          const docLinkHtml = 'Like what you see? Visit the ' +\n",
              "            '<a target=\"_blank\" href=https://colab.research.google.com/notebooks/data_table.ipynb>data table notebook</a>'\n",
              "            + ' to learn more about interactive tables.';\n",
              "          element.innerHTML = '';\n",
              "          dataTable['output_type'] = 'display_data';\n",
              "          await google.colab.output.renderOutput(dataTable, element);\n",
              "          const docLink = document.createElement('div');\n",
              "          docLink.innerHTML = docLinkHtml;\n",
              "          element.appendChild(docLink);\n",
              "        }\n",
              "      </script>\n",
              "    </div>\n",
              "  </div>\n",
              "  "
            ],
            "text/plain": [
              "   user_id  ...                                  own_purchases\n",
              "0        1  ...   [1082185, 1029743, 995785, 1004906, 1081177]\n",
              "1        3  ...  [1082185, 1098066, 6534178, 1127831, 1068719]\n",
              "\n",
              "[2 rows x 8 columns]"
            ]
          },
          "metadata": {},
          "execution_count": 29
        }
      ],
      "source": [
        "result = pd.read_csv('/gdrive/MyDrive/predictions_basic.csv',)\n",
        "result.head(2)"
      ]
    },
    {
      "cell_type": "code",
      "source": [
        "columns = ['actual', 'random_recommendation', 'popular_recommendation',\n",
        "       'itemitem', 'cosine', 'tfidf', 'own_purchases',]"
      ],
      "metadata": {
        "id": "pUKjOk4dvuAp"
      },
      "execution_count": 30,
      "outputs": []
    },
    {
      "cell_type": "code",
      "source": [
        "for itm in columns:\n",
        "  result[itm] = [[int(idx) for idx in list(filter(None, x.replace('\\n', ' ').replace(',', '').strip('[').strip(']').strip('\\n').strip(' ').split(' ')))] for x in result[itm]]"
      ],
      "metadata": {
        "id": "fZYmUOxavQWJ"
      },
      "execution_count": 31,
      "outputs": []
    },
    {
      "cell_type": "code",
      "source": [
        "columns.remove('actual')"
      ],
      "metadata": {
        "id": "A_X59CVLycHC"
      },
      "execution_count": 32,
      "outputs": []
    },
    {
      "cell_type": "code",
      "source": [
        "precision = result.copy()"
      ],
      "metadata": {
        "id": "DEbfsuvCUDuz"
      },
      "execution_count": 33,
      "outputs": []
    },
    {
      "cell_type": "code",
      "source": [
        "for itm in columns:\n",
        "  precision[itm] = result.apply(lambda x: precision_at_k(x[itm], x['actual']), axis=1)"
      ],
      "metadata": {
        "colab": {
          "base_uri": "https://localhost:8080/"
        },
        "id": "pnWiP-UgyoH_",
        "outputId": "af54ccd6-fa60-4b54-ca21-ca07f2e4ad3d"
      },
      "execution_count": 34,
      "outputs": [
        {
          "output_type": "stream",
          "name": "stderr",
          "text": [
            "/usr/local/lib/python3.7/dist-packages/ipykernel_launcher.py:11: RuntimeWarning: invalid value encountered in long_scalars\n",
            "  # This is added back by InteractiveShellApp.init_path()\n"
          ]
        }
      ]
    },
    {
      "cell_type": "code",
      "source": [
        "precision = precision[['random_recommendation', 'popular_recommendation', 'itemitem', 'cosine',\t'tfidf',\t'own_purchases']].mean()"
      ],
      "metadata": {
        "id": "zzDM4rGBVb8l"
      },
      "execution_count": 35,
      "outputs": []
    },
    {
      "cell_type": "code",
      "source": [
        "precision"
      ],
      "metadata": {
        "colab": {
          "base_uri": "https://localhost:8080/"
        },
        "id": "XT586XBVVh94",
        "outputId": "855263de-8822-488d-e2c0-929c9f7152dc"
      },
      "execution_count": 36,
      "outputs": [
        {
          "output_type": "execute_result",
          "data": {
            "text/plain": [
              "random_recommendation     0.000392\n",
              "popular_recommendation    0.155240\n",
              "itemitem                  0.136925\n",
              "cosine                    0.132909\n",
              "tfidf                     0.138981\n",
              "own_purchases             0.201917\n",
              "dtype: float64"
            ]
          },
          "metadata": {},
          "execution_count": 36
        }
      ]
    },
    {
      "cell_type": "markdown",
      "source": [
        "Лучшее качество показала рекомандация купленых товаров"
      ],
      "metadata": {
        "id": "ANVO-wlHVs8O"
      }
    },
    {
      "cell_type": "markdown",
      "metadata": {
        "id": "igDU0j1cC8ZH"
      },
      "source": [
        "### Задание 3*. Улучшение бейзлайнов и ItemItem\n",
        "\n",
        "- Попробуйте улучшить бейзлайны, считая их на топ-5000 товаров\n",
        "- Попробуйте улучшить разные варианты ItemItemRecommender, выбирая число соседей $K$."
      ]
    },
    {
      "cell_type": "code",
      "execution_count": null,
      "metadata": {
        "id": "zYBR3cMPC8ZH"
      },
      "outputs": [],
      "source": [
        "# your_code"
      ]
    }
  ],
  "metadata": {
    "colab": {
      "name": "hw_webinar_2.ipynb",
      "provenance": [],
      "collapsed_sections": [],
      "include_colab_link": true
    },
    "kernelspec": {
      "display_name": "Python 3 (ipykernel)",
      "language": "python",
      "name": "python3"
    },
    "language_info": {
      "codemirror_mode": {
        "name": "ipython",
        "version": 3
      },
      "file_extension": ".py",
      "mimetype": "text/x-python",
      "name": "python",
      "nbconvert_exporter": "python",
      "pygments_lexer": "ipython3",
      "version": "3.8.12"
    }
  },
  "nbformat": 4,
  "nbformat_minor": 0
}