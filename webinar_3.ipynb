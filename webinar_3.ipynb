{
  "cells": [
    {
      "cell_type": "markdown",
      "metadata": {
        "id": "view-in-github",
        "colab_type": "text"
      },
      "source": [
        "<a href=\"https://colab.research.google.com/github/OlegV12/Rec-Sys/blob/Lesson_3/webinar_3.ipynb\" target=\"_parent\"><img src=\"https://colab.research.google.com/assets/colab-badge.svg\" alt=\"Open In Colab\"/></a>"
      ]
    },
    {
      "cell_type": "markdown",
      "metadata": {
        "id": "y-NKXfLpIHyS"
      },
      "source": [
        "# Вебинар 3. Коллаборативная фильтрация"
      ]
    },
    {
      "cell_type": "markdown",
      "metadata": {
        "id": "2wqsdRrTIHyc"
      },
      "source": [
        "Исчерпывающую информацию с теорией, кодом и примерами можно найти в [статье](https://www.ethanrosenthal.com/2016/10/19/implicit-mf-part-1/)"
      ]
    },
    {
      "cell_type": "markdown",
      "metadata": {
        "id": "6ovfF6vdIHyd"
      },
      "source": [
        "# 1. Матричная факторизация"
      ]
    },
    {
      "cell_type": "markdown",
      "metadata": {
        "id": "PvC1iGQgIHyd"
      },
      "source": [
        "Раскладываем user-item матрицу на 2: матрицу латентных факторов юзеров и матрицу латентных факторов товаров\n",
        "\n",
        "- латентый фактор = эмбеддинг (embedding)    "
      ]
    },
    {
      "cell_type": "markdown",
      "metadata": {
        "id": "6TAuWYOrIHye"
      },
      "source": [
        "<img src='mf.png'>"
      ]
    },
    {
      "cell_type": "code",
      "execution_count": null,
      "metadata": {
        "id": "uu-wpChNzZcw"
      },
      "outputs": [],
      "source": [
        "(UхI) = (Uхk) * (kхI)"
      ]
    },
    {
      "cell_type": "markdown",
      "metadata": {
        "id": "wJxPaKgQIHyf"
      },
      "source": [
        "---"
      ]
    },
    {
      "cell_type": "markdown",
      "metadata": {
        "id": "ki3YNNTWzZcx"
      },
      "source": [
        "![image.png](attachment:image.png)"
      ]
    },
    {
      "cell_type": "markdown",
      "metadata": {
        "id": "_boxK1R8IHyf"
      },
      "source": [
        "## Alternating Least Squares (ALS)"
      ]
    },
    {
      "cell_type": "markdown",
      "metadata": {
        "id": "t_p01jzNzZcy"
      },
      "source": [
        "<img src=\"als_formula.png\" >"
      ]
    },
    {
      "cell_type": "markdown",
      "metadata": {
        "id": "v5JZh2OlIHyg"
      },
      "source": [
        "$x_u^T$ - user embeddings  \n",
        "$y_i$ - item embeddings  \n",
        "$p_{ui}$ - 0/1. 1 - если в матрице user-item эдемент > 0 (было взаимодействие)  \n",
        "$c_{ui}$ - Вес ошибки = элемент матрицы user-item  \n",
        "$\\lambda_x$, $\\lambda_y$ - коэффициенты регуляризации  "
      ]
    },
    {
      "cell_type": "markdown",
      "metadata": {
        "id": "fMy8aBzGIHyg"
      },
      "source": [
        "**Алгоритм**  \n",
        "ALS - лишь способ оптимизации (поиска коэффициентов в эмбеддингах):  \n",
        "\n",
        "1. Фиксируем эмбеддинги юзеров $x_u^T$ --> легко посчитать производную по эмбеддингам товаров $y_i$\n",
        "2. Обновляем эмбеддинги товаров (делаем шаг по антиградиенту = градиентный спуск)\n",
        "3. Фиксируем эмбеддинги товаров $y_i$ --> легко посчитать производную по эмбеддингам юзеров $x_u^T$\n",
        "4. Обновляем эмбеддинги юзеров (делаем шаг по антиградиенту = градиентный спуск)\n",
        "5. Повторяем, пока процедура не сойдется"
      ]
    },
    {
      "cell_type": "markdown",
      "metadata": {
        "id": "7BIbRcukIHyh"
      },
      "source": [
        "**Плюсы**\n",
        "- Очень быстрый\n",
        "- В продакшене можно зафиксировать на весь день эмбеддинги товаров (товары за день не меняются), \n",
        "    и в реал-тайм обновлять эмбеддинги юзеров при покупке\n",
        "- Есть регуляризация $\\lambda_x$, $\\lambda_y$\n",
        "- Есть веса ошибок $с_{u_i}$ - элементы матрицы user-item\n",
        "- Библиотека implicit под капотом использует Cyton - очень быстро работает\n",
        "- Predict для *всех* юзеров можно сделать просто перемножением 2-ух матриц - очень быстро\n",
        "- Можно применять различные **взвешивания** матрицы: TF-IDF, BM25, ... . Это сильно улучшает качество"
      ]
    },
    {
      "cell_type": "markdown",
      "metadata": {
        "id": "XvVWxLAcIHyh"
      },
      "source": [
        "### 1. Базовое применение"
      ]
    },
    {
      "cell_type": "code",
      "execution_count": null,
      "metadata": {
        "id": "3D-E0qEWzZc1",
        "outputId": "f8199600-f6f0-4b1b-ca63-9cb6b4059136"
      },
      "outputs": [
        {
          "name": "stdout",
          "output_type": "stream",
          "text": [
            "Collecting implicit\n",
            "  Downloading implicit-0.4.8.tar.gz (1.1 MB)\n",
            "\u001b[K     |████████████████████████████████| 1.1 MB 1.1 MB/s \n",
            "\u001b[?25h  Installing build dependencies ... \u001b[?25ldone\n",
            "\u001b[?25h  Getting requirements to build wheel ... \u001b[?25ldone\n",
            "\u001b[?25h  Installing backend dependencies ... \u001b[?25ldone\n",
            "\u001b[?25h    Preparing wheel metadata ... \u001b[?25ldone\n",
            "\u001b[?25hRequirement already satisfied: scipy>=0.16 in /Users/olegvolobuev/opt/anaconda3/lib/python3.9/site-packages (from implicit) (1.7.1)\n",
            "Requirement already satisfied: numpy in /Users/olegvolobuev/opt/anaconda3/lib/python3.9/site-packages (from implicit) (1.20.3)\n",
            "Requirement already satisfied: tqdm>=4.27 in /Users/olegvolobuev/opt/anaconda3/lib/python3.9/site-packages (from implicit) (4.62.3)\n",
            "Building wheels for collected packages: implicit\n",
            "  Building wheel for implicit (PEP 517) ... \u001b[?25ldone\n",
            "\u001b[?25h  Created wheel for implicit: filename=implicit-0.4.8-cp39-cp39-macosx_10_9_x86_64.whl size=739026 sha256=795e2a4e02ba46653a856e939a04e4486f05236daa373ff62cbcd3bba070a6bf\n",
            "  Stored in directory: /Users/olegvolobuev/Library/Caches/pip/wheels/2d/0a/a4/6aea635157daf166f50276da2f2ceb04d17f5e37cb3f171ac7\n",
            "Successfully built implicit\n",
            "Installing collected packages: implicit\n",
            "Successfully installed implicit-0.4.8\n",
            "Note: you may need to restart the kernel to use updated packages.\n"
          ]
        }
      ],
      "source": [
        "pip install implicit"
      ]
    },
    {
      "cell_type": "code",
      "execution_count": null,
      "metadata": {
        "id": "gdbpCE-gIHyi"
      },
      "outputs": [],
      "source": [
        "import pandas as pd\n",
        "import numpy as np\n",
        "import matplotlib.pyplot as plt\n",
        "%matplotlib inline\n",
        "\n",
        "# Для работы с матрицами\n",
        "from scipy.sparse import csr_matrix\n",
        "\n",
        "# Матричная факторизация\n",
        "from implicit.als import AlternatingLeastSquares\n",
        "from implicit.nearest_neighbours import bm25_weight, tfidf_weight\n",
        "\n",
        "# Функции из 1-ого вебинара\n",
        "import os, sys\n",
        "\n",
        "module_path = os.path.abspath(os.path.join(os.pardir))\n",
        "if module_path not in sys.path:\n",
        "    sys.path.append(module_path)\n",
        "    \n",
        "from metrics import precision_at_k, recall_at_k"
      ]
    },
    {
      "cell_type": "code",
      "execution_count": null,
      "metadata": {
        "id": "2IhaU8JDIHyi",
        "outputId": "a3a22636-04a2-4ad4-9774-e0c5cbcd6a09"
      },
      "outputs": [
        {
          "data": {
            "text/html": [
              "<div>\n",
              "<style scoped>\n",
              "    .dataframe tbody tr th:only-of-type {\n",
              "        vertical-align: middle;\n",
              "    }\n",
              "\n",
              "    .dataframe tbody tr th {\n",
              "        vertical-align: top;\n",
              "    }\n",
              "\n",
              "    .dataframe thead th {\n",
              "        text-align: right;\n",
              "    }\n",
              "</style>\n",
              "<table border=\"1\" class=\"dataframe\">\n",
              "  <thead>\n",
              "    <tr style=\"text-align: right;\">\n",
              "      <th></th>\n",
              "      <th>user_id</th>\n",
              "      <th>basket_id</th>\n",
              "      <th>day</th>\n",
              "      <th>item_id</th>\n",
              "      <th>quantity</th>\n",
              "      <th>sales_value</th>\n",
              "      <th>store_id</th>\n",
              "      <th>retail_disc</th>\n",
              "      <th>trans_time</th>\n",
              "      <th>week_no</th>\n",
              "      <th>coupon_disc</th>\n",
              "      <th>coupon_match_disc</th>\n",
              "    </tr>\n",
              "  </thead>\n",
              "  <tbody>\n",
              "    <tr>\n",
              "      <th>0</th>\n",
              "      <td>2375</td>\n",
              "      <td>26984851472</td>\n",
              "      <td>1</td>\n",
              "      <td>1004906</td>\n",
              "      <td>1</td>\n",
              "      <td>1.39</td>\n",
              "      <td>364</td>\n",
              "      <td>-0.60</td>\n",
              "      <td>1631</td>\n",
              "      <td>1</td>\n",
              "      <td>0.0</td>\n",
              "      <td>0.0</td>\n",
              "    </tr>\n",
              "    <tr>\n",
              "      <th>1</th>\n",
              "      <td>2375</td>\n",
              "      <td>26984851472</td>\n",
              "      <td>1</td>\n",
              "      <td>1033142</td>\n",
              "      <td>1</td>\n",
              "      <td>0.82</td>\n",
              "      <td>364</td>\n",
              "      <td>0.00</td>\n",
              "      <td>1631</td>\n",
              "      <td>1</td>\n",
              "      <td>0.0</td>\n",
              "      <td>0.0</td>\n",
              "    </tr>\n",
              "    <tr>\n",
              "      <th>2</th>\n",
              "      <td>2375</td>\n",
              "      <td>26984851472</td>\n",
              "      <td>1</td>\n",
              "      <td>1036325</td>\n",
              "      <td>1</td>\n",
              "      <td>0.99</td>\n",
              "      <td>364</td>\n",
              "      <td>-0.30</td>\n",
              "      <td>1631</td>\n",
              "      <td>1</td>\n",
              "      <td>0.0</td>\n",
              "      <td>0.0</td>\n",
              "    </tr>\n",
              "    <tr>\n",
              "      <th>3</th>\n",
              "      <td>2375</td>\n",
              "      <td>26984851472</td>\n",
              "      <td>1</td>\n",
              "      <td>1082185</td>\n",
              "      <td>1</td>\n",
              "      <td>1.21</td>\n",
              "      <td>364</td>\n",
              "      <td>0.00</td>\n",
              "      <td>1631</td>\n",
              "      <td>1</td>\n",
              "      <td>0.0</td>\n",
              "      <td>0.0</td>\n",
              "    </tr>\n",
              "    <tr>\n",
              "      <th>4</th>\n",
              "      <td>2375</td>\n",
              "      <td>26984851472</td>\n",
              "      <td>1</td>\n",
              "      <td>8160430</td>\n",
              "      <td>1</td>\n",
              "      <td>1.50</td>\n",
              "      <td>364</td>\n",
              "      <td>-0.39</td>\n",
              "      <td>1631</td>\n",
              "      <td>1</td>\n",
              "      <td>0.0</td>\n",
              "      <td>0.0</td>\n",
              "    </tr>\n",
              "    <tr>\n",
              "      <th>5</th>\n",
              "      <td>2375</td>\n",
              "      <td>26984851516</td>\n",
              "      <td>1</td>\n",
              "      <td>826249</td>\n",
              "      <td>2</td>\n",
              "      <td>1.98</td>\n",
              "      <td>364</td>\n",
              "      <td>-0.60</td>\n",
              "      <td>1642</td>\n",
              "      <td>1</td>\n",
              "      <td>0.0</td>\n",
              "      <td>0.0</td>\n",
              "    </tr>\n",
              "    <tr>\n",
              "      <th>6</th>\n",
              "      <td>2375</td>\n",
              "      <td>26984851516</td>\n",
              "      <td>1</td>\n",
              "      <td>1043142</td>\n",
              "      <td>1</td>\n",
              "      <td>1.57</td>\n",
              "      <td>364</td>\n",
              "      <td>-0.68</td>\n",
              "      <td>1642</td>\n",
              "      <td>1</td>\n",
              "      <td>0.0</td>\n",
              "      <td>0.0</td>\n",
              "    </tr>\n",
              "    <tr>\n",
              "      <th>7</th>\n",
              "      <td>2375</td>\n",
              "      <td>26984851516</td>\n",
              "      <td>1</td>\n",
              "      <td>1085983</td>\n",
              "      <td>1</td>\n",
              "      <td>2.99</td>\n",
              "      <td>364</td>\n",
              "      <td>-0.40</td>\n",
              "      <td>1642</td>\n",
              "      <td>1</td>\n",
              "      <td>0.0</td>\n",
              "      <td>0.0</td>\n",
              "    </tr>\n",
              "    <tr>\n",
              "      <th>8</th>\n",
              "      <td>2375</td>\n",
              "      <td>26984851516</td>\n",
              "      <td>1</td>\n",
              "      <td>1102651</td>\n",
              "      <td>1</td>\n",
              "      <td>1.89</td>\n",
              "      <td>364</td>\n",
              "      <td>0.00</td>\n",
              "      <td>1642</td>\n",
              "      <td>1</td>\n",
              "      <td>0.0</td>\n",
              "      <td>0.0</td>\n",
              "    </tr>\n",
              "    <tr>\n",
              "      <th>9</th>\n",
              "      <td>2375</td>\n",
              "      <td>26984851516</td>\n",
              "      <td>1</td>\n",
              "      <td>6423775</td>\n",
              "      <td>1</td>\n",
              "      <td>2.00</td>\n",
              "      <td>364</td>\n",
              "      <td>-0.79</td>\n",
              "      <td>1642</td>\n",
              "      <td>1</td>\n",
              "      <td>0.0</td>\n",
              "      <td>0.0</td>\n",
              "    </tr>\n",
              "  </tbody>\n",
              "</table>\n",
              "</div>"
            ],
            "text/plain": [
              "   user_id    basket_id  day  item_id  quantity  sales_value  store_id  \\\n",
              "0     2375  26984851472    1  1004906         1         1.39       364   \n",
              "1     2375  26984851472    1  1033142         1         0.82       364   \n",
              "2     2375  26984851472    1  1036325         1         0.99       364   \n",
              "3     2375  26984851472    1  1082185         1         1.21       364   \n",
              "4     2375  26984851472    1  8160430         1         1.50       364   \n",
              "5     2375  26984851516    1   826249         2         1.98       364   \n",
              "6     2375  26984851516    1  1043142         1         1.57       364   \n",
              "7     2375  26984851516    1  1085983         1         2.99       364   \n",
              "8     2375  26984851516    1  1102651         1         1.89       364   \n",
              "9     2375  26984851516    1  6423775         1         2.00       364   \n",
              "\n",
              "   retail_disc  trans_time  week_no  coupon_disc  coupon_match_disc  \n",
              "0        -0.60        1631        1          0.0                0.0  \n",
              "1         0.00        1631        1          0.0                0.0  \n",
              "2        -0.30        1631        1          0.0                0.0  \n",
              "3         0.00        1631        1          0.0                0.0  \n",
              "4        -0.39        1631        1          0.0                0.0  \n",
              "5        -0.60        1642        1          0.0                0.0  \n",
              "6        -0.68        1642        1          0.0                0.0  \n",
              "7        -0.40        1642        1          0.0                0.0  \n",
              "8         0.00        1642        1          0.0                0.0  \n",
              "9        -0.79        1642        1          0.0                0.0  "
            ]
          },
          "execution_count": 3,
          "metadata": {},
          "output_type": "execute_result"
        }
      ],
      "source": [
        "data = pd.read_csv('retail_train.csv')\n",
        "\n",
        "data.columns = [col.lower() for col in data.columns]\n",
        "data.rename(columns={'household_key': 'user_id',\n",
        "                    'product_id': 'item_id'},\n",
        "           inplace=True)\n",
        "\n",
        "\n",
        "test_size_weeks = 3\n",
        "\n",
        "data_train = data[data['week_no'] < data['week_no'].max() - test_size_weeks]\n",
        "data_test = data[data['week_no'] >= data['week_no'].max() - test_size_weeks]\n",
        "\n",
        "data_train.head(10)"
      ]
    },
    {
      "cell_type": "code",
      "execution_count": null,
      "metadata": {
        "id": "2Csvjg-jIHyk",
        "outputId": "75eeddbb-bdc1-401e-bfcf-6a66ae46b3a3"
      },
      "outputs": [
        {
          "data": {
            "text/html": [
              "<div>\n",
              "<style scoped>\n",
              "    .dataframe tbody tr th:only-of-type {\n",
              "        vertical-align: middle;\n",
              "    }\n",
              "\n",
              "    .dataframe tbody tr th {\n",
              "        vertical-align: top;\n",
              "    }\n",
              "\n",
              "    .dataframe thead th {\n",
              "        text-align: right;\n",
              "    }\n",
              "</style>\n",
              "<table border=\"1\" class=\"dataframe\">\n",
              "  <thead>\n",
              "    <tr style=\"text-align: right;\">\n",
              "      <th></th>\n",
              "      <th>item_id</th>\n",
              "      <th>manufacturer</th>\n",
              "      <th>department</th>\n",
              "      <th>brand</th>\n",
              "      <th>commodity_desc</th>\n",
              "      <th>sub_commodity_desc</th>\n",
              "      <th>curr_size_of_product</th>\n",
              "    </tr>\n",
              "  </thead>\n",
              "  <tbody>\n",
              "    <tr>\n",
              "      <th>0</th>\n",
              "      <td>25671</td>\n",
              "      <td>2</td>\n",
              "      <td>GROCERY</td>\n",
              "      <td>National</td>\n",
              "      <td>FRZN ICE</td>\n",
              "      <td>ICE - CRUSHED/CUBED</td>\n",
              "      <td>22 LB</td>\n",
              "    </tr>\n",
              "    <tr>\n",
              "      <th>1</th>\n",
              "      <td>26081</td>\n",
              "      <td>2</td>\n",
              "      <td>MISC. TRANS.</td>\n",
              "      <td>National</td>\n",
              "      <td>NO COMMODITY DESCRIPTION</td>\n",
              "      <td>NO SUBCOMMODITY DESCRIPTION</td>\n",
              "      <td></td>\n",
              "    </tr>\n",
              "  </tbody>\n",
              "</table>\n",
              "</div>"
            ],
            "text/plain": [
              "   item_id  manufacturer    department     brand            commodity_desc  \\\n",
              "0    25671             2       GROCERY  National                  FRZN ICE   \n",
              "1    26081             2  MISC. TRANS.  National  NO COMMODITY DESCRIPTION   \n",
              "\n",
              "            sub_commodity_desc curr_size_of_product  \n",
              "0          ICE - CRUSHED/CUBED                22 LB  \n",
              "1  NO SUBCOMMODITY DESCRIPTION                       "
            ]
          },
          "execution_count": 4,
          "metadata": {},
          "output_type": "execute_result"
        }
      ],
      "source": [
        "item_features = pd.read_csv('product.csv')\n",
        "item_features.columns = [col.lower() for col in item_features.columns]\n",
        "item_features.rename(columns={'product_id': 'item_id'}, inplace=True)\n",
        "\n",
        "item_features.head(2)"
      ]
    },
    {
      "cell_type": "code",
      "execution_count": null,
      "metadata": {
        "id": "ZQna6TBQIHyk",
        "outputId": "7728607d-5b4d-4ce8-f30f-79072af648d2"
      },
      "outputs": [
        {
          "data": {
            "text/plain": [
              "array(['GROCERY', 'MISC. TRANS.', 'PASTRY', 'DRUG GM', 'MEAT-PCKGD',\n",
              "       'SEAFOOD-PCKGD', 'PRODUCE', 'NUTRITION', 'DELI', 'COSMETICS',\n",
              "       'MEAT', 'FLORAL', 'TRAVEL & LEISUR', 'SEAFOOD', 'MISC SALES TRAN',\n",
              "       'SALAD BAR', 'KIOSK-GAS', 'ELECT &PLUMBING', 'GRO BAKERY',\n",
              "       'GM MERCH EXP', 'FROZEN GROCERY', 'COUP/STR & MFG', 'SPIRITS',\n",
              "       'GARDEN CENTER', 'TOYS', 'CHARITABLE CONT', 'RESTAURANT', 'RX',\n",
              "       'PROD-WHS SALES', 'MEAT-WHSE', 'DAIRY DELI', 'CHEF SHOPPE', 'HBC',\n",
              "       'DELI/SNACK BAR', 'PORK', 'AUTOMOTIVE', 'VIDEO RENTAL', ' ',\n",
              "       'CNTRL/STORE SUP', 'HOUSEWARES', 'POSTAL CENTER', 'PHOTO', 'VIDEO',\n",
              "       'PHARMACY SUPPLY'], dtype=object)"
            ]
          },
          "execution_count": 5,
          "metadata": {},
          "output_type": "execute_result"
        }
      ],
      "source": [
        "item_features.department.unique()"
      ]
    },
    {
      "cell_type": "code",
      "execution_count": null,
      "metadata": {
        "id": "vBJcGBpTIHyl",
        "outputId": "612dfe1f-286b-4d81-af92-721c6e317b6c"
      },
      "outputs": [
        {
          "data": {
            "text/html": [
              "<div>\n",
              "<style scoped>\n",
              "    .dataframe tbody tr th:only-of-type {\n",
              "        vertical-align: middle;\n",
              "    }\n",
              "\n",
              "    .dataframe tbody tr th {\n",
              "        vertical-align: top;\n",
              "    }\n",
              "\n",
              "    .dataframe thead th {\n",
              "        text-align: right;\n",
              "    }\n",
              "</style>\n",
              "<table border=\"1\" class=\"dataframe\">\n",
              "  <thead>\n",
              "    <tr style=\"text-align: right;\">\n",
              "      <th></th>\n",
              "      <th>user_id</th>\n",
              "      <th>actual</th>\n",
              "    </tr>\n",
              "  </thead>\n",
              "  <tbody>\n",
              "    <tr>\n",
              "      <th>0</th>\n",
              "      <td>1</td>\n",
              "      <td>[821867, 834484, 856942, 865456, 889248, 90795...</td>\n",
              "    </tr>\n",
              "    <tr>\n",
              "      <th>1</th>\n",
              "      <td>3</td>\n",
              "      <td>[835476, 851057, 872021, 878302, 879948, 90963...</td>\n",
              "    </tr>\n",
              "  </tbody>\n",
              "</table>\n",
              "</div>"
            ],
            "text/plain": [
              "   user_id                                             actual\n",
              "0        1  [821867, 834484, 856942, 865456, 889248, 90795...\n",
              "1        3  [835476, 851057, 872021, 878302, 879948, 90963..."
            ]
          },
          "execution_count": 6,
          "metadata": {},
          "output_type": "execute_result"
        }
      ],
      "source": [
        "result = data_test.groupby('user_id')['item_id'].unique().reset_index()\n",
        "result.columns=['user_id', 'actual']\n",
        "result.head(2)"
      ]
    },
    {
      "cell_type": "code",
      "execution_count": null,
      "metadata": {
        "id": "9dmp1II9IHyl"
      },
      "outputs": [],
      "source": [
        "popularity = data_train.groupby('item_id')['quantity'].sum().reset_index()\n",
        "popularity.rename(columns={'quantity': 'n_sold'}, inplace=True)\n",
        "\n",
        "top_5000 = popularity.sort_values('n_sold', ascending=False).head(5000).item_id.tolist()"
      ]
    },
    {
      "cell_type": "code",
      "execution_count": null,
      "metadata": {
        "id": "TFrjyT40zZc5",
        "outputId": "d41f7091-f2a3-4e9a-9757-8e445fd11231"
      },
      "outputs": [
        {
          "data": {
            "text/html": [
              "<div>\n",
              "<style scoped>\n",
              "    .dataframe tbody tr th:only-of-type {\n",
              "        vertical-align: middle;\n",
              "    }\n",
              "\n",
              "    .dataframe tbody tr th {\n",
              "        vertical-align: top;\n",
              "    }\n",
              "\n",
              "    .dataframe thead th {\n",
              "        text-align: right;\n",
              "    }\n",
              "</style>\n",
              "<table border=\"1\" class=\"dataframe\">\n",
              "  <thead>\n",
              "    <tr style=\"text-align: right;\">\n",
              "      <th></th>\n",
              "      <th>user_id</th>\n",
              "      <th>basket_id</th>\n",
              "      <th>day</th>\n",
              "      <th>item_id</th>\n",
              "      <th>quantity</th>\n",
              "      <th>sales_value</th>\n",
              "      <th>store_id</th>\n",
              "      <th>retail_disc</th>\n",
              "      <th>trans_time</th>\n",
              "      <th>week_no</th>\n",
              "      <th>coupon_disc</th>\n",
              "      <th>coupon_match_disc</th>\n",
              "    </tr>\n",
              "  </thead>\n",
              "  <tbody>\n",
              "    <tr>\n",
              "      <th>0</th>\n",
              "      <td>2375</td>\n",
              "      <td>26984851472</td>\n",
              "      <td>1</td>\n",
              "      <td>1004906</td>\n",
              "      <td>1</td>\n",
              "      <td>1.39</td>\n",
              "      <td>364</td>\n",
              "      <td>-0.60</td>\n",
              "      <td>1631</td>\n",
              "      <td>1</td>\n",
              "      <td>0.0</td>\n",
              "      <td>0.0</td>\n",
              "    </tr>\n",
              "    <tr>\n",
              "      <th>1</th>\n",
              "      <td>2375</td>\n",
              "      <td>26984851472</td>\n",
              "      <td>1</td>\n",
              "      <td>1033142</td>\n",
              "      <td>1</td>\n",
              "      <td>0.82</td>\n",
              "      <td>364</td>\n",
              "      <td>0.00</td>\n",
              "      <td>1631</td>\n",
              "      <td>1</td>\n",
              "      <td>0.0</td>\n",
              "      <td>0.0</td>\n",
              "    </tr>\n",
              "    <tr>\n",
              "      <th>2</th>\n",
              "      <td>2375</td>\n",
              "      <td>26984851472</td>\n",
              "      <td>1</td>\n",
              "      <td>1036325</td>\n",
              "      <td>1</td>\n",
              "      <td>0.99</td>\n",
              "      <td>364</td>\n",
              "      <td>-0.30</td>\n",
              "      <td>1631</td>\n",
              "      <td>1</td>\n",
              "      <td>0.0</td>\n",
              "      <td>0.0</td>\n",
              "    </tr>\n",
              "    <tr>\n",
              "      <th>3</th>\n",
              "      <td>2375</td>\n",
              "      <td>26984851472</td>\n",
              "      <td>1</td>\n",
              "      <td>1082185</td>\n",
              "      <td>1</td>\n",
              "      <td>1.21</td>\n",
              "      <td>364</td>\n",
              "      <td>0.00</td>\n",
              "      <td>1631</td>\n",
              "      <td>1</td>\n",
              "      <td>0.0</td>\n",
              "      <td>0.0</td>\n",
              "    </tr>\n",
              "    <tr>\n",
              "      <th>4</th>\n",
              "      <td>2375</td>\n",
              "      <td>26984851472</td>\n",
              "      <td>1</td>\n",
              "      <td>8160430</td>\n",
              "      <td>1</td>\n",
              "      <td>1.50</td>\n",
              "      <td>364</td>\n",
              "      <td>-0.39</td>\n",
              "      <td>1631</td>\n",
              "      <td>1</td>\n",
              "      <td>0.0</td>\n",
              "      <td>0.0</td>\n",
              "    </tr>\n",
              "  </tbody>\n",
              "</table>\n",
              "</div>"
            ],
            "text/plain": [
              "   user_id    basket_id  day  item_id  quantity  sales_value  store_id  \\\n",
              "0     2375  26984851472    1  1004906         1         1.39       364   \n",
              "1     2375  26984851472    1  1033142         1         0.82       364   \n",
              "2     2375  26984851472    1  1036325         1         0.99       364   \n",
              "3     2375  26984851472    1  1082185         1         1.21       364   \n",
              "4     2375  26984851472    1  8160430         1         1.50       364   \n",
              "\n",
              "   retail_disc  trans_time  week_no  coupon_disc  coupon_match_disc  \n",
              "0        -0.60        1631        1          0.0                0.0  \n",
              "1         0.00        1631        1          0.0                0.0  \n",
              "2        -0.30        1631        1          0.0                0.0  \n",
              "3         0.00        1631        1          0.0                0.0  \n",
              "4        -0.39        1631        1          0.0                0.0  "
            ]
          },
          "execution_count": 8,
          "metadata": {},
          "output_type": "execute_result"
        }
      ],
      "source": [
        "data_train.head(5)"
      ]
    },
    {
      "cell_type": "code",
      "execution_count": null,
      "metadata": {
        "id": "jvQ8_CJ9IHym",
        "outputId": "ebf07e9a-6f11-4aa9-d43d-98c0055ec42d"
      },
      "outputs": [
        {
          "name": "stderr",
          "output_type": "stream",
          "text": [
            "/Users/olegvolobuev/opt/anaconda3/lib/python3.9/site-packages/pandas/core/indexing.py:1817: SettingWithCopyWarning: \n",
            "A value is trying to be set on a copy of a slice from a DataFrame.\n",
            "Try using .loc[row_indexer,col_indexer] = value instead\n",
            "\n",
            "See the caveats in the documentation: https://pandas.pydata.org/pandas-docs/stable/user_guide/indexing.html#returning-a-view-versus-a-copy\n",
            "  self._setitem_single_column(loc, value, pi)\n"
          ]
        },
        {
          "data": {
            "text/html": [
              "<div>\n",
              "<style scoped>\n",
              "    .dataframe tbody tr th:only-of-type {\n",
              "        vertical-align: middle;\n",
              "    }\n",
              "\n",
              "    .dataframe tbody tr th {\n",
              "        vertical-align: top;\n",
              "    }\n",
              "\n",
              "    .dataframe thead th {\n",
              "        text-align: right;\n",
              "    }\n",
              "</style>\n",
              "<table border=\"1\" class=\"dataframe\">\n",
              "  <thead>\n",
              "    <tr style=\"text-align: right;\">\n",
              "      <th>item_id</th>\n",
              "      <th>202291</th>\n",
              "      <th>397896</th>\n",
              "      <th>420647</th>\n",
              "      <th>480014</th>\n",
              "      <th>545926</th>\n",
              "      <th>707683</th>\n",
              "      <th>731106</th>\n",
              "      <th>818980</th>\n",
              "      <th>819063</th>\n",
              "      <th>819227</th>\n",
              "      <th>...</th>\n",
              "      <th>15778533</th>\n",
              "      <th>15831255</th>\n",
              "      <th>15926712</th>\n",
              "      <th>15926775</th>\n",
              "      <th>15926844</th>\n",
              "      <th>15926886</th>\n",
              "      <th>15927403</th>\n",
              "      <th>15927661</th>\n",
              "      <th>15927850</th>\n",
              "      <th>16809471</th>\n",
              "    </tr>\n",
              "    <tr>\n",
              "      <th>user_id</th>\n",
              "      <th></th>\n",
              "      <th></th>\n",
              "      <th></th>\n",
              "      <th></th>\n",
              "      <th></th>\n",
              "      <th></th>\n",
              "      <th></th>\n",
              "      <th></th>\n",
              "      <th></th>\n",
              "      <th></th>\n",
              "      <th></th>\n",
              "      <th></th>\n",
              "      <th></th>\n",
              "      <th></th>\n",
              "      <th></th>\n",
              "      <th></th>\n",
              "      <th></th>\n",
              "      <th></th>\n",
              "      <th></th>\n",
              "      <th></th>\n",
              "      <th></th>\n",
              "    </tr>\n",
              "  </thead>\n",
              "  <tbody>\n",
              "    <tr>\n",
              "      <th>1</th>\n",
              "      <td>0.0</td>\n",
              "      <td>0.0</td>\n",
              "      <td>0.0</td>\n",
              "      <td>0.0</td>\n",
              "      <td>0.0</td>\n",
              "      <td>0.0</td>\n",
              "      <td>0.0</td>\n",
              "      <td>0.0</td>\n",
              "      <td>0.0</td>\n",
              "      <td>0.0</td>\n",
              "      <td>...</td>\n",
              "      <td>0.0</td>\n",
              "      <td>0.0</td>\n",
              "      <td>0.0</td>\n",
              "      <td>0.0</td>\n",
              "      <td>1.0</td>\n",
              "      <td>0.0</td>\n",
              "      <td>0.0</td>\n",
              "      <td>0.0</td>\n",
              "      <td>0.0</td>\n",
              "      <td>0.0</td>\n",
              "    </tr>\n",
              "    <tr>\n",
              "      <th>2</th>\n",
              "      <td>0.0</td>\n",
              "      <td>0.0</td>\n",
              "      <td>0.0</td>\n",
              "      <td>0.0</td>\n",
              "      <td>0.0</td>\n",
              "      <td>0.0</td>\n",
              "      <td>0.0</td>\n",
              "      <td>0.0</td>\n",
              "      <td>0.0</td>\n",
              "      <td>0.0</td>\n",
              "      <td>...</td>\n",
              "      <td>0.0</td>\n",
              "      <td>0.0</td>\n",
              "      <td>0.0</td>\n",
              "      <td>0.0</td>\n",
              "      <td>0.0</td>\n",
              "      <td>0.0</td>\n",
              "      <td>0.0</td>\n",
              "      <td>0.0</td>\n",
              "      <td>0.0</td>\n",
              "      <td>0.0</td>\n",
              "    </tr>\n",
              "    <tr>\n",
              "      <th>3</th>\n",
              "      <td>0.0</td>\n",
              "      <td>0.0</td>\n",
              "      <td>0.0</td>\n",
              "      <td>0.0</td>\n",
              "      <td>0.0</td>\n",
              "      <td>0.0</td>\n",
              "      <td>0.0</td>\n",
              "      <td>0.0</td>\n",
              "      <td>0.0</td>\n",
              "      <td>0.0</td>\n",
              "      <td>...</td>\n",
              "      <td>0.0</td>\n",
              "      <td>0.0</td>\n",
              "      <td>0.0</td>\n",
              "      <td>0.0</td>\n",
              "      <td>0.0</td>\n",
              "      <td>0.0</td>\n",
              "      <td>0.0</td>\n",
              "      <td>0.0</td>\n",
              "      <td>0.0</td>\n",
              "      <td>0.0</td>\n",
              "    </tr>\n",
              "  </tbody>\n",
              "</table>\n",
              "<p>3 rows × 5001 columns</p>\n",
              "</div>"
            ],
            "text/plain": [
              "item_id  202291    397896    420647    480014    545926    707683    731106    \\\n",
              "user_id                                                                         \n",
              "1             0.0       0.0       0.0       0.0       0.0       0.0       0.0   \n",
              "2             0.0       0.0       0.0       0.0       0.0       0.0       0.0   \n",
              "3             0.0       0.0       0.0       0.0       0.0       0.0       0.0   \n",
              "\n",
              "item_id  818980    819063    819227    ...  15778533  15831255  15926712  \\\n",
              "user_id                                ...                                 \n",
              "1             0.0       0.0       0.0  ...       0.0       0.0       0.0   \n",
              "2             0.0       0.0       0.0  ...       0.0       0.0       0.0   \n",
              "3             0.0       0.0       0.0  ...       0.0       0.0       0.0   \n",
              "\n",
              "item_id  15926775  15926844  15926886  15927403  15927661  15927850  16809471  \n",
              "user_id                                                                        \n",
              "1             0.0       1.0       0.0       0.0       0.0       0.0       0.0  \n",
              "2             0.0       0.0       0.0       0.0       0.0       0.0       0.0  \n",
              "3             0.0       0.0       0.0       0.0       0.0       0.0       0.0  \n",
              "\n",
              "[3 rows x 5001 columns]"
            ]
          },
          "execution_count": 9,
          "metadata": {},
          "output_type": "execute_result"
        }
      ],
      "source": [
        "# Заведем фиктивный item_id\n",
        "\n",
        "data_train.loc[~data_train['item_id'].isin(top_5000), 'item_id'] = 999999\n",
        "\n",
        "user_item_matrix = pd.pivot_table(data_train, \n",
        "                                  index='user_id', columns='item_id', \n",
        "                                  values='quantity', # Можно пробовать другие варианты\n",
        "                                  aggfunc='count', \n",
        "                                  fill_value=0\n",
        "                                 )\n",
        "\n",
        "user_item_matrix = user_item_matrix.astype(float) # необходимый тип матрицы для implicit\n",
        "\n",
        "# переведем в формат saprse matrix\n",
        "sparse_user_item = csr_matrix(user_item_matrix).tocsr()\n",
        "\n",
        "user_item_matrix.head(3)"
      ]
    },
    {
      "cell_type": "code",
      "execution_count": null,
      "metadata": {
        "id": "E5zphWkBzZc6",
        "outputId": "67c1af85-858b-4ce6-977e-e3b319d37fbf"
      },
      "outputs": [
        {
          "data": {
            "text/html": [
              "<div>\n",
              "<style scoped>\n",
              "    .dataframe tbody tr th:only-of-type {\n",
              "        vertical-align: middle;\n",
              "    }\n",
              "\n",
              "    .dataframe tbody tr th {\n",
              "        vertical-align: top;\n",
              "    }\n",
              "\n",
              "    .dataframe thead th {\n",
              "        text-align: right;\n",
              "    }\n",
              "</style>\n",
              "<table border=\"1\" class=\"dataframe\">\n",
              "  <thead>\n",
              "    <tr style=\"text-align: right;\">\n",
              "      <th>item_id</th>\n",
              "      <th>202291</th>\n",
              "      <th>397896</th>\n",
              "      <th>420647</th>\n",
              "      <th>480014</th>\n",
              "      <th>545926</th>\n",
              "      <th>707683</th>\n",
              "      <th>731106</th>\n",
              "      <th>818980</th>\n",
              "      <th>819063</th>\n",
              "      <th>819227</th>\n",
              "      <th>...</th>\n",
              "      <th>15778533</th>\n",
              "      <th>15831255</th>\n",
              "      <th>15926712</th>\n",
              "      <th>15926775</th>\n",
              "      <th>15926844</th>\n",
              "      <th>15926886</th>\n",
              "      <th>15927403</th>\n",
              "      <th>15927661</th>\n",
              "      <th>15927850</th>\n",
              "      <th>16809471</th>\n",
              "    </tr>\n",
              "    <tr>\n",
              "      <th>user_id</th>\n",
              "      <th></th>\n",
              "      <th></th>\n",
              "      <th></th>\n",
              "      <th></th>\n",
              "      <th></th>\n",
              "      <th></th>\n",
              "      <th></th>\n",
              "      <th></th>\n",
              "      <th></th>\n",
              "      <th></th>\n",
              "      <th></th>\n",
              "      <th></th>\n",
              "      <th></th>\n",
              "      <th></th>\n",
              "      <th></th>\n",
              "      <th></th>\n",
              "      <th></th>\n",
              "      <th></th>\n",
              "      <th></th>\n",
              "      <th></th>\n",
              "      <th></th>\n",
              "    </tr>\n",
              "  </thead>\n",
              "  <tbody>\n",
              "    <tr>\n",
              "      <th>1</th>\n",
              "      <td>0.0</td>\n",
              "      <td>0.0</td>\n",
              "      <td>0.0</td>\n",
              "      <td>0.0</td>\n",
              "      <td>0.0</td>\n",
              "      <td>0.0</td>\n",
              "      <td>0.0</td>\n",
              "      <td>0.0</td>\n",
              "      <td>0.0</td>\n",
              "      <td>0.0</td>\n",
              "      <td>...</td>\n",
              "      <td>0.0</td>\n",
              "      <td>0.0</td>\n",
              "      <td>0.0</td>\n",
              "      <td>0.0</td>\n",
              "      <td>1.0</td>\n",
              "      <td>0.0</td>\n",
              "      <td>0.0</td>\n",
              "      <td>0.0</td>\n",
              "      <td>0.0</td>\n",
              "      <td>0.0</td>\n",
              "    </tr>\n",
              "    <tr>\n",
              "      <th>2</th>\n",
              "      <td>0.0</td>\n",
              "      <td>0.0</td>\n",
              "      <td>0.0</td>\n",
              "      <td>0.0</td>\n",
              "      <td>0.0</td>\n",
              "      <td>0.0</td>\n",
              "      <td>0.0</td>\n",
              "      <td>0.0</td>\n",
              "      <td>0.0</td>\n",
              "      <td>0.0</td>\n",
              "      <td>...</td>\n",
              "      <td>0.0</td>\n",
              "      <td>0.0</td>\n",
              "      <td>0.0</td>\n",
              "      <td>0.0</td>\n",
              "      <td>0.0</td>\n",
              "      <td>0.0</td>\n",
              "      <td>0.0</td>\n",
              "      <td>0.0</td>\n",
              "      <td>0.0</td>\n",
              "      <td>0.0</td>\n",
              "    </tr>\n",
              "    <tr>\n",
              "      <th>3</th>\n",
              "      <td>0.0</td>\n",
              "      <td>0.0</td>\n",
              "      <td>0.0</td>\n",
              "      <td>0.0</td>\n",
              "      <td>0.0</td>\n",
              "      <td>0.0</td>\n",
              "      <td>0.0</td>\n",
              "      <td>0.0</td>\n",
              "      <td>0.0</td>\n",
              "      <td>0.0</td>\n",
              "      <td>...</td>\n",
              "      <td>0.0</td>\n",
              "      <td>0.0</td>\n",
              "      <td>0.0</td>\n",
              "      <td>0.0</td>\n",
              "      <td>0.0</td>\n",
              "      <td>0.0</td>\n",
              "      <td>0.0</td>\n",
              "      <td>0.0</td>\n",
              "      <td>0.0</td>\n",
              "      <td>0.0</td>\n",
              "    </tr>\n",
              "    <tr>\n",
              "      <th>4</th>\n",
              "      <td>0.0</td>\n",
              "      <td>0.0</td>\n",
              "      <td>0.0</td>\n",
              "      <td>0.0</td>\n",
              "      <td>0.0</td>\n",
              "      <td>0.0</td>\n",
              "      <td>0.0</td>\n",
              "      <td>0.0</td>\n",
              "      <td>0.0</td>\n",
              "      <td>0.0</td>\n",
              "      <td>...</td>\n",
              "      <td>0.0</td>\n",
              "      <td>0.0</td>\n",
              "      <td>0.0</td>\n",
              "      <td>0.0</td>\n",
              "      <td>0.0</td>\n",
              "      <td>0.0</td>\n",
              "      <td>0.0</td>\n",
              "      <td>0.0</td>\n",
              "      <td>0.0</td>\n",
              "      <td>0.0</td>\n",
              "    </tr>\n",
              "    <tr>\n",
              "      <th>5</th>\n",
              "      <td>0.0</td>\n",
              "      <td>0.0</td>\n",
              "      <td>0.0</td>\n",
              "      <td>0.0</td>\n",
              "      <td>0.0</td>\n",
              "      <td>0.0</td>\n",
              "      <td>0.0</td>\n",
              "      <td>0.0</td>\n",
              "      <td>0.0</td>\n",
              "      <td>0.0</td>\n",
              "      <td>...</td>\n",
              "      <td>0.0</td>\n",
              "      <td>0.0</td>\n",
              "      <td>0.0</td>\n",
              "      <td>0.0</td>\n",
              "      <td>0.0</td>\n",
              "      <td>0.0</td>\n",
              "      <td>0.0</td>\n",
              "      <td>0.0</td>\n",
              "      <td>0.0</td>\n",
              "      <td>0.0</td>\n",
              "    </tr>\n",
              "    <tr>\n",
              "      <th>...</th>\n",
              "      <td>...</td>\n",
              "      <td>...</td>\n",
              "      <td>...</td>\n",
              "      <td>...</td>\n",
              "      <td>...</td>\n",
              "      <td>...</td>\n",
              "      <td>...</td>\n",
              "      <td>...</td>\n",
              "      <td>...</td>\n",
              "      <td>...</td>\n",
              "      <td>...</td>\n",
              "      <td>...</td>\n",
              "      <td>...</td>\n",
              "      <td>...</td>\n",
              "      <td>...</td>\n",
              "      <td>...</td>\n",
              "      <td>...</td>\n",
              "      <td>...</td>\n",
              "      <td>...</td>\n",
              "      <td>...</td>\n",
              "      <td>...</td>\n",
              "    </tr>\n",
              "    <tr>\n",
              "      <th>2496</th>\n",
              "      <td>0.0</td>\n",
              "      <td>0.0</td>\n",
              "      <td>0.0</td>\n",
              "      <td>0.0</td>\n",
              "      <td>0.0</td>\n",
              "      <td>0.0</td>\n",
              "      <td>0.0</td>\n",
              "      <td>0.0</td>\n",
              "      <td>0.0</td>\n",
              "      <td>0.0</td>\n",
              "      <td>...</td>\n",
              "      <td>0.0</td>\n",
              "      <td>0.0</td>\n",
              "      <td>0.0</td>\n",
              "      <td>0.0</td>\n",
              "      <td>0.0</td>\n",
              "      <td>0.0</td>\n",
              "      <td>0.0</td>\n",
              "      <td>0.0</td>\n",
              "      <td>0.0</td>\n",
              "      <td>0.0</td>\n",
              "    </tr>\n",
              "    <tr>\n",
              "      <th>2497</th>\n",
              "      <td>0.0</td>\n",
              "      <td>0.0</td>\n",
              "      <td>0.0</td>\n",
              "      <td>0.0</td>\n",
              "      <td>0.0</td>\n",
              "      <td>0.0</td>\n",
              "      <td>0.0</td>\n",
              "      <td>0.0</td>\n",
              "      <td>0.0</td>\n",
              "      <td>0.0</td>\n",
              "      <td>...</td>\n",
              "      <td>0.0</td>\n",
              "      <td>1.0</td>\n",
              "      <td>0.0</td>\n",
              "      <td>0.0</td>\n",
              "      <td>0.0</td>\n",
              "      <td>0.0</td>\n",
              "      <td>0.0</td>\n",
              "      <td>0.0</td>\n",
              "      <td>0.0</td>\n",
              "      <td>0.0</td>\n",
              "    </tr>\n",
              "    <tr>\n",
              "      <th>2498</th>\n",
              "      <td>2.0</td>\n",
              "      <td>0.0</td>\n",
              "      <td>0.0</td>\n",
              "      <td>0.0</td>\n",
              "      <td>0.0</td>\n",
              "      <td>0.0</td>\n",
              "      <td>0.0</td>\n",
              "      <td>0.0</td>\n",
              "      <td>0.0</td>\n",
              "      <td>0.0</td>\n",
              "      <td>...</td>\n",
              "      <td>0.0</td>\n",
              "      <td>0.0</td>\n",
              "      <td>0.0</td>\n",
              "      <td>0.0</td>\n",
              "      <td>0.0</td>\n",
              "      <td>0.0</td>\n",
              "      <td>0.0</td>\n",
              "      <td>0.0</td>\n",
              "      <td>0.0</td>\n",
              "      <td>0.0</td>\n",
              "    </tr>\n",
              "    <tr>\n",
              "      <th>2499</th>\n",
              "      <td>0.0</td>\n",
              "      <td>0.0</td>\n",
              "      <td>0.0</td>\n",
              "      <td>0.0</td>\n",
              "      <td>0.0</td>\n",
              "      <td>0.0</td>\n",
              "      <td>0.0</td>\n",
              "      <td>0.0</td>\n",
              "      <td>0.0</td>\n",
              "      <td>0.0</td>\n",
              "      <td>...</td>\n",
              "      <td>0.0</td>\n",
              "      <td>0.0</td>\n",
              "      <td>0.0</td>\n",
              "      <td>0.0</td>\n",
              "      <td>0.0</td>\n",
              "      <td>0.0</td>\n",
              "      <td>0.0</td>\n",
              "      <td>0.0</td>\n",
              "      <td>0.0</td>\n",
              "      <td>0.0</td>\n",
              "    </tr>\n",
              "    <tr>\n",
              "      <th>2500</th>\n",
              "      <td>0.0</td>\n",
              "      <td>0.0</td>\n",
              "      <td>0.0</td>\n",
              "      <td>0.0</td>\n",
              "      <td>0.0</td>\n",
              "      <td>0.0</td>\n",
              "      <td>0.0</td>\n",
              "      <td>0.0</td>\n",
              "      <td>0.0</td>\n",
              "      <td>0.0</td>\n",
              "      <td>...</td>\n",
              "      <td>0.0</td>\n",
              "      <td>0.0</td>\n",
              "      <td>0.0</td>\n",
              "      <td>0.0</td>\n",
              "      <td>0.0</td>\n",
              "      <td>0.0</td>\n",
              "      <td>0.0</td>\n",
              "      <td>0.0</td>\n",
              "      <td>0.0</td>\n",
              "      <td>0.0</td>\n",
              "    </tr>\n",
              "  </tbody>\n",
              "</table>\n",
              "<p>2499 rows × 5001 columns</p>\n",
              "</div>"
            ],
            "text/plain": [
              "item_id  202291    397896    420647    480014    545926    707683    731106    \\\n",
              "user_id                                                                         \n",
              "1             0.0       0.0       0.0       0.0       0.0       0.0       0.0   \n",
              "2             0.0       0.0       0.0       0.0       0.0       0.0       0.0   \n",
              "3             0.0       0.0       0.0       0.0       0.0       0.0       0.0   \n",
              "4             0.0       0.0       0.0       0.0       0.0       0.0       0.0   \n",
              "5             0.0       0.0       0.0       0.0       0.0       0.0       0.0   \n",
              "...           ...       ...       ...       ...       ...       ...       ...   \n",
              "2496          0.0       0.0       0.0       0.0       0.0       0.0       0.0   \n",
              "2497          0.0       0.0       0.0       0.0       0.0       0.0       0.0   \n",
              "2498          2.0       0.0       0.0       0.0       0.0       0.0       0.0   \n",
              "2499          0.0       0.0       0.0       0.0       0.0       0.0       0.0   \n",
              "2500          0.0       0.0       0.0       0.0       0.0       0.0       0.0   \n",
              "\n",
              "item_id  818980    819063    819227    ...  15778533  15831255  15926712  \\\n",
              "user_id                                ...                                 \n",
              "1             0.0       0.0       0.0  ...       0.0       0.0       0.0   \n",
              "2             0.0       0.0       0.0  ...       0.0       0.0       0.0   \n",
              "3             0.0       0.0       0.0  ...       0.0       0.0       0.0   \n",
              "4             0.0       0.0       0.0  ...       0.0       0.0       0.0   \n",
              "5             0.0       0.0       0.0  ...       0.0       0.0       0.0   \n",
              "...           ...       ...       ...  ...       ...       ...       ...   \n",
              "2496          0.0       0.0       0.0  ...       0.0       0.0       0.0   \n",
              "2497          0.0       0.0       0.0  ...       0.0       1.0       0.0   \n",
              "2498          0.0       0.0       0.0  ...       0.0       0.0       0.0   \n",
              "2499          0.0       0.0       0.0  ...       0.0       0.0       0.0   \n",
              "2500          0.0       0.0       0.0  ...       0.0       0.0       0.0   \n",
              "\n",
              "item_id  15926775  15926844  15926886  15927403  15927661  15927850  16809471  \n",
              "user_id                                                                        \n",
              "1             0.0       1.0       0.0       0.0       0.0       0.0       0.0  \n",
              "2             0.0       0.0       0.0       0.0       0.0       0.0       0.0  \n",
              "3             0.0       0.0       0.0       0.0       0.0       0.0       0.0  \n",
              "4             0.0       0.0       0.0       0.0       0.0       0.0       0.0  \n",
              "5             0.0       0.0       0.0       0.0       0.0       0.0       0.0  \n",
              "...           ...       ...       ...       ...       ...       ...       ...  \n",
              "2496          0.0       0.0       0.0       0.0       0.0       0.0       0.0  \n",
              "2497          0.0       0.0       0.0       0.0       0.0       0.0       0.0  \n",
              "2498          0.0       0.0       0.0       0.0       0.0       0.0       0.0  \n",
              "2499          0.0       0.0       0.0       0.0       0.0       0.0       0.0  \n",
              "2500          0.0       0.0       0.0       0.0       0.0       0.0       0.0  \n",
              "\n",
              "[2499 rows x 5001 columns]"
            ]
          },
          "execution_count": 10,
          "metadata": {},
          "output_type": "execute_result"
        }
      ],
      "source": [
        "user_item_matrix"
      ]
    },
    {
      "cell_type": "code",
      "execution_count": null,
      "metadata": {
        "id": "TiPuXLb7IHym"
      },
      "outputs": [],
      "source": [
        "userids = user_item_matrix.index.values\n",
        "itemids = user_item_matrix.columns.values\n",
        "\n",
        "matrix_userids = np.arange(len(userids))\n",
        "matrix_itemids = np.arange(len(itemids))\n",
        "\n",
        "id_to_itemid = dict(zip(matrix_itemids, itemids))\n",
        "id_to_userid = dict(zip(matrix_userids, userids))\n",
        "\n",
        "itemid_to_id = dict(zip(itemids, matrix_itemids))\n",
        "userid_to_id = dict(zip(userids, matrix_userids))"
      ]
    },
    {
      "cell_type": "code",
      "execution_count": null,
      "metadata": {
        "id": "p92SN2eGzZc7",
        "outputId": "ef95cdac-cc0d-46e5-f798-76c1b3bf75d0"
      },
      "outputs": [
        {
          "data": {
            "text/plain": [
              "1983"
            ]
          },
          "execution_count": 12,
          "metadata": {},
          "output_type": "execute_result"
        }
      ],
      "source": [
        "userid_to_id[1984]"
      ]
    },
    {
      "cell_type": "markdown",
      "metadata": {
        "id": "Bz8Mk-ZVzZc7"
      },
      "source": [
        "# ALS"
      ]
    },
    {
      "cell_type": "code",
      "execution_count": null,
      "metadata": {
        "colab": {
          "referenced_widgets": [
            "f86969ff8f854a2cb5128440a2a2734e"
          ]
        },
        "id": "3DlT5ppEIHyn",
        "outputId": "c5207262-0dfc-4e42-91bc-e9754aad1906"
      },
      "outputs": [
        {
          "name": "stderr",
          "output_type": "stream",
          "text": [
            "WARNING:root:Intel MKL BLAS detected. Its highly recommend to set the environment variable 'export MKL_NUM_THREADS=1' to disable its internal multithreading\n",
            "100%|██████████| 15/15 [00:05<00:00,  2.71it/s, loss=0.0409]\n"
          ]
        },
        {
          "name": "stdout",
          "output_type": "stream",
          "text": [
            "CPU times: user 22 s, sys: 466 ms, total: 22.5 s\n",
            "Wall time: 5.99 s\n"
          ]
        }
      ],
      "source": [
        "%%time\n",
        "\n",
        "model = AlternatingLeastSquares(factors=100, \n",
        "                                regularization=0.001,\n",
        "                                iterations=15, \n",
        "                                calculate_training_loss=True, \n",
        "                                num_threads=4)\n",
        "\n",
        "model.fit(csr_matrix(user_item_matrix).T.tocsr(),  # На вход item-user matrix\n",
        "          show_progress=True)\n",
        "\n",
        "recs = model.recommend(userid=userid_to_id[2],  # userid - id от 0 до N\n",
        "                        user_items=csr_matrix(user_item_matrix).tocsr(),   # на вход user-item matrix\n",
        "                        N=5, # кол-во рекомендаций \n",
        "                        filter_already_liked_items=False, \n",
        "                        filter_items=None, \n",
        "                        recalculate_user=True)"
      ]
    },
    {
      "cell_type": "code",
      "execution_count": null,
      "metadata": {
        "id": "NJR0pKy4IHyn",
        "outputId": "f8ea5a18-2e98-43fe-9ec4-5a6f530bf258"
      },
      "outputs": [
        {
          "data": {
            "text/plain": [
              "[1133018, 1106523, 999999, 1082185, 1068719]"
            ]
          },
          "execution_count": 14,
          "metadata": {},
          "output_type": "execute_result"
        }
      ],
      "source": [
        "[id_to_itemid[rec[0]] for rec in recs]"
      ]
    },
    {
      "cell_type": "code",
      "execution_count": null,
      "metadata": {
        "id": "m2MhJPAcIHyo"
      },
      "outputs": [],
      "source": [
        "def get_recommendations(user, model, N=5):\n",
        "    res = [id_to_itemid[rec[0]] for rec in \n",
        "                    model.recommend(userid=userid_to_id[user], \n",
        "                                    user_items=sparse_user_item,   # на вход user-item matrix\n",
        "                                    N=N, \n",
        "                                    filter_already_liked_items=False, \n",
        "                                    filter_items=None, \n",
        "                                    recalculate_user=True)]\n",
        "    return res"
      ]
    },
    {
      "cell_type": "code",
      "execution_count": null,
      "metadata": {
        "id": "-zbMDYN4IHyo",
        "outputId": "a042ce17-abe1-4b75-aedb-53a3f5c8d839"
      },
      "outputs": [
        {
          "name": "stdout",
          "output_type": "stream",
          "text": [
            "CPU times: user 1min 19s, sys: 3.01 s, total: 1min 22s\n",
            "Wall time: 21.2 s\n"
          ]
        },
        {
          "data": {
            "text/plain": [
              "0.1637610186092045"
            ]
          },
          "execution_count": 16,
          "metadata": {},
          "output_type": "execute_result"
        }
      ],
      "source": [
        "%%time\n",
        "    \n",
        "result['als'] = result['user_id'].apply(lambda x: get_recommendations(x, model=model, N=5))\n",
        "result.apply(lambda row: precision_at_k(row['als'], row['actual']), axis=1).mean()"
      ]
    },
    {
      "cell_type": "code",
      "execution_count": null,
      "metadata": {
        "id": "9TqsTlZEIHyp",
        "outputId": "e040c9f0-75ff-4b9d-ab7b-329e30dc5e09"
      },
      "outputs": [
        {
          "data": {
            "text/html": [
              "<div>\n",
              "<style scoped>\n",
              "    .dataframe tbody tr th:only-of-type {\n",
              "        vertical-align: middle;\n",
              "    }\n",
              "\n",
              "    .dataframe tbody tr th {\n",
              "        vertical-align: top;\n",
              "    }\n",
              "\n",
              "    .dataframe thead th {\n",
              "        text-align: right;\n",
              "    }\n",
              "</style>\n",
              "<table border=\"1\" class=\"dataframe\">\n",
              "  <thead>\n",
              "    <tr style=\"text-align: right;\">\n",
              "      <th></th>\n",
              "      <th>user_id</th>\n",
              "      <th>actual</th>\n",
              "      <th>als</th>\n",
              "    </tr>\n",
              "  </thead>\n",
              "  <tbody>\n",
              "    <tr>\n",
              "      <th>0</th>\n",
              "      <td>1</td>\n",
              "      <td>[821867, 834484, 856942, 865456, 889248, 90795...</td>\n",
              "      <td>[1033142, 5569374, 901062, 979707, 1100972]</td>\n",
              "    </tr>\n",
              "    <tr>\n",
              "      <th>1</th>\n",
              "      <td>3</td>\n",
              "      <td>[835476, 851057, 872021, 878302, 879948, 90963...</td>\n",
              "      <td>[1106523, 5568378, 910032, 826249, 1133018]</td>\n",
              "    </tr>\n",
              "  </tbody>\n",
              "</table>\n",
              "</div>"
            ],
            "text/plain": [
              "   user_id                                             actual  \\\n",
              "0        1  [821867, 834484, 856942, 865456, 889248, 90795...   \n",
              "1        3  [835476, 851057, 872021, 878302, 879948, 90963...   \n",
              "\n",
              "                                           als  \n",
              "0  [1033142, 5569374, 901062, 979707, 1100972]  \n",
              "1  [1106523, 5568378, 910032, 826249, 1133018]  "
            ]
          },
          "execution_count": 17,
          "metadata": {},
          "output_type": "execute_result"
        }
      ],
      "source": [
        "result.head(2)"
      ]
    },
    {
      "cell_type": "markdown",
      "metadata": {
        "id": "R1804WQGIHyp"
      },
      "source": [
        "### Embeddings"
      ]
    },
    {
      "cell_type": "code",
      "execution_count": null,
      "metadata": {
        "id": "_ULLM3KlIHyp",
        "outputId": "bb1f650b-2d1c-4618-9a20-698cc98e6181"
      },
      "outputs": [
        {
          "data": {
            "text/plain": [
              "(5001, 100)"
            ]
          },
          "execution_count": 18,
          "metadata": {},
          "output_type": "execute_result"
        }
      ],
      "source": [
        "model.item_factors.shape"
      ]
    },
    {
      "cell_type": "code",
      "execution_count": null,
      "metadata": {
        "id": "Eck4yUaNzZc_",
        "outputId": "a0153407-af03-47a5-ea5c-b7e80fd1610f"
      },
      "outputs": [
        {
          "data": {
            "text/html": [
              "<div>\n",
              "<style scoped>\n",
              "    .dataframe tbody tr th:only-of-type {\n",
              "        vertical-align: middle;\n",
              "    }\n",
              "\n",
              "    .dataframe tbody tr th {\n",
              "        vertical-align: top;\n",
              "    }\n",
              "\n",
              "    .dataframe thead th {\n",
              "        text-align: right;\n",
              "    }\n",
              "</style>\n",
              "<table border=\"1\" class=\"dataframe\">\n",
              "  <thead>\n",
              "    <tr style=\"text-align: right;\">\n",
              "      <th></th>\n",
              "      <th>0</th>\n",
              "      <th>1</th>\n",
              "      <th>2</th>\n",
              "      <th>3</th>\n",
              "      <th>4</th>\n",
              "      <th>5</th>\n",
              "      <th>6</th>\n",
              "      <th>7</th>\n",
              "      <th>8</th>\n",
              "      <th>9</th>\n",
              "      <th>...</th>\n",
              "      <th>90</th>\n",
              "      <th>91</th>\n",
              "      <th>92</th>\n",
              "      <th>93</th>\n",
              "      <th>94</th>\n",
              "      <th>95</th>\n",
              "      <th>96</th>\n",
              "      <th>97</th>\n",
              "      <th>98</th>\n",
              "      <th>99</th>\n",
              "    </tr>\n",
              "  </thead>\n",
              "  <tbody>\n",
              "    <tr>\n",
              "      <th>0</th>\n",
              "      <td>0.003383</td>\n",
              "      <td>-9.574292e-07</td>\n",
              "      <td>0.001871</td>\n",
              "      <td>0.002877</td>\n",
              "      <td>0.002296</td>\n",
              "      <td>0.003020</td>\n",
              "      <td>0.002138</td>\n",
              "      <td>0.001658</td>\n",
              "      <td>0.001363</td>\n",
              "      <td>0.001146</td>\n",
              "      <td>...</td>\n",
              "      <td>0.002762</td>\n",
              "      <td>0.002269</td>\n",
              "      <td>0.001191</td>\n",
              "      <td>0.004564</td>\n",
              "      <td>0.002695</td>\n",
              "      <td>0.003023</td>\n",
              "      <td>0.002301</td>\n",
              "      <td>0.002674</td>\n",
              "      <td>0.002517</td>\n",
              "      <td>0.001076</td>\n",
              "    </tr>\n",
              "    <tr>\n",
              "      <th>1</th>\n",
              "      <td>0.008280</td>\n",
              "      <td>-1.708030e-03</td>\n",
              "      <td>0.004396</td>\n",
              "      <td>-0.001802</td>\n",
              "      <td>-0.001130</td>\n",
              "      <td>0.001664</td>\n",
              "      <td>0.000710</td>\n",
              "      <td>-0.003950</td>\n",
              "      <td>0.003607</td>\n",
              "      <td>0.001490</td>\n",
              "      <td>...</td>\n",
              "      <td>0.005719</td>\n",
              "      <td>0.003204</td>\n",
              "      <td>0.003801</td>\n",
              "      <td>0.006799</td>\n",
              "      <td>0.007162</td>\n",
              "      <td>0.007383</td>\n",
              "      <td>0.006028</td>\n",
              "      <td>0.000908</td>\n",
              "      <td>0.002154</td>\n",
              "      <td>0.001081</td>\n",
              "    </tr>\n",
              "    <tr>\n",
              "      <th>2</th>\n",
              "      <td>0.003665</td>\n",
              "      <td>-1.078054e-03</td>\n",
              "      <td>0.001690</td>\n",
              "      <td>0.002261</td>\n",
              "      <td>0.000925</td>\n",
              "      <td>-0.000317</td>\n",
              "      <td>0.001393</td>\n",
              "      <td>0.001356</td>\n",
              "      <td>0.002039</td>\n",
              "      <td>-0.000340</td>\n",
              "      <td>...</td>\n",
              "      <td>0.001943</td>\n",
              "      <td>0.000833</td>\n",
              "      <td>0.000312</td>\n",
              "      <td>0.003461</td>\n",
              "      <td>0.002019</td>\n",
              "      <td>0.003702</td>\n",
              "      <td>0.002159</td>\n",
              "      <td>0.003917</td>\n",
              "      <td>-0.000861</td>\n",
              "      <td>0.004148</td>\n",
              "    </tr>\n",
              "    <tr>\n",
              "      <th>3</th>\n",
              "      <td>0.003897</td>\n",
              "      <td>7.928148e-04</td>\n",
              "      <td>0.003448</td>\n",
              "      <td>0.001234</td>\n",
              "      <td>0.003007</td>\n",
              "      <td>0.000932</td>\n",
              "      <td>0.002378</td>\n",
              "      <td>0.002342</td>\n",
              "      <td>-0.000573</td>\n",
              "      <td>0.001391</td>\n",
              "      <td>...</td>\n",
              "      <td>0.002085</td>\n",
              "      <td>0.001872</td>\n",
              "      <td>0.000255</td>\n",
              "      <td>0.004571</td>\n",
              "      <td>0.004058</td>\n",
              "      <td>0.002329</td>\n",
              "      <td>0.001814</td>\n",
              "      <td>0.000158</td>\n",
              "      <td>-0.000232</td>\n",
              "      <td>0.002054</td>\n",
              "    </tr>\n",
              "    <tr>\n",
              "      <th>4</th>\n",
              "      <td>0.001853</td>\n",
              "      <td>-5.330717e-05</td>\n",
              "      <td>0.001150</td>\n",
              "      <td>0.001714</td>\n",
              "      <td>0.001797</td>\n",
              "      <td>0.001848</td>\n",
              "      <td>0.001622</td>\n",
              "      <td>0.001651</td>\n",
              "      <td>0.001029</td>\n",
              "      <td>0.000780</td>\n",
              "      <td>...</td>\n",
              "      <td>0.002212</td>\n",
              "      <td>0.001191</td>\n",
              "      <td>0.000914</td>\n",
              "      <td>0.003042</td>\n",
              "      <td>0.002092</td>\n",
              "      <td>0.001672</td>\n",
              "      <td>0.001832</td>\n",
              "      <td>0.001533</td>\n",
              "      <td>0.001743</td>\n",
              "      <td>0.001589</td>\n",
              "    </tr>\n",
              "    <tr>\n",
              "      <th>...</th>\n",
              "      <td>...</td>\n",
              "      <td>...</td>\n",
              "      <td>...</td>\n",
              "      <td>...</td>\n",
              "      <td>...</td>\n",
              "      <td>...</td>\n",
              "      <td>...</td>\n",
              "      <td>...</td>\n",
              "      <td>...</td>\n",
              "      <td>...</td>\n",
              "      <td>...</td>\n",
              "      <td>...</td>\n",
              "      <td>...</td>\n",
              "      <td>...</td>\n",
              "      <td>...</td>\n",
              "      <td>...</td>\n",
              "      <td>...</td>\n",
              "      <td>...</td>\n",
              "      <td>...</td>\n",
              "      <td>...</td>\n",
              "      <td>...</td>\n",
              "    </tr>\n",
              "    <tr>\n",
              "      <th>4996</th>\n",
              "      <td>0.000344</td>\n",
              "      <td>2.786350e-03</td>\n",
              "      <td>0.006967</td>\n",
              "      <td>0.004760</td>\n",
              "      <td>0.007142</td>\n",
              "      <td>0.014263</td>\n",
              "      <td>0.009684</td>\n",
              "      <td>0.000615</td>\n",
              "      <td>-0.003738</td>\n",
              "      <td>-0.002113</td>\n",
              "      <td>...</td>\n",
              "      <td>0.006220</td>\n",
              "      <td>0.012149</td>\n",
              "      <td>0.003000</td>\n",
              "      <td>0.015678</td>\n",
              "      <td>0.005289</td>\n",
              "      <td>0.006061</td>\n",
              "      <td>0.013534</td>\n",
              "      <td>0.009438</td>\n",
              "      <td>0.008338</td>\n",
              "      <td>0.005182</td>\n",
              "    </tr>\n",
              "    <tr>\n",
              "      <th>4997</th>\n",
              "      <td>0.008364</td>\n",
              "      <td>8.994419e-03</td>\n",
              "      <td>0.000737</td>\n",
              "      <td>0.003135</td>\n",
              "      <td>0.004056</td>\n",
              "      <td>0.008308</td>\n",
              "      <td>0.010499</td>\n",
              "      <td>0.000251</td>\n",
              "      <td>-0.000714</td>\n",
              "      <td>0.005883</td>\n",
              "      <td>...</td>\n",
              "      <td>0.004004</td>\n",
              "      <td>0.004265</td>\n",
              "      <td>0.001656</td>\n",
              "      <td>0.009379</td>\n",
              "      <td>0.004757</td>\n",
              "      <td>0.002131</td>\n",
              "      <td>-0.001022</td>\n",
              "      <td>0.008294</td>\n",
              "      <td>0.004676</td>\n",
              "      <td>0.007774</td>\n",
              "    </tr>\n",
              "    <tr>\n",
              "      <th>4998</th>\n",
              "      <td>0.004920</td>\n",
              "      <td>3.739276e-03</td>\n",
              "      <td>0.011100</td>\n",
              "      <td>0.005288</td>\n",
              "      <td>0.003891</td>\n",
              "      <td>0.000879</td>\n",
              "      <td>0.001607</td>\n",
              "      <td>0.000993</td>\n",
              "      <td>0.001912</td>\n",
              "      <td>0.002316</td>\n",
              "      <td>...</td>\n",
              "      <td>0.008408</td>\n",
              "      <td>0.000812</td>\n",
              "      <td>-0.000104</td>\n",
              "      <td>0.005690</td>\n",
              "      <td>0.004199</td>\n",
              "      <td>0.001898</td>\n",
              "      <td>0.004864</td>\n",
              "      <td>0.002802</td>\n",
              "      <td>0.005333</td>\n",
              "      <td>0.003242</td>\n",
              "    </tr>\n",
              "    <tr>\n",
              "      <th>4999</th>\n",
              "      <td>0.004303</td>\n",
              "      <td>4.212261e-03</td>\n",
              "      <td>0.000473</td>\n",
              "      <td>0.003667</td>\n",
              "      <td>0.004551</td>\n",
              "      <td>0.007125</td>\n",
              "      <td>0.007983</td>\n",
              "      <td>0.000418</td>\n",
              "      <td>0.000972</td>\n",
              "      <td>0.005722</td>\n",
              "      <td>...</td>\n",
              "      <td>0.004486</td>\n",
              "      <td>0.002762</td>\n",
              "      <td>0.004803</td>\n",
              "      <td>0.005816</td>\n",
              "      <td>0.002878</td>\n",
              "      <td>0.004773</td>\n",
              "      <td>0.001152</td>\n",
              "      <td>0.004203</td>\n",
              "      <td>0.002356</td>\n",
              "      <td>0.002206</td>\n",
              "    </tr>\n",
              "    <tr>\n",
              "      <th>5000</th>\n",
              "      <td>0.005601</td>\n",
              "      <td>-4.893627e-03</td>\n",
              "      <td>0.005531</td>\n",
              "      <td>-0.000700</td>\n",
              "      <td>-0.000906</td>\n",
              "      <td>0.002355</td>\n",
              "      <td>0.007295</td>\n",
              "      <td>0.001360</td>\n",
              "      <td>0.005513</td>\n",
              "      <td>0.002104</td>\n",
              "      <td>...</td>\n",
              "      <td>0.000599</td>\n",
              "      <td>0.003684</td>\n",
              "      <td>0.003014</td>\n",
              "      <td>0.008171</td>\n",
              "      <td>0.002854</td>\n",
              "      <td>0.005540</td>\n",
              "      <td>0.001846</td>\n",
              "      <td>0.008796</td>\n",
              "      <td>-0.001787</td>\n",
              "      <td>-0.001954</td>\n",
              "    </tr>\n",
              "  </tbody>\n",
              "</table>\n",
              "<p>5001 rows × 100 columns</p>\n",
              "</div>"
            ],
            "text/plain": [
              "            0             1         2         3         4         5   \\\n",
              "0     0.003383 -9.574292e-07  0.001871  0.002877  0.002296  0.003020   \n",
              "1     0.008280 -1.708030e-03  0.004396 -0.001802 -0.001130  0.001664   \n",
              "2     0.003665 -1.078054e-03  0.001690  0.002261  0.000925 -0.000317   \n",
              "3     0.003897  7.928148e-04  0.003448  0.001234  0.003007  0.000932   \n",
              "4     0.001853 -5.330717e-05  0.001150  0.001714  0.001797  0.001848   \n",
              "...        ...           ...       ...       ...       ...       ...   \n",
              "4996  0.000344  2.786350e-03  0.006967  0.004760  0.007142  0.014263   \n",
              "4997  0.008364  8.994419e-03  0.000737  0.003135  0.004056  0.008308   \n",
              "4998  0.004920  3.739276e-03  0.011100  0.005288  0.003891  0.000879   \n",
              "4999  0.004303  4.212261e-03  0.000473  0.003667  0.004551  0.007125   \n",
              "5000  0.005601 -4.893627e-03  0.005531 -0.000700 -0.000906  0.002355   \n",
              "\n",
              "            6         7         8         9   ...        90        91  \\\n",
              "0     0.002138  0.001658  0.001363  0.001146  ...  0.002762  0.002269   \n",
              "1     0.000710 -0.003950  0.003607  0.001490  ...  0.005719  0.003204   \n",
              "2     0.001393  0.001356  0.002039 -0.000340  ...  0.001943  0.000833   \n",
              "3     0.002378  0.002342 -0.000573  0.001391  ...  0.002085  0.001872   \n",
              "4     0.001622  0.001651  0.001029  0.000780  ...  0.002212  0.001191   \n",
              "...        ...       ...       ...       ...  ...       ...       ...   \n",
              "4996  0.009684  0.000615 -0.003738 -0.002113  ...  0.006220  0.012149   \n",
              "4997  0.010499  0.000251 -0.000714  0.005883  ...  0.004004  0.004265   \n",
              "4998  0.001607  0.000993  0.001912  0.002316  ...  0.008408  0.000812   \n",
              "4999  0.007983  0.000418  0.000972  0.005722  ...  0.004486  0.002762   \n",
              "5000  0.007295  0.001360  0.005513  0.002104  ...  0.000599  0.003684   \n",
              "\n",
              "            92        93        94        95        96        97        98  \\\n",
              "0     0.001191  0.004564  0.002695  0.003023  0.002301  0.002674  0.002517   \n",
              "1     0.003801  0.006799  0.007162  0.007383  0.006028  0.000908  0.002154   \n",
              "2     0.000312  0.003461  0.002019  0.003702  0.002159  0.003917 -0.000861   \n",
              "3     0.000255  0.004571  0.004058  0.002329  0.001814  0.000158 -0.000232   \n",
              "4     0.000914  0.003042  0.002092  0.001672  0.001832  0.001533  0.001743   \n",
              "...        ...       ...       ...       ...       ...       ...       ...   \n",
              "4996  0.003000  0.015678  0.005289  0.006061  0.013534  0.009438  0.008338   \n",
              "4997  0.001656  0.009379  0.004757  0.002131 -0.001022  0.008294  0.004676   \n",
              "4998 -0.000104  0.005690  0.004199  0.001898  0.004864  0.002802  0.005333   \n",
              "4999  0.004803  0.005816  0.002878  0.004773  0.001152  0.004203  0.002356   \n",
              "5000  0.003014  0.008171  0.002854  0.005540  0.001846  0.008796 -0.001787   \n",
              "\n",
              "            99  \n",
              "0     0.001076  \n",
              "1     0.001081  \n",
              "2     0.004148  \n",
              "3     0.002054  \n",
              "4     0.001589  \n",
              "...        ...  \n",
              "4996  0.005182  \n",
              "4997  0.007774  \n",
              "4998  0.003242  \n",
              "4999  0.002206  \n",
              "5000 -0.001954  \n",
              "\n",
              "[5001 rows x 100 columns]"
            ]
          },
          "execution_count": 19,
          "metadata": {},
          "output_type": "execute_result"
        }
      ],
      "source": [
        "pd.DataFrame(model.item_factors)"
      ]
    },
    {
      "cell_type": "code",
      "execution_count": null,
      "metadata": {
        "id": "s0uphbU-IHyq",
        "outputId": "5a316e3e-554c-4a06-acab-8e4b7db454ef"
      },
      "outputs": [
        {
          "data": {
            "text/plain": [
              "(2499, 100)"
            ]
          },
          "execution_count": 20,
          "metadata": {},
          "output_type": "execute_result"
        }
      ],
      "source": [
        "model.user_factors.shape"
      ]
    },
    {
      "cell_type": "code",
      "execution_count": null,
      "metadata": {
        "id": "5U2SzrUUzZdA",
        "outputId": "fc4be11d-4dbc-465c-d9cd-18a5ba1af895"
      },
      "outputs": [
        {
          "data": {
            "text/html": [
              "<div>\n",
              "<style scoped>\n",
              "    .dataframe tbody tr th:only-of-type {\n",
              "        vertical-align: middle;\n",
              "    }\n",
              "\n",
              "    .dataframe tbody tr th {\n",
              "        vertical-align: top;\n",
              "    }\n",
              "\n",
              "    .dataframe thead th {\n",
              "        text-align: right;\n",
              "    }\n",
              "</style>\n",
              "<table border=\"1\" class=\"dataframe\">\n",
              "  <thead>\n",
              "    <tr style=\"text-align: right;\">\n",
              "      <th></th>\n",
              "      <th>0</th>\n",
              "      <th>1</th>\n",
              "      <th>2</th>\n",
              "      <th>3</th>\n",
              "      <th>4</th>\n",
              "      <th>5</th>\n",
              "      <th>6</th>\n",
              "      <th>7</th>\n",
              "      <th>8</th>\n",
              "      <th>9</th>\n",
              "      <th>...</th>\n",
              "      <th>90</th>\n",
              "      <th>91</th>\n",
              "      <th>92</th>\n",
              "      <th>93</th>\n",
              "      <th>94</th>\n",
              "      <th>95</th>\n",
              "      <th>96</th>\n",
              "      <th>97</th>\n",
              "      <th>98</th>\n",
              "      <th>99</th>\n",
              "    </tr>\n",
              "  </thead>\n",
              "  <tbody>\n",
              "    <tr>\n",
              "      <th>0</th>\n",
              "      <td>-3.866404</td>\n",
              "      <td>8.454132</td>\n",
              "      <td>-4.785482</td>\n",
              "      <td>1.123092</td>\n",
              "      <td>-2.274207</td>\n",
              "      <td>-1.984519</td>\n",
              "      <td>-6.545402</td>\n",
              "      <td>0.819882</td>\n",
              "      <td>-0.138653</td>\n",
              "      <td>5.242927</td>\n",
              "      <td>...</td>\n",
              "      <td>5.699349</td>\n",
              "      <td>0.178983</td>\n",
              "      <td>5.864181</td>\n",
              "      <td>-0.568903</td>\n",
              "      <td>4.972994</td>\n",
              "      <td>4.539065</td>\n",
              "      <td>2.456571</td>\n",
              "      <td>4.155649</td>\n",
              "      <td>9.444217</td>\n",
              "      <td>-0.057898</td>\n",
              "    </tr>\n",
              "    <tr>\n",
              "      <th>1</th>\n",
              "      <td>-3.255714</td>\n",
              "      <td>6.354517</td>\n",
              "      <td>-7.775851</td>\n",
              "      <td>-1.149292</td>\n",
              "      <td>-0.116315</td>\n",
              "      <td>-3.122624</td>\n",
              "      <td>-3.101767</td>\n",
              "      <td>1.636731</td>\n",
              "      <td>2.902228</td>\n",
              "      <td>3.656118</td>\n",
              "      <td>...</td>\n",
              "      <td>0.914633</td>\n",
              "      <td>-0.473968</td>\n",
              "      <td>3.413673</td>\n",
              "      <td>-3.553344</td>\n",
              "      <td>0.509258</td>\n",
              "      <td>2.768271</td>\n",
              "      <td>-1.546765</td>\n",
              "      <td>5.968383</td>\n",
              "      <td>2.747404</td>\n",
              "      <td>-1.261289</td>\n",
              "    </tr>\n",
              "    <tr>\n",
              "      <th>2</th>\n",
              "      <td>-4.715375</td>\n",
              "      <td>4.127140</td>\n",
              "      <td>-4.370194</td>\n",
              "      <td>-2.398620</td>\n",
              "      <td>5.044291</td>\n",
              "      <td>1.782812</td>\n",
              "      <td>-1.618998</td>\n",
              "      <td>-2.760494</td>\n",
              "      <td>6.445065</td>\n",
              "      <td>1.948441</td>\n",
              "      <td>...</td>\n",
              "      <td>-1.059677</td>\n",
              "      <td>-1.340740</td>\n",
              "      <td>6.802534</td>\n",
              "      <td>-7.411885</td>\n",
              "      <td>2.647225</td>\n",
              "      <td>-2.857255</td>\n",
              "      <td>1.856406</td>\n",
              "      <td>2.811481</td>\n",
              "      <td>-3.294527</td>\n",
              "      <td>-1.945906</td>\n",
              "    </tr>\n",
              "    <tr>\n",
              "      <th>3</th>\n",
              "      <td>-1.786034</td>\n",
              "      <td>3.380124</td>\n",
              "      <td>-3.429362</td>\n",
              "      <td>-3.435444</td>\n",
              "      <td>0.951772</td>\n",
              "      <td>-3.506691</td>\n",
              "      <td>-2.781303</td>\n",
              "      <td>0.505593</td>\n",
              "      <td>2.521434</td>\n",
              "      <td>-0.044218</td>\n",
              "      <td>...</td>\n",
              "      <td>2.217704</td>\n",
              "      <td>-2.376210</td>\n",
              "      <td>1.172961</td>\n",
              "      <td>-1.176353</td>\n",
              "      <td>5.534981</td>\n",
              "      <td>-1.112818</td>\n",
              "      <td>-2.533566</td>\n",
              "      <td>2.286912</td>\n",
              "      <td>1.341825</td>\n",
              "      <td>-1.889294</td>\n",
              "    </tr>\n",
              "    <tr>\n",
              "      <th>4</th>\n",
              "      <td>-1.482845</td>\n",
              "      <td>1.611769</td>\n",
              "      <td>-4.661949</td>\n",
              "      <td>-3.653574</td>\n",
              "      <td>-0.105498</td>\n",
              "      <td>-3.333415</td>\n",
              "      <td>-1.936937</td>\n",
              "      <td>-0.738606</td>\n",
              "      <td>-0.010928</td>\n",
              "      <td>1.369159</td>\n",
              "      <td>...</td>\n",
              "      <td>1.451134</td>\n",
              "      <td>-3.457378</td>\n",
              "      <td>2.263466</td>\n",
              "      <td>-0.028928</td>\n",
              "      <td>3.175490</td>\n",
              "      <td>2.524935</td>\n",
              "      <td>-2.744063</td>\n",
              "      <td>0.784018</td>\n",
              "      <td>1.220298</td>\n",
              "      <td>-1.580324</td>\n",
              "    </tr>\n",
              "    <tr>\n",
              "      <th>...</th>\n",
              "      <td>...</td>\n",
              "      <td>...</td>\n",
              "      <td>...</td>\n",
              "      <td>...</td>\n",
              "      <td>...</td>\n",
              "      <td>...</td>\n",
              "      <td>...</td>\n",
              "      <td>...</td>\n",
              "      <td>...</td>\n",
              "      <td>...</td>\n",
              "      <td>...</td>\n",
              "      <td>...</td>\n",
              "      <td>...</td>\n",
              "      <td>...</td>\n",
              "      <td>...</td>\n",
              "      <td>...</td>\n",
              "      <td>...</td>\n",
              "      <td>...</td>\n",
              "      <td>...</td>\n",
              "      <td>...</td>\n",
              "      <td>...</td>\n",
              "    </tr>\n",
              "    <tr>\n",
              "      <th>2494</th>\n",
              "      <td>-5.731279</td>\n",
              "      <td>7.306716</td>\n",
              "      <td>-1.477527</td>\n",
              "      <td>-3.918198</td>\n",
              "      <td>-4.172081</td>\n",
              "      <td>-2.067490</td>\n",
              "      <td>-1.456874</td>\n",
              "      <td>3.118958</td>\n",
              "      <td>10.989521</td>\n",
              "      <td>-2.924030</td>\n",
              "      <td>...</td>\n",
              "      <td>-3.317631</td>\n",
              "      <td>-4.000467</td>\n",
              "      <td>3.621323</td>\n",
              "      <td>-4.515161</td>\n",
              "      <td>-3.476897</td>\n",
              "      <td>2.541877</td>\n",
              "      <td>-2.770801</td>\n",
              "      <td>5.468523</td>\n",
              "      <td>2.293403</td>\n",
              "      <td>3.833804</td>\n",
              "    </tr>\n",
              "    <tr>\n",
              "      <th>2495</th>\n",
              "      <td>-1.230424</td>\n",
              "      <td>3.150229</td>\n",
              "      <td>0.554029</td>\n",
              "      <td>-1.804767</td>\n",
              "      <td>-4.841315</td>\n",
              "      <td>-4.746692</td>\n",
              "      <td>-5.511544</td>\n",
              "      <td>-2.100738</td>\n",
              "      <td>11.166320</td>\n",
              "      <td>2.436640</td>\n",
              "      <td>...</td>\n",
              "      <td>1.492281</td>\n",
              "      <td>-1.177268</td>\n",
              "      <td>8.173480</td>\n",
              "      <td>-5.400771</td>\n",
              "      <td>0.888838</td>\n",
              "      <td>7.280806</td>\n",
              "      <td>-7.334253</td>\n",
              "      <td>1.755362</td>\n",
              "      <td>7.985930</td>\n",
              "      <td>-1.180542</td>\n",
              "    </tr>\n",
              "    <tr>\n",
              "      <th>2496</th>\n",
              "      <td>0.279690</td>\n",
              "      <td>6.971736</td>\n",
              "      <td>-2.799277</td>\n",
              "      <td>-0.603561</td>\n",
              "      <td>-2.532670</td>\n",
              "      <td>-1.578160</td>\n",
              "      <td>-4.330144</td>\n",
              "      <td>0.298251</td>\n",
              "      <td>1.170492</td>\n",
              "      <td>3.097934</td>\n",
              "      <td>...</td>\n",
              "      <td>-0.588554</td>\n",
              "      <td>-1.169592</td>\n",
              "      <td>3.652217</td>\n",
              "      <td>-1.191933</td>\n",
              "      <td>0.515304</td>\n",
              "      <td>3.139014</td>\n",
              "      <td>-2.598707</td>\n",
              "      <td>2.504837</td>\n",
              "      <td>0.785338</td>\n",
              "      <td>-4.040869</td>\n",
              "    </tr>\n",
              "    <tr>\n",
              "      <th>2497</th>\n",
              "      <td>0.654186</td>\n",
              "      <td>8.085932</td>\n",
              "      <td>-3.400936</td>\n",
              "      <td>-5.579857</td>\n",
              "      <td>0.137694</td>\n",
              "      <td>-3.779996</td>\n",
              "      <td>0.824227</td>\n",
              "      <td>-1.593322</td>\n",
              "      <td>5.438330</td>\n",
              "      <td>5.624721</td>\n",
              "      <td>...</td>\n",
              "      <td>-1.512934</td>\n",
              "      <td>2.286315</td>\n",
              "      <td>1.471484</td>\n",
              "      <td>-4.975956</td>\n",
              "      <td>-4.826885</td>\n",
              "      <td>0.480237</td>\n",
              "      <td>-0.206218</td>\n",
              "      <td>1.274731</td>\n",
              "      <td>1.446792</td>\n",
              "      <td>1.505597</td>\n",
              "    </tr>\n",
              "    <tr>\n",
              "      <th>2498</th>\n",
              "      <td>-6.190828</td>\n",
              "      <td>6.143167</td>\n",
              "      <td>0.253940</td>\n",
              "      <td>-5.535009</td>\n",
              "      <td>0.794754</td>\n",
              "      <td>-2.796495</td>\n",
              "      <td>1.196542</td>\n",
              "      <td>0.487230</td>\n",
              "      <td>0.201295</td>\n",
              "      <td>1.224855</td>\n",
              "      <td>...</td>\n",
              "      <td>4.789796</td>\n",
              "      <td>-1.014267</td>\n",
              "      <td>-0.514985</td>\n",
              "      <td>-2.622574</td>\n",
              "      <td>0.744624</td>\n",
              "      <td>7.137885</td>\n",
              "      <td>0.453607</td>\n",
              "      <td>0.151615</td>\n",
              "      <td>5.073082</td>\n",
              "      <td>-1.924808</td>\n",
              "    </tr>\n",
              "  </tbody>\n",
              "</table>\n",
              "<p>2499 rows × 100 columns</p>\n",
              "</div>"
            ],
            "text/plain": [
              "            0         1         2         3         4         5         6   \\\n",
              "0    -3.866404  8.454132 -4.785482  1.123092 -2.274207 -1.984519 -6.545402   \n",
              "1    -3.255714  6.354517 -7.775851 -1.149292 -0.116315 -3.122624 -3.101767   \n",
              "2    -4.715375  4.127140 -4.370194 -2.398620  5.044291  1.782812 -1.618998   \n",
              "3    -1.786034  3.380124 -3.429362 -3.435444  0.951772 -3.506691 -2.781303   \n",
              "4    -1.482845  1.611769 -4.661949 -3.653574 -0.105498 -3.333415 -1.936937   \n",
              "...        ...       ...       ...       ...       ...       ...       ...   \n",
              "2494 -5.731279  7.306716 -1.477527 -3.918198 -4.172081 -2.067490 -1.456874   \n",
              "2495 -1.230424  3.150229  0.554029 -1.804767 -4.841315 -4.746692 -5.511544   \n",
              "2496  0.279690  6.971736 -2.799277 -0.603561 -2.532670 -1.578160 -4.330144   \n",
              "2497  0.654186  8.085932 -3.400936 -5.579857  0.137694 -3.779996  0.824227   \n",
              "2498 -6.190828  6.143167  0.253940 -5.535009  0.794754 -2.796495  1.196542   \n",
              "\n",
              "            7          8         9   ...        90        91        92  \\\n",
              "0     0.819882  -0.138653  5.242927  ...  5.699349  0.178983  5.864181   \n",
              "1     1.636731   2.902228  3.656118  ...  0.914633 -0.473968  3.413673   \n",
              "2    -2.760494   6.445065  1.948441  ... -1.059677 -1.340740  6.802534   \n",
              "3     0.505593   2.521434 -0.044218  ...  2.217704 -2.376210  1.172961   \n",
              "4    -0.738606  -0.010928  1.369159  ...  1.451134 -3.457378  2.263466   \n",
              "...        ...        ...       ...  ...       ...       ...       ...   \n",
              "2494  3.118958  10.989521 -2.924030  ... -3.317631 -4.000467  3.621323   \n",
              "2495 -2.100738  11.166320  2.436640  ...  1.492281 -1.177268  8.173480   \n",
              "2496  0.298251   1.170492  3.097934  ... -0.588554 -1.169592  3.652217   \n",
              "2497 -1.593322   5.438330  5.624721  ... -1.512934  2.286315  1.471484   \n",
              "2498  0.487230   0.201295  1.224855  ...  4.789796 -1.014267 -0.514985   \n",
              "\n",
              "            93        94        95        96        97        98        99  \n",
              "0    -0.568903  4.972994  4.539065  2.456571  4.155649  9.444217 -0.057898  \n",
              "1    -3.553344  0.509258  2.768271 -1.546765  5.968383  2.747404 -1.261289  \n",
              "2    -7.411885  2.647225 -2.857255  1.856406  2.811481 -3.294527 -1.945906  \n",
              "3    -1.176353  5.534981 -1.112818 -2.533566  2.286912  1.341825 -1.889294  \n",
              "4    -0.028928  3.175490  2.524935 -2.744063  0.784018  1.220298 -1.580324  \n",
              "...        ...       ...       ...       ...       ...       ...       ...  \n",
              "2494 -4.515161 -3.476897  2.541877 -2.770801  5.468523  2.293403  3.833804  \n",
              "2495 -5.400771  0.888838  7.280806 -7.334253  1.755362  7.985930 -1.180542  \n",
              "2496 -1.191933  0.515304  3.139014 -2.598707  2.504837  0.785338 -4.040869  \n",
              "2497 -4.975956 -4.826885  0.480237 -0.206218  1.274731  1.446792  1.505597  \n",
              "2498 -2.622574  0.744624  7.137885  0.453607  0.151615  5.073082 -1.924808  \n",
              "\n",
              "[2499 rows x 100 columns]"
            ]
          },
          "execution_count": 21,
          "metadata": {},
          "output_type": "execute_result"
        }
      ],
      "source": [
        "pd.DataFrame(model.user_factors)"
      ]
    },
    {
      "cell_type": "markdown",
      "metadata": {
        "id": "cf_zr75GIHyq"
      },
      "source": [
        "Можно очень быстро посчитать предсказания, перемножив эти 2 матрицы"
      ]
    },
    {
      "cell_type": "code",
      "execution_count": null,
      "metadata": {
        "id": "XzuTn_FEIHyq",
        "outputId": "6910419f-dc8a-445e-a90f-2b9ccc2fcd65"
      },
      "outputs": [
        {
          "data": {
            "text/plain": [
              "(2499, 5001)"
            ]
          },
          "execution_count": 22,
          "metadata": {},
          "output_type": "execute_result"
        }
      ],
      "source": [
        "fast_recs = model.user_factors @ model.item_factors.T \n",
        "fast_recs.shape"
      ]
    },
    {
      "cell_type": "code",
      "execution_count": null,
      "metadata": {
        "id": "lwi6fO3xzZdB",
        "outputId": "5c8d59be-46cf-4b74-9136-3ef582b07143"
      },
      "outputs": [
        {
          "data": {
            "text/html": [
              "<div>\n",
              "<style scoped>\n",
              "    .dataframe tbody tr th:only-of-type {\n",
              "        vertical-align: middle;\n",
              "    }\n",
              "\n",
              "    .dataframe tbody tr th {\n",
              "        vertical-align: top;\n",
              "    }\n",
              "\n",
              "    .dataframe thead th {\n",
              "        text-align: right;\n",
              "    }\n",
              "</style>\n",
              "<table border=\"1\" class=\"dataframe\">\n",
              "  <thead>\n",
              "    <tr style=\"text-align: right;\">\n",
              "      <th></th>\n",
              "      <th>0</th>\n",
              "      <th>1</th>\n",
              "      <th>2</th>\n",
              "      <th>3</th>\n",
              "      <th>4</th>\n",
              "      <th>5</th>\n",
              "      <th>6</th>\n",
              "      <th>7</th>\n",
              "      <th>8</th>\n",
              "      <th>9</th>\n",
              "      <th>...</th>\n",
              "      <th>4991</th>\n",
              "      <th>4992</th>\n",
              "      <th>4993</th>\n",
              "      <th>4994</th>\n",
              "      <th>4995</th>\n",
              "      <th>4996</th>\n",
              "      <th>4997</th>\n",
              "      <th>4998</th>\n",
              "      <th>4999</th>\n",
              "      <th>5000</th>\n",
              "    </tr>\n",
              "  </thead>\n",
              "  <tbody>\n",
              "    <tr>\n",
              "      <th>0</th>\n",
              "      <td>-0.006920</td>\n",
              "      <td>0.091352</td>\n",
              "      <td>-0.017861</td>\n",
              "      <td>-0.047398</td>\n",
              "      <td>0.004536</td>\n",
              "      <td>-0.001806</td>\n",
              "      <td>0.003412</td>\n",
              "      <td>0.212705</td>\n",
              "      <td>0.120323</td>\n",
              "      <td>-0.095546</td>\n",
              "      <td>...</td>\n",
              "      <td>0.122300</td>\n",
              "      <td>0.102519</td>\n",
              "      <td>0.239257</td>\n",
              "      <td>0.100642</td>\n",
              "      <td>0.497509</td>\n",
              "      <td>0.059335</td>\n",
              "      <td>-0.115121</td>\n",
              "      <td>0.128546</td>\n",
              "      <td>0.013124</td>\n",
              "      <td>-0.083958</td>\n",
              "    </tr>\n",
              "    <tr>\n",
              "      <th>1</th>\n",
              "      <td>0.007198</td>\n",
              "      <td>0.066820</td>\n",
              "      <td>0.009308</td>\n",
              "      <td>0.005233</td>\n",
              "      <td>-0.003887</td>\n",
              "      <td>0.000161</td>\n",
              "      <td>-0.013939</td>\n",
              "      <td>0.055693</td>\n",
              "      <td>0.040877</td>\n",
              "      <td>0.005125</td>\n",
              "      <td>...</td>\n",
              "      <td>0.033425</td>\n",
              "      <td>0.002808</td>\n",
              "      <td>0.005544</td>\n",
              "      <td>0.100688</td>\n",
              "      <td>0.129447</td>\n",
              "      <td>-0.025543</td>\n",
              "      <td>0.067921</td>\n",
              "      <td>-0.090701</td>\n",
              "      <td>0.044541</td>\n",
              "      <td>-0.050610</td>\n",
              "    </tr>\n",
              "    <tr>\n",
              "      <th>2</th>\n",
              "      <td>-0.029843</td>\n",
              "      <td>-0.097677</td>\n",
              "      <td>-0.017183</td>\n",
              "      <td>-0.042484</td>\n",
              "      <td>-0.014975</td>\n",
              "      <td>-0.013468</td>\n",
              "      <td>-0.025353</td>\n",
              "      <td>0.101157</td>\n",
              "      <td>0.065451</td>\n",
              "      <td>0.108504</td>\n",
              "      <td>...</td>\n",
              "      <td>0.022557</td>\n",
              "      <td>-0.058303</td>\n",
              "      <td>0.175812</td>\n",
              "      <td>0.126806</td>\n",
              "      <td>0.097056</td>\n",
              "      <td>0.200096</td>\n",
              "      <td>0.068658</td>\n",
              "      <td>-0.071651</td>\n",
              "      <td>0.065588</td>\n",
              "      <td>-0.014340</td>\n",
              "    </tr>\n",
              "    <tr>\n",
              "      <th>3</th>\n",
              "      <td>0.009510</td>\n",
              "      <td>0.067211</td>\n",
              "      <td>0.028724</td>\n",
              "      <td>0.055508</td>\n",
              "      <td>0.006848</td>\n",
              "      <td>0.012071</td>\n",
              "      <td>0.000903</td>\n",
              "      <td>0.119928</td>\n",
              "      <td>0.014870</td>\n",
              "      <td>-0.001911</td>\n",
              "      <td>...</td>\n",
              "      <td>0.036445</td>\n",
              "      <td>0.051122</td>\n",
              "      <td>0.007787</td>\n",
              "      <td>0.006893</td>\n",
              "      <td>0.072525</td>\n",
              "      <td>0.032838</td>\n",
              "      <td>0.060905</td>\n",
              "      <td>0.052565</td>\n",
              "      <td>0.018275</td>\n",
              "      <td>0.049612</td>\n",
              "    </tr>\n",
              "    <tr>\n",
              "      <th>4</th>\n",
              "      <td>0.001620</td>\n",
              "      <td>0.024780</td>\n",
              "      <td>-0.007704</td>\n",
              "      <td>0.031691</td>\n",
              "      <td>0.003063</td>\n",
              "      <td>-0.000184</td>\n",
              "      <td>-0.002716</td>\n",
              "      <td>0.017192</td>\n",
              "      <td>0.028442</td>\n",
              "      <td>0.016018</td>\n",
              "      <td>...</td>\n",
              "      <td>-0.005545</td>\n",
              "      <td>-0.003753</td>\n",
              "      <td>-0.007937</td>\n",
              "      <td>0.060699</td>\n",
              "      <td>0.004585</td>\n",
              "      <td>-0.014505</td>\n",
              "      <td>0.047676</td>\n",
              "      <td>-0.023931</td>\n",
              "      <td>0.021373</td>\n",
              "      <td>-0.016247</td>\n",
              "    </tr>\n",
              "    <tr>\n",
              "      <th>...</th>\n",
              "      <td>...</td>\n",
              "      <td>...</td>\n",
              "      <td>...</td>\n",
              "      <td>...</td>\n",
              "      <td>...</td>\n",
              "      <td>...</td>\n",
              "      <td>...</td>\n",
              "      <td>...</td>\n",
              "      <td>...</td>\n",
              "      <td>...</td>\n",
              "      <td>...</td>\n",
              "      <td>...</td>\n",
              "      <td>...</td>\n",
              "      <td>...</td>\n",
              "      <td>...</td>\n",
              "      <td>...</td>\n",
              "      <td>...</td>\n",
              "      <td>...</td>\n",
              "      <td>...</td>\n",
              "      <td>...</td>\n",
              "      <td>...</td>\n",
              "    </tr>\n",
              "    <tr>\n",
              "      <th>2494</th>\n",
              "      <td>0.007715</td>\n",
              "      <td>0.068329</td>\n",
              "      <td>0.076383</td>\n",
              "      <td>0.028570</td>\n",
              "      <td>0.008445</td>\n",
              "      <td>0.025729</td>\n",
              "      <td>-0.019416</td>\n",
              "      <td>0.113865</td>\n",
              "      <td>0.020286</td>\n",
              "      <td>-0.094908</td>\n",
              "      <td>...</td>\n",
              "      <td>0.084275</td>\n",
              "      <td>-0.104202</td>\n",
              "      <td>0.041020</td>\n",
              "      <td>0.146868</td>\n",
              "      <td>0.223502</td>\n",
              "      <td>0.184221</td>\n",
              "      <td>0.168558</td>\n",
              "      <td>0.020511</td>\n",
              "      <td>0.210455</td>\n",
              "      <td>0.175164</td>\n",
              "    </tr>\n",
              "    <tr>\n",
              "      <th>2495</th>\n",
              "      <td>0.032103</td>\n",
              "      <td>0.137204</td>\n",
              "      <td>0.085194</td>\n",
              "      <td>-0.027504</td>\n",
              "      <td>0.011030</td>\n",
              "      <td>0.021642</td>\n",
              "      <td>0.030412</td>\n",
              "      <td>0.108766</td>\n",
              "      <td>-0.051656</td>\n",
              "      <td>0.179693</td>\n",
              "      <td>...</td>\n",
              "      <td>-0.003907</td>\n",
              "      <td>0.326992</td>\n",
              "      <td>0.199091</td>\n",
              "      <td>0.132487</td>\n",
              "      <td>0.077063</td>\n",
              "      <td>0.194732</td>\n",
              "      <td>0.020430</td>\n",
              "      <td>0.061105</td>\n",
              "      <td>0.016947</td>\n",
              "      <td>0.108315</td>\n",
              "    </tr>\n",
              "    <tr>\n",
              "      <th>2496</th>\n",
              "      <td>0.046853</td>\n",
              "      <td>0.085344</td>\n",
              "      <td>-0.005199</td>\n",
              "      <td>0.029801</td>\n",
              "      <td>0.001157</td>\n",
              "      <td>0.002780</td>\n",
              "      <td>0.012596</td>\n",
              "      <td>-0.112850</td>\n",
              "      <td>0.013756</td>\n",
              "      <td>-0.008068</td>\n",
              "      <td>...</td>\n",
              "      <td>0.086654</td>\n",
              "      <td>0.103144</td>\n",
              "      <td>0.063403</td>\n",
              "      <td>0.106027</td>\n",
              "      <td>0.158020</td>\n",
              "      <td>0.127782</td>\n",
              "      <td>0.052204</td>\n",
              "      <td>0.049014</td>\n",
              "      <td>0.045527</td>\n",
              "      <td>0.101704</td>\n",
              "    </tr>\n",
              "    <tr>\n",
              "      <th>2497</th>\n",
              "      <td>-0.017732</td>\n",
              "      <td>0.030739</td>\n",
              "      <td>-0.009906</td>\n",
              "      <td>-0.041228</td>\n",
              "      <td>-0.017018</td>\n",
              "      <td>-0.013443</td>\n",
              "      <td>-0.003252</td>\n",
              "      <td>0.101779</td>\n",
              "      <td>0.211366</td>\n",
              "      <td>0.099960</td>\n",
              "      <td>...</td>\n",
              "      <td>-0.012256</td>\n",
              "      <td>-0.028849</td>\n",
              "      <td>0.042997</td>\n",
              "      <td>-0.055247</td>\n",
              "      <td>0.098375</td>\n",
              "      <td>0.041807</td>\n",
              "      <td>0.199746</td>\n",
              "      <td>0.020362</td>\n",
              "      <td>0.050244</td>\n",
              "      <td>0.191180</td>\n",
              "    </tr>\n",
              "    <tr>\n",
              "      <th>2498</th>\n",
              "      <td>0.005592</td>\n",
              "      <td>0.002177</td>\n",
              "      <td>0.003614</td>\n",
              "      <td>0.091541</td>\n",
              "      <td>0.003546</td>\n",
              "      <td>0.005630</td>\n",
              "      <td>-0.001095</td>\n",
              "      <td>-0.101906</td>\n",
              "      <td>0.021073</td>\n",
              "      <td>-0.035581</td>\n",
              "      <td>...</td>\n",
              "      <td>0.102986</td>\n",
              "      <td>0.173969</td>\n",
              "      <td>0.144510</td>\n",
              "      <td>0.117423</td>\n",
              "      <td>0.103743</td>\n",
              "      <td>0.201598</td>\n",
              "      <td>0.129928</td>\n",
              "      <td>0.072497</td>\n",
              "      <td>0.254735</td>\n",
              "      <td>-0.027925</td>\n",
              "    </tr>\n",
              "  </tbody>\n",
              "</table>\n",
              "<p>2499 rows × 5001 columns</p>\n",
              "</div>"
            ],
            "text/plain": [
              "          0         1         2         3         4         5         6     \\\n",
              "0    -0.006920  0.091352 -0.017861 -0.047398  0.004536 -0.001806  0.003412   \n",
              "1     0.007198  0.066820  0.009308  0.005233 -0.003887  0.000161 -0.013939   \n",
              "2    -0.029843 -0.097677 -0.017183 -0.042484 -0.014975 -0.013468 -0.025353   \n",
              "3     0.009510  0.067211  0.028724  0.055508  0.006848  0.012071  0.000903   \n",
              "4     0.001620  0.024780 -0.007704  0.031691  0.003063 -0.000184 -0.002716   \n",
              "...        ...       ...       ...       ...       ...       ...       ...   \n",
              "2494  0.007715  0.068329  0.076383  0.028570  0.008445  0.025729 -0.019416   \n",
              "2495  0.032103  0.137204  0.085194 -0.027504  0.011030  0.021642  0.030412   \n",
              "2496  0.046853  0.085344 -0.005199  0.029801  0.001157  0.002780  0.012596   \n",
              "2497 -0.017732  0.030739 -0.009906 -0.041228 -0.017018 -0.013443 -0.003252   \n",
              "2498  0.005592  0.002177  0.003614  0.091541  0.003546  0.005630 -0.001095   \n",
              "\n",
              "          7         8         9     ...      4991      4992      4993  \\\n",
              "0     0.212705  0.120323 -0.095546  ...  0.122300  0.102519  0.239257   \n",
              "1     0.055693  0.040877  0.005125  ...  0.033425  0.002808  0.005544   \n",
              "2     0.101157  0.065451  0.108504  ...  0.022557 -0.058303  0.175812   \n",
              "3     0.119928  0.014870 -0.001911  ...  0.036445  0.051122  0.007787   \n",
              "4     0.017192  0.028442  0.016018  ... -0.005545 -0.003753 -0.007937   \n",
              "...        ...       ...       ...  ...       ...       ...       ...   \n",
              "2494  0.113865  0.020286 -0.094908  ...  0.084275 -0.104202  0.041020   \n",
              "2495  0.108766 -0.051656  0.179693  ... -0.003907  0.326992  0.199091   \n",
              "2496 -0.112850  0.013756 -0.008068  ...  0.086654  0.103144  0.063403   \n",
              "2497  0.101779  0.211366  0.099960  ... -0.012256 -0.028849  0.042997   \n",
              "2498 -0.101906  0.021073 -0.035581  ...  0.102986  0.173969  0.144510   \n",
              "\n",
              "          4994      4995      4996      4997      4998      4999      5000  \n",
              "0     0.100642  0.497509  0.059335 -0.115121  0.128546  0.013124 -0.083958  \n",
              "1     0.100688  0.129447 -0.025543  0.067921 -0.090701  0.044541 -0.050610  \n",
              "2     0.126806  0.097056  0.200096  0.068658 -0.071651  0.065588 -0.014340  \n",
              "3     0.006893  0.072525  0.032838  0.060905  0.052565  0.018275  0.049612  \n",
              "4     0.060699  0.004585 -0.014505  0.047676 -0.023931  0.021373 -0.016247  \n",
              "...        ...       ...       ...       ...       ...       ...       ...  \n",
              "2494  0.146868  0.223502  0.184221  0.168558  0.020511  0.210455  0.175164  \n",
              "2495  0.132487  0.077063  0.194732  0.020430  0.061105  0.016947  0.108315  \n",
              "2496  0.106027  0.158020  0.127782  0.052204  0.049014  0.045527  0.101704  \n",
              "2497 -0.055247  0.098375  0.041807  0.199746  0.020362  0.050244  0.191180  \n",
              "2498  0.117423  0.103743  0.201598  0.129928  0.072497  0.254735 -0.027925  \n",
              "\n",
              "[2499 rows x 5001 columns]"
            ]
          },
          "execution_count": 23,
          "metadata": {},
          "output_type": "execute_result"
        }
      ],
      "source": [
        "pd.DataFrame(fast_recs)"
      ]
    },
    {
      "cell_type": "code",
      "execution_count": null,
      "metadata": {
        "id": "V6d15toQIHyr"
      },
      "outputs": [],
      "source": [
        "import numpy as np\n",
        "import pandas as pd\n",
        "from matplotlib.pyplot import cm\n",
        "import pickle\n",
        "\n",
        "from scipy.spatial.distance import cdist\n",
        "\n",
        "from sklearn.decomposition import PCA\n",
        "from sklearn.manifold import TSNE\n",
        "\n",
        "import seaborn as sns\n",
        "\n",
        "\n",
        "def reduce_dims(df, dims=2, method='pca'):\n",
        "    \n",
        "    assert method in ['pca', 'tsne'], 'Неверно указан метод'\n",
        "    \n",
        "    if method=='pca':\n",
        "        pca = PCA(n_components=dims)\n",
        "        components = pca.fit_transform(df)\n",
        "    elif method == 'tsne':\n",
        "        tsne = TSNE(n_components=dims, learning_rate=250, random_state=42)\n",
        "        components = tsne.fit_transform(df)\n",
        "    else:\n",
        "        print('Error')\n",
        "        \n",
        "    colnames = ['component_' + str(i) for i in range(1, dims+1)]\n",
        "    return pd.DataFrame(data = components, columns = colnames) \n",
        "\n",
        "\n",
        "def display_components_in_2D_space(components_df, labels='category', marker='D'):\n",
        "    \n",
        "    groups = components_df.groupby(labels)\n",
        "\n",
        "    # Plot\n",
        "    fig, ax = plt.subplots(figsize=(12,8))\n",
        "    ax.margins(0.05) # Optional, just adds 5% padding to the autoscaling\n",
        "    for name, group in groups:\n",
        "        ax.plot(group.component_1, group.component_2, \n",
        "                marker='o', ms=6,\n",
        "                linestyle='',\n",
        "                alpha=0.7,\n",
        "                label=name)\n",
        "    ax.legend(loc='center left', bbox_to_anchor=(1.02, 0.5))\n",
        "\n",
        "    plt.xlabel('component_1')\n",
        "    plt.ylabel('component_2') \n",
        "    plt.show()"
      ]
    },
    {
      "cell_type": "code",
      "execution_count": null,
      "metadata": {
        "id": "Gbb8mdmQIHys",
        "outputId": "af54bb77-0188-4a4b-85bc-d0bb144c47fc"
      },
      "outputs": [
        {
          "data": {
            "text/plain": [
              "(5001, 100)"
            ]
          },
          "execution_count": 25,
          "metadata": {},
          "output_type": "execute_result"
        }
      ],
      "source": [
        "model.item_factors.shape"
      ]
    },
    {
      "cell_type": "code",
      "execution_count": null,
      "metadata": {
        "id": "xhT9pq1kIHyt"
      },
      "outputs": [],
      "source": [
        "category = []\n",
        "\n",
        "for idx in range(model.item_factors.shape[0]):\n",
        "\n",
        "    try:\n",
        "        cat = item_features.loc[item_features['item_id'] == id_to_itemid[idx], 'department'].values[0]\n",
        "        category.append(cat)\n",
        "    except:\n",
        "        category.append('UNKNOWN')"
      ]
    },
    {
      "cell_type": "code",
      "execution_count": null,
      "metadata": {
        "id": "-E-QBDqSzZdD",
        "outputId": "3ffc10ed-6986-479a-e1ac-24546520db3f"
      },
      "outputs": [
        {
          "name": "stdout",
          "output_type": "stream",
          "text": [
            "['MISC SALES TRAN', 'KIOSK-GAS', 'MISC SALES TRAN', 'KIOSK-GAS', 'MISC SALES TRAN', 'MISC SALES TRAN', 'KIOSK-GAS', 'GROCERY', 'GROCERY', 'GROCERY']\n"
          ]
        }
      ],
      "source": [
        "print(category[:10])"
      ]
    },
    {
      "cell_type": "code",
      "execution_count": null,
      "metadata": {
        "id": "B8oxR_P0IHyt",
        "outputId": "9f7f6460-25fc-4d01-b1c0-37854888c692"
      },
      "outputs": [
        {
          "data": {
            "image/png": "[encoded data removed]",
            "text/plain": [
              "<Figure size 864x576 with 1 Axes>"
            ]
          },
          "metadata": {
            "needs_background": "light"
          },
          "output_type": "display_data"
        },
        {
          "name": "stdout",
          "output_type": "stream",
          "text": [
            "CPU times: user 3min 4s, sys: 4.54 s, total: 3min 8s\n",
            "Wall time: 26.4 s\n"
          ]
        }
      ],
      "source": [
        "%%time\n",
        "item_emb_tsne = reduce_dims(model.item_factors, dims=2, method='tsne') # 5001 х 100  ---> 5001 x 2\n",
        "item_emb_tsne['category'] = category  # Добавляем категорию\n",
        "item_emb_tsne = item_emb_tsne[item_emb_tsne['category'] != 'UNKNOWN']\n",
        "\n",
        "display_components_in_2D_space(item_emb_tsne, labels='category')"
      ]
    },
    {
      "cell_type": "markdown",
      "metadata": {
        "id": "21LfCjpxIHyt"
      },
      "source": [
        "Нарисуем все, кроме GROCERY"
      ]
    },
    {
      "cell_type": "code",
      "execution_count": null,
      "metadata": {
        "id": "BNy3Fb1DIHyu",
        "outputId": "cd92302c-3a4e-4345-9c8e-e95a4fa44770"
      },
      "outputs": [
        {
          "data": {
            "image/png": "[encoded data removed]",
            "text/plain": [
              "<Figure size 864x576 with 1 Axes>"
            ]
          },
          "metadata": {
            "needs_background": "light"
          },
          "output_type": "display_data"
        }
      ],
      "source": [
        "display_components_in_2D_space(item_emb_tsne[item_emb_tsne['category'] != 'GROCERY'], labels='category')"
      ]
    },
    {
      "cell_type": "markdown",
      "metadata": {
        "id": "DxZJ7HCOIHyu"
      },
      "source": [
        "Нарисуем несколько конкретных категорий"
      ]
    },
    {
      "cell_type": "code",
      "execution_count": null,
      "metadata": {
        "id": "FeQlyTdTIHyu",
        "outputId": "e6aab935-1525-4202-b2a4-f2a352fd17e3"
      },
      "outputs": [
        {
          "data": {
            "image/png": "[encoded data removed]",
            "text/plain": [
              "<Figure size 864x576 with 1 Axes>"
            ]
          },
          "metadata": {
            "needs_background": "light"
          },
          "output_type": "display_data"
        }
      ],
      "source": [
        "interesting_cats = ['PASTRY', 'PRODUCE', 'DRUG GM', 'FLORAL']\n",
        "\n",
        "display_components_in_2D_space(item_emb_tsne[item_emb_tsne['category'].isin(interesting_cats)], \n",
        "                                             labels='category')"
      ]
    },
    {
      "cell_type": "code",
      "execution_count": null,
      "metadata": {
        "id": "p3txtj5yzZdF",
        "outputId": "97312f4d-bb6c-440d-c91a-f0ed85807886"
      },
      "outputs": [
        {
          "data": {
            "image/png": "[encoded data removed]",
            "text/plain": [
              "<Figure size 864x576 with 1 Axes>"
            ]
          },
          "metadata": {
            "needs_background": "light"
          },
          "output_type": "display_data"
        }
      ],
      "source": [
        "interesting_cats = ['PASTRY', 'PRODUCE', 'DRUG GM', 'FLORAL']\n",
        "\n",
        "display_components_in_2D_space(item_emb_tsne[item_emb_tsne['category'].isin(interesting_cats)], \n",
        "                                             labels='category')"
      ]
    },
    {
      "cell_type": "code",
      "execution_count": null,
      "metadata": {
        "id": "_BQ7pWmgzZdF",
        "outputId": "ce84b9df-8b4d-4092-c25a-8eebeda91312"
      },
      "outputs": [
        {
          "data": {
            "image/png": "[encoded data removed]",
            "text/plain": [
              "<Figure size 864x576 with 1 Axes>"
            ]
          },
          "metadata": {
            "needs_background": "light"
          },
          "output_type": "display_data"
        }
      ],
      "source": [
        "interesting_cats = ['PASTRY', 'PRODUCE', 'DRUG GM', 'FLORAL']\n",
        "\n",
        "display_components_in_2D_space(item_emb_tsne[item_emb_tsne['category'].isin(interesting_cats)], \n",
        "                                             labels='category')"
      ]
    },
    {
      "cell_type": "markdown",
      "metadata": {
        "id": "eelXXrgiIHyv"
      },
      "source": [
        "На самом деле, я бы сказал, что **результат средний**:\n",
        "- Модель выучила похожесть только небольшой части товаров"
      ]
    },
    {
      "cell_type": "code",
      "execution_count": null,
      "metadata": {
        "id": "xK9UDIfsIHyv",
        "outputId": "ef3fab8f-4734-4ad1-e47a-f7400e19ca81"
      },
      "outputs": [
        {
          "data": {
            "text/html": [
              "<div>\n",
              "<style scoped>\n",
              "    .dataframe tbody tr th:only-of-type {\n",
              "        vertical-align: middle;\n",
              "    }\n",
              "\n",
              "    .dataframe tbody tr th {\n",
              "        vertical-align: top;\n",
              "    }\n",
              "\n",
              "    .dataframe thead th {\n",
              "        text-align: right;\n",
              "    }\n",
              "</style>\n",
              "<table border=\"1\" class=\"dataframe\">\n",
              "  <thead>\n",
              "    <tr style=\"text-align: right;\">\n",
              "      <th></th>\n",
              "      <th>component_1</th>\n",
              "      <th>component_2</th>\n",
              "      <th>category</th>\n",
              "    </tr>\n",
              "  </thead>\n",
              "  <tbody>\n",
              "    <tr>\n",
              "      <th>0</th>\n",
              "      <td>-10.934068</td>\n",
              "      <td>17.045534</td>\n",
              "      <td>MISC SALES TRAN</td>\n",
              "    </tr>\n",
              "    <tr>\n",
              "      <th>1</th>\n",
              "      <td>-9.408237</td>\n",
              "      <td>22.227543</td>\n",
              "      <td>KIOSK-GAS</td>\n",
              "    </tr>\n",
              "  </tbody>\n",
              "</table>\n",
              "</div>"
            ],
            "text/plain": [
              "   component_1  component_2         category\n",
              "0   -10.934068    17.045534  MISC SALES TRAN\n",
              "1    -9.408237    22.227543        KIOSK-GAS"
            ]
          },
          "execution_count": 33,
          "metadata": {},
          "output_type": "execute_result"
        }
      ],
      "source": [
        "item_emb_tsne.head(2)"
      ]
    },
    {
      "cell_type": "markdown",
      "metadata": {
        "id": "EQOQN7D5IHyw"
      },
      "source": [
        "recommend_all делает перемножение, но еще и сортирует и выбирает топ-N"
      ]
    },
    {
      "cell_type": "code",
      "execution_count": null,
      "metadata": {
        "colab": {
          "referenced_widgets": [
            "7d500b748414417f93b8f936f582ba96"
          ]
        },
        "id": "s8sUJSCzIHyw",
        "outputId": "192a9709-cc88-4492-d321-8e2063e1ec67"
      },
      "outputs": [
        {
          "name": "stderr",
          "output_type": "stream",
          "text": [
            "100%|██████████| 2499/2499 [00:18<00:00, 133.51it/s]"
          ]
        },
        {
          "name": "stdout",
          "output_type": "stream",
          "text": [
            "CPU times: user 20.8 s, sys: 277 ms, total: 21.1 s\n",
            "Wall time: 18.9 s\n"
          ]
        },
        {
          "name": "stderr",
          "output_type": "stream",
          "text": [
            "\n"
          ]
        }
      ],
      "source": [
        "%%time\n",
        "recommendations = model.recommend_all(N=5, \n",
        "                                      user_items=csr_matrix(user_item_matrix).tocsr(),\n",
        "                                      filter_already_liked_items=True, \n",
        "                                      filter_items=None, \n",
        "                                      recalculate_user=True,\n",
        "                                      show_progress=True,\n",
        "                                      batch_size=500)"
      ]
    },
    {
      "cell_type": "code",
      "execution_count": null,
      "metadata": {
        "id": "EApe5evozZdH",
        "outputId": "e7159ca6-aa6d-471a-b04d-d988da577ad8"
      },
      "outputs": [
        {
          "data": {
            "text/plain": [
              "(2499, 5)"
            ]
          },
          "execution_count": 35,
          "metadata": {},
          "output_type": "execute_result"
        }
      ],
      "source": [
        "recommendations.shape"
      ]
    },
    {
      "cell_type": "code",
      "execution_count": null,
      "metadata": {
        "id": "bVa3V4wUzZdI",
        "outputId": "6322388a-bac5-4376-facf-ff3c7d8efdf5"
      },
      "outputs": [
        {
          "data": {
            "text/html": [
              "<div>\n",
              "<style scoped>\n",
              "    .dataframe tbody tr th:only-of-type {\n",
              "        vertical-align: middle;\n",
              "    }\n",
              "\n",
              "    .dataframe tbody tr th {\n",
              "        vertical-align: top;\n",
              "    }\n",
              "\n",
              "    .dataframe thead th {\n",
              "        text-align: right;\n",
              "    }\n",
              "</style>\n",
              "<table border=\"1\" class=\"dataframe\">\n",
              "  <thead>\n",
              "    <tr style=\"text-align: right;\">\n",
              "      <th></th>\n",
              "      <th>0</th>\n",
              "      <th>1</th>\n",
              "      <th>2</th>\n",
              "      <th>3</th>\n",
              "      <th>4</th>\n",
              "    </tr>\n",
              "  </thead>\n",
              "  <tbody>\n",
              "    <tr>\n",
              "      <th>0</th>\n",
              "      <td>3616</td>\n",
              "      <td>832</td>\n",
              "      <td>2696</td>\n",
              "      <td>3947</td>\n",
              "      <td>3643</td>\n",
              "    </tr>\n",
              "    <tr>\n",
              "      <th>1</th>\n",
              "      <td>2148</td>\n",
              "      <td>2307</td>\n",
              "      <td>2927</td>\n",
              "      <td>215</td>\n",
              "      <td>2757</td>\n",
              "    </tr>\n",
              "    <tr>\n",
              "      <th>2</th>\n",
              "      <td>558</td>\n",
              "      <td>1516</td>\n",
              "      <td>3388</td>\n",
              "      <td>3029</td>\n",
              "      <td>1242</td>\n",
              "    </tr>\n",
              "    <tr>\n",
              "      <th>3</th>\n",
              "      <td>3408</td>\n",
              "      <td>1801</td>\n",
              "      <td>2148</td>\n",
              "      <td>3587</td>\n",
              "      <td>4141</td>\n",
              "    </tr>\n",
              "    <tr>\n",
              "      <th>4</th>\n",
              "      <td>3408</td>\n",
              "      <td>2148</td>\n",
              "      <td>3133</td>\n",
              "      <td>2307</td>\n",
              "      <td>3587</td>\n",
              "    </tr>\n",
              "    <tr>\n",
              "      <th>...</th>\n",
              "      <td>...</td>\n",
              "      <td>...</td>\n",
              "      <td>...</td>\n",
              "      <td>...</td>\n",
              "      <td>...</td>\n",
              "    </tr>\n",
              "    <tr>\n",
              "      <th>2494</th>\n",
              "      <td>1923</td>\n",
              "      <td>1801</td>\n",
              "      <td>195</td>\n",
              "      <td>2302</td>\n",
              "      <td>76</td>\n",
              "    </tr>\n",
              "    <tr>\n",
              "      <th>2495</th>\n",
              "      <td>496</td>\n",
              "      <td>647</td>\n",
              "      <td>70</td>\n",
              "      <td>1242</td>\n",
              "      <td>2377</td>\n",
              "    </tr>\n",
              "    <tr>\n",
              "      <th>2496</th>\n",
              "      <td>4346</td>\n",
              "      <td>2148</td>\n",
              "      <td>3587</td>\n",
              "      <td>4147</td>\n",
              "      <td>3133</td>\n",
              "    </tr>\n",
              "    <tr>\n",
              "      <th>2497</th>\n",
              "      <td>300</td>\n",
              "      <td>2847</td>\n",
              "      <td>1908</td>\n",
              "      <td>1927</td>\n",
              "      <td>657</td>\n",
              "    </tr>\n",
              "    <tr>\n",
              "      <th>2498</th>\n",
              "      <td>558</td>\n",
              "      <td>2454</td>\n",
              "      <td>1328</td>\n",
              "      <td>2216</td>\n",
              "      <td>215</td>\n",
              "    </tr>\n",
              "  </tbody>\n",
              "</table>\n",
              "<p>2499 rows × 5 columns</p>\n",
              "</div>"
            ],
            "text/plain": [
              "         0     1     2     3     4\n",
              "0     3616   832  2696  3947  3643\n",
              "1     2148  2307  2927   215  2757\n",
              "2      558  1516  3388  3029  1242\n",
              "3     3408  1801  2148  3587  4141\n",
              "4     3408  2148  3133  2307  3587\n",
              "...    ...   ...   ...   ...   ...\n",
              "2494  1923  1801   195  2302    76\n",
              "2495   496   647    70  1242  2377\n",
              "2496  4346  2148  3587  4147  3133\n",
              "2497   300  2847  1908  1927   657\n",
              "2498   558  2454  1328  2216   215\n",
              "\n",
              "[2499 rows x 5 columns]"
            ]
          },
          "execution_count": 36,
          "metadata": {},
          "output_type": "execute_result"
        }
      ],
      "source": [
        "pd.DataFrame(recommendations)"
      ]
    },
    {
      "cell_type": "code",
      "execution_count": null,
      "metadata": {
        "id": "ZqpPTlojIHyx"
      },
      "outputs": [],
      "source": [
        "item_1 = model.item_factors[1]\n",
        "item_2 = model.item_factors[2]"
      ]
    },
    {
      "cell_type": "code",
      "execution_count": null,
      "metadata": {
        "id": "IIuk4WYGzZdI",
        "outputId": "98981533-6564-48c6-8109-d81e6fb2a1cb"
      },
      "outputs": [
        {
          "data": {
            "text/plain": [
              "(100,)"
            ]
          },
          "execution_count": 38,
          "metadata": {},
          "output_type": "execute_result"
        }
      ],
      "source": [
        "item_1.shape"
      ]
    },
    {
      "cell_type": "code",
      "execution_count": null,
      "metadata": {
        "id": "wAT6aDyFzZdI",
        "outputId": "14d7ab3f-0e6f-4d90-b305-38ff5298ef1e"
      },
      "outputs": [
        {
          "data": {
            "text/plain": [
              "array([ 8.2801301e-03, -1.7080302e-03,  4.3960041e-03, -1.8020696e-03,\n",
              "       -1.1298540e-03,  1.6635458e-03,  7.1031210e-04, -3.9500808e-03,\n",
              "        3.6073581e-03,  1.4902944e-03,  3.9781742e-03,  1.1773846e-03,\n",
              "        2.1757022e-03, -7.5025338e-05,  5.8653066e-03,  2.6313784e-03,\n",
              "        3.4078292e-03,  1.8994862e-03,  2.8753234e-03,  9.4751170e-04,\n",
              "       -1.9700215e-03,  4.3611536e-03,  1.3988066e-03,  1.9931335e-03,\n",
              "        5.1568318e-03,  1.2720022e-03,  3.2812372e-04, -6.0646684e-04,\n",
              "        6.8580621e-04,  5.0342316e-03, -2.4696153e-03, -3.8468672e-03,\n",
              "        4.6534809e-05,  1.6563223e-03,  1.1443001e-03,  6.5762244e-05,\n",
              "        6.4504556e-03,  4.2609754e-03,  5.4174019e-03,  1.7299874e-03,\n",
              "        3.8742130e-03,  1.4317656e-03, -1.5883411e-03,  2.8773383e-03,\n",
              "       -1.6697961e-03,  5.7226536e-03, -4.8665470e-04,  1.0388202e-03,\n",
              "        5.6552575e-03,  1.4016710e-03, -4.3467409e-03, -9.1961079e-04,\n",
              "        5.1212893e-03,  8.6018965e-03,  8.5096108e-03, -1.7697795e-03,\n",
              "        3.1536983e-03,  3.0117289e-03,  5.2139903e-03,  2.1465984e-03,\n",
              "        9.7093289e-04, -2.2889653e-03, -3.9094733e-04,  6.4756321e-03,\n",
              "        9.0985268e-05,  6.5568304e-03,  3.5943156e-03,  3.6824523e-03,\n",
              "        3.0886575e-03,  5.2626934e-03,  2.1890604e-03,  3.8676741e-04,\n",
              "        4.4389288e-03,  6.6767083e-03,  1.9798237e-03,  8.6003738e-03,\n",
              "        4.4838390e-03, -4.0752537e-04,  3.8222337e-04,  5.1282370e-03,\n",
              "        9.2659509e-03,  6.5537049e-03,  1.8045602e-03,  1.8771994e-03,\n",
              "        4.4877524e-03,  7.2043734e-03, -1.3374374e-03,  2.1736666e-03,\n",
              "        3.8405566e-03,  2.0207958e-03,  5.7186247e-03,  3.2038800e-03,\n",
              "        3.8007253e-03,  6.7988606e-03,  7.1617393e-03,  7.3832111e-03,\n",
              "        6.0284073e-03,  9.0841757e-04,  2.1538602e-03,  1.0810456e-03],\n",
              "      dtype=float32)"
            ]
          },
          "execution_count": 39,
          "metadata": {},
          "output_type": "execute_result"
        }
      ],
      "source": [
        "item_1"
      ]
    },
    {
      "cell_type": "markdown",
      "metadata": {
        "id": "IDtmV7QxIHyx"
      },
      "source": [
        "*Посмотрите также / Похожие товары*"
      ]
    },
    {
      "cell_type": "code",
      "execution_count": null,
      "metadata": {
        "id": "FmB4FB5RzZdJ"
      },
      "outputs": [],
      "source": [
        "example_item_row_id = 3606"
      ]
    },
    {
      "cell_type": "code",
      "execution_count": null,
      "metadata": {
        "id": "FG43lphYIHyx"
      },
      "outputs": [],
      "source": [
        "closest_items = [ id_to_itemid[row_id] for row_id, score in model.similar_items(example_item_row_id, N=5)]"
      ]
    },
    {
      "cell_type": "code",
      "execution_count": null,
      "metadata": {
        "id": "JBR6ECdRzZdJ",
        "outputId": "c02a5947-72c3-4d42-9cbb-08fd517ee444"
      },
      "outputs": [
        {
          "data": {
            "text/html": [
              "<div>\n",
              "<style scoped>\n",
              "    .dataframe tbody tr th:only-of-type {\n",
              "        vertical-align: middle;\n",
              "    }\n",
              "\n",
              "    .dataframe tbody tr th {\n",
              "        vertical-align: top;\n",
              "    }\n",
              "\n",
              "    .dataframe thead th {\n",
              "        text-align: right;\n",
              "    }\n",
              "</style>\n",
              "<table border=\"1\" class=\"dataframe\">\n",
              "  <thead>\n",
              "    <tr style=\"text-align: right;\">\n",
              "      <th></th>\n",
              "      <th>item_id</th>\n",
              "      <th>manufacturer</th>\n",
              "      <th>department</th>\n",
              "      <th>brand</th>\n",
              "      <th>commodity_desc</th>\n",
              "      <th>sub_commodity_desc</th>\n",
              "      <th>curr_size_of_product</th>\n",
              "    </tr>\n",
              "  </thead>\n",
              "  <tbody>\n",
              "    <tr>\n",
              "      <th>8143</th>\n",
              "      <td>839040</td>\n",
              "      <td>942</td>\n",
              "      <td>GROCERY</td>\n",
              "      <td>National</td>\n",
              "      <td>CONDIMENTS/SAUCES</td>\n",
              "      <td>HOT MUSTARD/SPECIALTY MUSTAR</td>\n",
              "      <td>12 OZ</td>\n",
              "    </tr>\n",
              "    <tr>\n",
              "      <th>14959</th>\n",
              "      <td>899459</td>\n",
              "      <td>69</td>\n",
              "      <td>GROCERY</td>\n",
              "      <td>Private</td>\n",
              "      <td>CHEESE</td>\n",
              "      <td>NATURAL CHEESE EXACT WT CHUNKS</td>\n",
              "      <td>1 LB</td>\n",
              "    </tr>\n",
              "    <tr>\n",
              "      <th>25270</th>\n",
              "      <td>990804</td>\n",
              "      <td>69</td>\n",
              "      <td>GROCERY</td>\n",
              "      <td>Private</td>\n",
              "      <td>VEGETABLES - SHELF STABLE</td>\n",
              "      <td>MUSHROOMS CND &amp; GLASS</td>\n",
              "      <td>4.5 OZ</td>\n",
              "    </tr>\n",
              "    <tr>\n",
              "      <th>37579</th>\n",
              "      <td>1100265</td>\n",
              "      <td>69</td>\n",
              "      <td>GROCERY</td>\n",
              "      <td>Private</td>\n",
              "      <td>CHEESE</td>\n",
              "      <td>NATURAL CHEESE EXACT WT SLICES</td>\n",
              "      <td>10 OZ</td>\n",
              "    </tr>\n",
              "    <tr>\n",
              "      <th>39005</th>\n",
              "      <td>1113385</td>\n",
              "      <td>693</td>\n",
              "      <td>DRUG GM</td>\n",
              "      <td>National</td>\n",
              "      <td>CANDY - PACKAGED</td>\n",
              "      <td>SEASONAL CANDY BAGS-CHOCOLATE</td>\n",
              "      <td>13 OZ</td>\n",
              "    </tr>\n",
              "  </tbody>\n",
              "</table>\n",
              "</div>"
            ],
            "text/plain": [
              "       item_id  manufacturer department     brand             commodity_desc  \\\n",
              "8143    839040           942    GROCERY  National          CONDIMENTS/SAUCES   \n",
              "14959   899459            69    GROCERY   Private                     CHEESE   \n",
              "25270   990804            69    GROCERY   Private  VEGETABLES - SHELF STABLE   \n",
              "37579  1100265            69    GROCERY   Private                     CHEESE   \n",
              "39005  1113385           693    DRUG GM  National           CANDY - PACKAGED   \n",
              "\n",
              "                   sub_commodity_desc curr_size_of_product  \n",
              "8143     HOT MUSTARD/SPECIALTY MUSTAR                12 OZ  \n",
              "14959  NATURAL CHEESE EXACT WT CHUNKS                 1 LB  \n",
              "25270           MUSHROOMS CND & GLASS               4.5 OZ  \n",
              "37579  NATURAL CHEESE EXACT WT SLICES                10 OZ  \n",
              "39005   SEASONAL CANDY BAGS-CHOCOLATE                13 OZ  "
            ]
          },
          "execution_count": 42,
          "metadata": {},
          "output_type": "execute_result"
        }
      ],
      "source": [
        "item_features[item_features.item_id.isin(closest_items)]"
      ]
    },
    {
      "cell_type": "markdown",
      "metadata": {
        "id": "z3kvH35nIHyy"
      },
      "source": [
        "*Вашим друзьям нравится / Похожим пользователям нравится / ...*"
      ]
    },
    {
      "cell_type": "markdown",
      "metadata": {
        "id": "I6pbr6dUIHyy"
      },
      "source": [
        "Пользователь --> похожих пользовтелей --> рекомендовать те товары, которые купили похожие юзеры"
      ]
    },
    {
      "cell_type": "code",
      "execution_count": null,
      "metadata": {
        "id": "StEG6KrkIHyy",
        "outputId": "78aef638-88ce-4a7f-d430-3fef25cdbc12"
      },
      "outputs": [
        {
          "data": {
            "text/plain": [
              "[(9, 1.0000001),\n",
              " (239, 0.9746288),\n",
              " (354, 0.9741327),\n",
              " (790, 0.9733144),\n",
              " (1380, 0.9731392)]"
            ]
          },
          "execution_count": 43,
          "metadata": {},
          "output_type": "execute_result"
        }
      ],
      "source": [
        "model.similar_users(userid_to_id[10], N=5)"
      ]
    },
    {
      "cell_type": "markdown",
      "metadata": {
        "id": "dpSbiUfUIHyz"
      },
      "source": [
        "### 2. TF-IDF взвешивание"
      ]
    },
    {
      "cell_type": "code",
      "execution_count": null,
      "metadata": {
        "id": "4hA_6DX7IHyz"
      },
      "outputs": [],
      "source": [
        "user_item_matrix = tfidf_weight(user_item_matrix.T).T  # Применяется к item-user матрице ! "
      ]
    },
    {
      "cell_type": "code",
      "execution_count": null,
      "metadata": {
        "colab": {
          "referenced_widgets": [
            "6fee8130b62245e0b0a0597124b6c3ac"
          ]
        },
        "id": "baK0yoTwIHyz",
        "outputId": "16a60037-5061-44f4-9f7e-8a431bb55b43"
      },
      "outputs": [
        {
          "name": "stderr",
          "output_type": "stream",
          "text": [
            "100%|██████████| 15/15 [00:05<00:00,  2.53it/s, loss=0.0687]\n"
          ]
        },
        {
          "name": "stdout",
          "output_type": "stream",
          "text": [
            "CPU times: user 1min 37s, sys: 2.26 s, total: 1min 39s\n",
            "Wall time: 25.5 s\n"
          ]
        },
        {
          "data": {
            "text/plain": [
              "0.16278158667972362"
            ]
          },
          "execution_count": 45,
          "metadata": {},
          "output_type": "execute_result"
        }
      ],
      "source": [
        "%%time\n",
        "\n",
        "model = AlternatingLeastSquares(factors=100, \n",
        "                                regularization=0.001,\n",
        "                                iterations=15, \n",
        "                                calculate_training_loss=True, \n",
        "                                num_threads=4)\n",
        "\n",
        "model.fit(csr_matrix(user_item_matrix).T.tocsr(),  # На вход item-user matrix\n",
        "          show_progress=True)\n",
        "\n",
        "result['als_tfidf'] = result['user_id'].apply(lambda x: get_recommendations(x, model=model, N=5))\n",
        "\n",
        "result.apply(lambda row: precision_at_k(row['als_tfidf'], row['actual']), axis=1).mean()"
      ]
    },
    {
      "cell_type": "markdown",
      "metadata": {
        "id": "6Xw80BaLIHyz"
      },
      "source": [
        "### 3. BM25 взвешивание"
      ]
    },
    {
      "cell_type": "code",
      "execution_count": null,
      "metadata": {
        "id": "CyNl4rkjIHy0",
        "outputId": "067712af-e22d-4b99-a418-747ee026b72d"
      },
      "outputs": [
        {
          "name": "stderr",
          "output_type": "stream",
          "text": [
            "/Users/olegvolobuev/opt/anaconda3/lib/python3.9/site-packages/pandas/core/indexing.py:1817: SettingWithCopyWarning: \n",
            "A value is trying to be set on a copy of a slice from a DataFrame.\n",
            "Try using .loc[row_indexer,col_indexer] = value instead\n",
            "\n",
            "See the caveats in the documentation: https://pandas.pydata.org/pandas-docs/stable/user_guide/indexing.html#returning-a-view-versus-a-copy\n",
            "  self._setitem_single_column(loc, value, pi)\n"
          ]
        },
        {
          "data": {
            "text/html": [
              "<div>\n",
              "<style scoped>\n",
              "    .dataframe tbody tr th:only-of-type {\n",
              "        vertical-align: middle;\n",
              "    }\n",
              "\n",
              "    .dataframe tbody tr th {\n",
              "        vertical-align: top;\n",
              "    }\n",
              "\n",
              "    .dataframe thead th {\n",
              "        text-align: right;\n",
              "    }\n",
              "</style>\n",
              "<table border=\"1\" class=\"dataframe\">\n",
              "  <thead>\n",
              "    <tr style=\"text-align: right;\">\n",
              "      <th>item_id</th>\n",
              "      <th>202291</th>\n",
              "      <th>397896</th>\n",
              "      <th>420647</th>\n",
              "      <th>480014</th>\n",
              "      <th>545926</th>\n",
              "      <th>707683</th>\n",
              "      <th>731106</th>\n",
              "      <th>818980</th>\n",
              "      <th>819063</th>\n",
              "      <th>819227</th>\n",
              "      <th>...</th>\n",
              "      <th>15778533</th>\n",
              "      <th>15831255</th>\n",
              "      <th>15926712</th>\n",
              "      <th>15926775</th>\n",
              "      <th>15926844</th>\n",
              "      <th>15926886</th>\n",
              "      <th>15927403</th>\n",
              "      <th>15927661</th>\n",
              "      <th>15927850</th>\n",
              "      <th>16809471</th>\n",
              "    </tr>\n",
              "    <tr>\n",
              "      <th>user_id</th>\n",
              "      <th></th>\n",
              "      <th></th>\n",
              "      <th></th>\n",
              "      <th></th>\n",
              "      <th></th>\n",
              "      <th></th>\n",
              "      <th></th>\n",
              "      <th></th>\n",
              "      <th></th>\n",
              "      <th></th>\n",
              "      <th></th>\n",
              "      <th></th>\n",
              "      <th></th>\n",
              "      <th></th>\n",
              "      <th></th>\n",
              "      <th></th>\n",
              "      <th></th>\n",
              "      <th></th>\n",
              "      <th></th>\n",
              "      <th></th>\n",
              "      <th></th>\n",
              "    </tr>\n",
              "  </thead>\n",
              "  <tbody>\n",
              "    <tr>\n",
              "      <th>1</th>\n",
              "      <td>0.0</td>\n",
              "      <td>0.0</td>\n",
              "      <td>0.0</td>\n",
              "      <td>0.0</td>\n",
              "      <td>0.0</td>\n",
              "      <td>0.0</td>\n",
              "      <td>0.0</td>\n",
              "      <td>0.0</td>\n",
              "      <td>0.0</td>\n",
              "      <td>0.0</td>\n",
              "      <td>...</td>\n",
              "      <td>0.0</td>\n",
              "      <td>0.0</td>\n",
              "      <td>0.0</td>\n",
              "      <td>0.0</td>\n",
              "      <td>1.0</td>\n",
              "      <td>0.0</td>\n",
              "      <td>0.0</td>\n",
              "      <td>0.0</td>\n",
              "      <td>0.0</td>\n",
              "      <td>0.0</td>\n",
              "    </tr>\n",
              "    <tr>\n",
              "      <th>2</th>\n",
              "      <td>0.0</td>\n",
              "      <td>0.0</td>\n",
              "      <td>0.0</td>\n",
              "      <td>0.0</td>\n",
              "      <td>0.0</td>\n",
              "      <td>0.0</td>\n",
              "      <td>0.0</td>\n",
              "      <td>0.0</td>\n",
              "      <td>0.0</td>\n",
              "      <td>0.0</td>\n",
              "      <td>...</td>\n",
              "      <td>0.0</td>\n",
              "      <td>0.0</td>\n",
              "      <td>0.0</td>\n",
              "      <td>0.0</td>\n",
              "      <td>0.0</td>\n",
              "      <td>0.0</td>\n",
              "      <td>0.0</td>\n",
              "      <td>0.0</td>\n",
              "      <td>0.0</td>\n",
              "      <td>0.0</td>\n",
              "    </tr>\n",
              "    <tr>\n",
              "      <th>3</th>\n",
              "      <td>0.0</td>\n",
              "      <td>0.0</td>\n",
              "      <td>0.0</td>\n",
              "      <td>0.0</td>\n",
              "      <td>0.0</td>\n",
              "      <td>0.0</td>\n",
              "      <td>0.0</td>\n",
              "      <td>0.0</td>\n",
              "      <td>0.0</td>\n",
              "      <td>0.0</td>\n",
              "      <td>...</td>\n",
              "      <td>0.0</td>\n",
              "      <td>0.0</td>\n",
              "      <td>0.0</td>\n",
              "      <td>0.0</td>\n",
              "      <td>0.0</td>\n",
              "      <td>0.0</td>\n",
              "      <td>0.0</td>\n",
              "      <td>0.0</td>\n",
              "      <td>0.0</td>\n",
              "      <td>0.0</td>\n",
              "    </tr>\n",
              "  </tbody>\n",
              "</table>\n",
              "<p>3 rows × 5001 columns</p>\n",
              "</div>"
            ],
            "text/plain": [
              "item_id  202291    397896    420647    480014    545926    707683    731106    \\\n",
              "user_id                                                                         \n",
              "1             0.0       0.0       0.0       0.0       0.0       0.0       0.0   \n",
              "2             0.0       0.0       0.0       0.0       0.0       0.0       0.0   \n",
              "3             0.0       0.0       0.0       0.0       0.0       0.0       0.0   \n",
              "\n",
              "item_id  818980    819063    819227    ...  15778533  15831255  15926712  \\\n",
              "user_id                                ...                                 \n",
              "1             0.0       0.0       0.0  ...       0.0       0.0       0.0   \n",
              "2             0.0       0.0       0.0  ...       0.0       0.0       0.0   \n",
              "3             0.0       0.0       0.0  ...       0.0       0.0       0.0   \n",
              "\n",
              "item_id  15926775  15926844  15926886  15927403  15927661  15927850  16809471  \n",
              "user_id                                                                        \n",
              "1             0.0       1.0       0.0       0.0       0.0       0.0       0.0  \n",
              "2             0.0       0.0       0.0       0.0       0.0       0.0       0.0  \n",
              "3             0.0       0.0       0.0       0.0       0.0       0.0       0.0  \n",
              "\n",
              "[3 rows x 5001 columns]"
            ]
          },
          "execution_count": 46,
          "metadata": {},
          "output_type": "execute_result"
        }
      ],
      "source": [
        "# Заведем фиктивный item_id (если юзер покупал товары из топ-5000, то он \"купил\" такой товар)\n",
        "data_train.loc[~data_train['item_id'].isin(top_5000), 'item_id'] = 999999\n",
        "\n",
        "user_item_matrix = pd.pivot_table(data_train, \n",
        "                                  index='user_id', columns='item_id', \n",
        "                                  values='quantity', # Можно пробовать другие варианты\n",
        "                                  aggfunc='count', \n",
        "                                  fill_value=0\n",
        "                                 )\n",
        "\n",
        "user_item_matrix = user_item_matrix.astype(float) # необходимый тип матрицы для implicit\n",
        "\n",
        "# переведем в формат saprse matrix\n",
        "sparse_user_item = csr_matrix(user_item_matrix).tocsr()\n",
        "\n",
        "user_item_matrix.head(3)"
      ]
    },
    {
      "cell_type": "code",
      "execution_count": null,
      "metadata": {
        "id": "0yalYjMvIHy0"
      },
      "outputs": [],
      "source": [
        "user_item_matrix = bm25_weight(user_item_matrix.T).T  # Применяется к item-user матрице ! "
      ]
    },
    {
      "cell_type": "code",
      "execution_count": null,
      "metadata": {
        "colab": {
          "referenced_widgets": [
            "4ed4a23e566645f49a4257ead85d177a"
          ]
        },
        "id": "aixME0BeIHy0",
        "outputId": "8777a5af-c636-4e2b-e315-eb413f7ba346"
      },
      "outputs": [
        {
          "name": "stderr",
          "output_type": "stream",
          "text": [
            "100%|██████████| 15/15 [00:05<00:00,  2.89it/s, loss=0.0812]\n"
          ]
        },
        {
          "name": "stdout",
          "output_type": "stream",
          "text": [
            "CPU times: user 1min 22s, sys: 13.7 s, total: 1min 36s\n",
            "Wall time: 25.4 s\n"
          ]
        }
      ],
      "source": [
        "%%time\n",
        "\n",
        "model = AlternatingLeastSquares(factors=100, \n",
        "                                regularization=0.001,\n",
        "                                iterations=15, \n",
        "                                calculate_training_loss=True, \n",
        "                                num_threads=4) # K - кол-во билжайших соседей\n",
        "\n",
        "model.fit(csr_matrix(user_item_matrix).T.tocsr(),  # На вход item-user matrix\n",
        "          show_progress=True)\n",
        "\n",
        "result['als_bm25'] = result['user_id'].apply(lambda x: get_recommendations(x, model=model, N=5))"
      ]
    },
    {
      "cell_type": "code",
      "execution_count": null,
      "metadata": {
        "id": "DOgvSuGxzZdN",
        "outputId": "8b559c8f-33c1-4424-9bdf-995f121c48df"
      },
      "outputs": [
        {
          "data": {
            "text/plain": [
              "0.191185112634669"
            ]
          },
          "execution_count": 108,
          "metadata": {},
          "output_type": "execute_result"
        }
      ],
      "source": [
        "result.apply(lambda row: precision_at_k(row['als_bm25'], row['actual']), axis=1).mean()"
      ]
    },
    {
      "cell_type": "code",
      "execution_count": null,
      "metadata": {
        "id": "hYXOX-GCzZdN",
        "outputId": "acf86adb-a7ed-4c6f-b7d2-e3906410c268"
      },
      "outputs": [
        {
          "data": {
            "text/html": [
              "<div>\n",
              "<style scoped>\n",
              "    .dataframe tbody tr th:only-of-type {\n",
              "        vertical-align: middle;\n",
              "    }\n",
              "\n",
              "    .dataframe tbody tr th {\n",
              "        vertical-align: top;\n",
              "    }\n",
              "\n",
              "    .dataframe thead th {\n",
              "        text-align: right;\n",
              "    }\n",
              "</style>\n",
              "<table border=\"1\" class=\"dataframe\">\n",
              "  <thead>\n",
              "    <tr style=\"text-align: right;\">\n",
              "      <th></th>\n",
              "      <th>user_id</th>\n",
              "      <th>actual</th>\n",
              "      <th>als</th>\n",
              "      <th>als_tfidf</th>\n",
              "      <th>als_bm25</th>\n",
              "    </tr>\n",
              "  </thead>\n",
              "  <tbody>\n",
              "    <tr>\n",
              "      <th>0</th>\n",
              "      <td>1</td>\n",
              "      <td>[821867, 834484, 856942, 865456, 889248, 90795...</td>\n",
              "      <td>[1033142, 5569374, 901062, 979707, 1100972]</td>\n",
              "      <td>[1105488, 986912, 1100972, 1033142, 999999]</td>\n",
              "      <td>[999999, 1082185, 1051211, 1033142, 995242]</td>\n",
              "    </tr>\n",
              "    <tr>\n",
              "      <th>1</th>\n",
              "      <td>3</td>\n",
              "      <td>[835476, 851057, 872021, 878302, 879948, 90963...</td>\n",
              "      <td>[1106523, 5568378, 910032, 826249, 1133018]</td>\n",
              "      <td>[1106523, 951590, 1133018, 9337581, 1022003]</td>\n",
              "      <td>[999999, 951590, 1053690, 1092026, 1133018]</td>\n",
              "    </tr>\n",
              "    <tr>\n",
              "      <th>2</th>\n",
              "      <td>6</td>\n",
              "      <td>[920308, 926804, 946489, 1006718, 1017061, 107...</td>\n",
              "      <td>[1007195, 878996, 1051516, 1024306, 986912]</td>\n",
              "      <td>[1023720, 1007195, 878996, 1051516, 866211]</td>\n",
              "      <td>[1082185, 1051516, 878996, 1024306, 999999]</td>\n",
              "    </tr>\n",
              "    <tr>\n",
              "      <th>3</th>\n",
              "      <td>7</td>\n",
              "      <td>[840386, 889774, 898068, 909714, 929067, 95347...</td>\n",
              "      <td>[1058997, 999999, 1082185, 893018, 1133018]</td>\n",
              "      <td>[999999, 1082185, 1126899, 826249, 938700]</td>\n",
              "      <td>[999999, 1082185, 6944571, 1058997, 1126899]</td>\n",
              "    </tr>\n",
              "    <tr>\n",
              "      <th>4</th>\n",
              "      <td>8</td>\n",
              "      <td>[835098, 872137, 910439, 924610, 992977, 10412...</td>\n",
              "      <td>[1004906, 826249, 1068719, 883404, 913785]</td>\n",
              "      <td>[1053690, 1004906, 1068719, 844179, 979707]</td>\n",
              "      <td>[999999, 840361, 1004906, 883404, 1029743]</td>\n",
              "    </tr>\n",
              "    <tr>\n",
              "      <th>...</th>\n",
              "      <td>...</td>\n",
              "      <td>...</td>\n",
              "      <td>...</td>\n",
              "      <td>...</td>\n",
              "      <td>...</td>\n",
              "    </tr>\n",
              "    <tr>\n",
              "      <th>2037</th>\n",
              "      <td>2496</td>\n",
              "      <td>[6534178]</td>\n",
              "      <td>[914190, 847982, 1013321, 938700, 840361]</td>\n",
              "      <td>[914190, 916122, 834484, 840361, 1133018]</td>\n",
              "      <td>[1133018, 999999, 914190, 1070702, 840361]</td>\n",
              "    </tr>\n",
              "    <tr>\n",
              "      <th>2038</th>\n",
              "      <td>2497</td>\n",
              "      <td>[1016709, 9835695, 1132298, 16809501, 845294, ...</td>\n",
              "      <td>[5569845, 951590, 957951, 5569230, 5585510]</td>\n",
              "      <td>[5569230, 951590, 5569471, 5585510, 5569845]</td>\n",
              "      <td>[5569230, 5569845, 995785, 951590, 999999]</td>\n",
              "    </tr>\n",
              "    <tr>\n",
              "      <th>2039</th>\n",
              "      <td>2498</td>\n",
              "      <td>[15716530, 834484, 901776, 914190, 958382, 972...</td>\n",
              "      <td>[1053690, 999999, 1082185, 862349, 1070820]</td>\n",
              "      <td>[999999, 1082185, 862349, 1053690, 6534178]</td>\n",
              "      <td>[999999, 840361, 995242, 862349, 9526410]</td>\n",
              "    </tr>\n",
              "    <tr>\n",
              "      <th>2040</th>\n",
              "      <td>2499</td>\n",
              "      <td>[867188, 877580, 902396, 914190, 951590, 95813...</td>\n",
              "      <td>[1004906, 840361, 6534178, 1022003, 938700]</td>\n",
              "      <td>[1098066, 994928, 826249, 883404, 6534178]</td>\n",
              "      <td>[999999, 826249, 883404, 5569845, 5569230]</td>\n",
              "    </tr>\n",
              "    <tr>\n",
              "      <th>2041</th>\n",
              "      <td>2500</td>\n",
              "      <td>[852182, 856345, 923746, 948670, 1018007, 1044...</td>\n",
              "      <td>[1029743, 859075, 1071939, 1058997, 833025]</td>\n",
              "      <td>[859075, 1071939, 1029743, 999999, 1058997]</td>\n",
              "      <td>[999999, 1082185, 1058997, 981760, 6534178]</td>\n",
              "    </tr>\n",
              "  </tbody>\n",
              "</table>\n",
              "<p>2042 rows × 5 columns</p>\n",
              "</div>"
            ],
            "text/plain": [
              "      user_id                                             actual  \\\n",
              "0           1  [821867, 834484, 856942, 865456, 889248, 90795...   \n",
              "1           3  [835476, 851057, 872021, 878302, 879948, 90963...   \n",
              "2           6  [920308, 926804, 946489, 1006718, 1017061, 107...   \n",
              "3           7  [840386, 889774, 898068, 909714, 929067, 95347...   \n",
              "4           8  [835098, 872137, 910439, 924610, 992977, 10412...   \n",
              "...       ...                                                ...   \n",
              "2037     2496                                          [6534178]   \n",
              "2038     2497  [1016709, 9835695, 1132298, 16809501, 845294, ...   \n",
              "2039     2498  [15716530, 834484, 901776, 914190, 958382, 972...   \n",
              "2040     2499  [867188, 877580, 902396, 914190, 951590, 95813...   \n",
              "2041     2500  [852182, 856345, 923746, 948670, 1018007, 1044...   \n",
              "\n",
              "                                              als  \\\n",
              "0     [1033142, 5569374, 901062, 979707, 1100972]   \n",
              "1     [1106523, 5568378, 910032, 826249, 1133018]   \n",
              "2     [1007195, 878996, 1051516, 1024306, 986912]   \n",
              "3     [1058997, 999999, 1082185, 893018, 1133018]   \n",
              "4      [1004906, 826249, 1068719, 883404, 913785]   \n",
              "...                                           ...   \n",
              "2037    [914190, 847982, 1013321, 938700, 840361]   \n",
              "2038  [5569845, 951590, 957951, 5569230, 5585510]   \n",
              "2039  [1053690, 999999, 1082185, 862349, 1070820]   \n",
              "2040  [1004906, 840361, 6534178, 1022003, 938700]   \n",
              "2041  [1029743, 859075, 1071939, 1058997, 833025]   \n",
              "\n",
              "                                         als_tfidf  \\\n",
              "0      [1105488, 986912, 1100972, 1033142, 999999]   \n",
              "1     [1106523, 951590, 1133018, 9337581, 1022003]   \n",
              "2      [1023720, 1007195, 878996, 1051516, 866211]   \n",
              "3       [999999, 1082185, 1126899, 826249, 938700]   \n",
              "4      [1053690, 1004906, 1068719, 844179, 979707]   \n",
              "...                                            ...   \n",
              "2037     [914190, 916122, 834484, 840361, 1133018]   \n",
              "2038  [5569230, 951590, 5569471, 5585510, 5569845]   \n",
              "2039   [999999, 1082185, 862349, 1053690, 6534178]   \n",
              "2040    [1098066, 994928, 826249, 883404, 6534178]   \n",
              "2041   [859075, 1071939, 1029743, 999999, 1058997]   \n",
              "\n",
              "                                          als_bm25  \n",
              "0      [999999, 1082185, 1051211, 1033142, 995242]  \n",
              "1      [999999, 951590, 1053690, 1092026, 1133018]  \n",
              "2      [1082185, 1051516, 878996, 1024306, 999999]  \n",
              "3     [999999, 1082185, 6944571, 1058997, 1126899]  \n",
              "4       [999999, 840361, 1004906, 883404, 1029743]  \n",
              "...                                            ...  \n",
              "2037    [1133018, 999999, 914190, 1070702, 840361]  \n",
              "2038    [5569230, 5569845, 995785, 951590, 999999]  \n",
              "2039     [999999, 840361, 995242, 862349, 9526410]  \n",
              "2040    [999999, 826249, 883404, 5569845, 5569230]  \n",
              "2041   [999999, 1082185, 1058997, 981760, 6534178]  \n",
              "\n",
              "[2042 rows x 5 columns]"
            ]
          },
          "execution_count": 50,
          "metadata": {},
          "output_type": "execute_result"
        }
      ],
      "source": [
        "result"
      ]
    },
    {
      "cell_type": "code",
      "execution_count": null,
      "metadata": {
        "id": "eq8DV_vtIHy1"
      },
      "outputs": [],
      "source": [
        "result.to_csv('predictions_mf.csv', index=False)  # mf - matrix factorization"
      ]
    },
    {
      "cell_type": "markdown",
      "metadata": {
        "id": "749_a1hBIHy1"
      },
      "source": [
        "## 4. Важно искать оптимальные параметры"
      ]
    },
    {
      "cell_type": "markdown",
      "metadata": {
        "id": "mBdRhScQIHy1"
      },
      "source": [
        "- regularization, iterations\n",
        "- factors\n",
        "- Вес (элемент в матрице user-item)"
      ]
    },
    {
      "cell_type": "markdown",
      "metadata": {
        "id": "aTJVsOhrIHy1"
      },
      "source": [
        "-----"
      ]
    },
    {
      "cell_type": "markdown",
      "metadata": {
        "id": "IgTrX7hAIHy2"
      },
      "source": [
        "# Production"
      ]
    },
    {
      "cell_type": "markdown",
      "metadata": {
        "id": "_BlVIuo8IHy2"
      },
      "source": [
        "Начиная с этого вебинара, мы будем строить *базовое решение* для системы рекомендаций топ-N товаров. В финальном проекте вам нужно будет его сущесвтенно улучшить.  \n",
        "  \n",
        "**Ситуация**: Вы работает data scientist в крупном продуктовом российском ритейлере. Ваш конкурент сделал рекомендательную систему, и его продажи выросли. Ваш менеджмент тоже хочет увеличить продажи   \n",
        "**Задача со слов менеджера**: Сделайте рекомендательную систему топ-10 товаров для рассылки по e-mail"
      ]
    },
    {
      "cell_type": "markdown",
      "metadata": {
        "id": "0O0XT3Y5IHy2"
      },
      "source": [
        "**Ожидание:**\n",
        "- Отправляем e-mail с топ-10 товарами, отсортированными по вероятности\n",
        "\n",
        "**Реальность:**\n",
        "- Чего хочет менеджер от рекомендательной системы? (рост показателя X на Y% за Z недель)\n",
        "- По-хорошему надо бы предварительно посчитать потенциальный эффект от рекоммендательной системы (Оценки эффектов у менеджера и у вас могут сильно не совпадать: как правило, вы знаете про данные больше)\n",
        "- А у нас вообще есть e-mail-ы пользователей? Для скольки %? Не устарели ли они?\n",
        "- Будем ли использовать СМС и push-уведомления в приложении? Может, будем печатать рекомендации на чеке после оплаты на кассе?\n",
        "- Как будет выглядеть e-mail? (решаем задачу топ-10 рекомендаций или ранжирования? И топ-10 ли?)\n",
        "- Какие товары должны быть в e-mail? Есть ли какие-то ограничения (только акции и т п)?\n",
        "- Сколько денег мы готовы потратить на привлечение 1 юзера? CAC - Customer Aquisition Cost. Обычно CAC = расходы на коммуникацию + расходы на скидки\n",
        "- Cколько мы хотим зарабатывать с одного привлеченного юзера?\n",
        "---\n",
        "- А точно нужно сортировать по вероятности?\n",
        "- Какую метрику использовать?\n",
        "- Сколько раз в неделю отпрпавляем рассылку?\n",
        "- В какое время отправляем рассылку?\n",
        "- Будем отправлять одному юзеру много раз наши рекоммендации. Как добиться того, чтобы они хоть немного отличались?\n",
        "- Нужно ли, чтобы в одной рассылке были *разные* товары? Как определить, что товары *разные*? Как добиться того, чтобы они были разными?\n",
        "- И многое другое:)"
      ]
    },
    {
      "cell_type": "markdown",
      "metadata": {
        "id": "QQN2KT7JIHy2"
      },
      "source": [
        "**В итоге договорились, что:**\n",
        "- Хотим повысить выручку минимум на 6% за 4 месяца. Будем повышать за счет роста Retention минимум на  3% и среднего чека минимум на 3%\n",
        "- Топ-5 товаров, а не топ-10 (В e-mail 10 выглядят не красиво, в push и на чек больше 5 не влезает)\n",
        "- Рассылаем в e-mail (5% клиентов) и push-уведомлении (20% клиентов), печатаем на чеке (все оффлайн клиенты)\n",
        "- **3 товара с акцией** (Как это учесть? А если на товар была акция 10%, а потом 50%, что будет стоять в user-item матрице?)\n",
        "- **1 новый товар** (юзер никогда не покупал. Просто фильтруем аутпут ALS? А если у таких товаров очень маленькая вероятность покупки? Может, использовать другую логику/модель?) \n",
        "- **1 товар для роста среднего чека** (товары минимум дороже чем обычно покупает юзер. Как это измерить? На сколько дороже?)"
      ]
    },
    {
      "cell_type": "markdown",
      "metadata": {
        "id": "TJVGydM9IHy2"
      },
      "source": [
        "Вопросов стало еще больше. Поэтому сначала делаем **MVP** (Minimum viable product) на e-mail. Показываем его менеджеру, измеряем метрики на юзерах. По фидбеку и метрикам делаем улучшения MVP и раскатываем его на push-уведомления и чеки\n",
        "\n",
        "*Data Science проект* - итеративный процесс!"
      ]
    },
    {
      "cell_type": "code",
      "execution_count": null,
      "metadata": {
        "id": "rA7g4mL8IHy3",
        "outputId": "ecf022e0-c283-4cb8-ccec-611f9cdbedad"
      },
      "outputs": [
        {
          "data": {
            "text/html": [
              "<div>\n",
              "<style scoped>\n",
              "    .dataframe tbody tr th:only-of-type {\n",
              "        vertical-align: middle;\n",
              "    }\n",
              "\n",
              "    .dataframe tbody tr th {\n",
              "        vertical-align: top;\n",
              "    }\n",
              "\n",
              "    .dataframe thead th {\n",
              "        text-align: right;\n",
              "    }\n",
              "</style>\n",
              "<table border=\"1\" class=\"dataframe\">\n",
              "  <thead>\n",
              "    <tr style=\"text-align: right;\">\n",
              "      <th></th>\n",
              "      <th>user_id</th>\n",
              "      <th>basket_id</th>\n",
              "      <th>day</th>\n",
              "      <th>item_id</th>\n",
              "      <th>quantity</th>\n",
              "      <th>sales_value</th>\n",
              "      <th>store_id</th>\n",
              "      <th>retail_disc</th>\n",
              "      <th>trans_time</th>\n",
              "      <th>week_no</th>\n",
              "      <th>coupon_disc</th>\n",
              "      <th>coupon_match_disc</th>\n",
              "    </tr>\n",
              "  </thead>\n",
              "  <tbody>\n",
              "    <tr>\n",
              "      <th>0</th>\n",
              "      <td>2375</td>\n",
              "      <td>26984851472</td>\n",
              "      <td>1</td>\n",
              "      <td>1004906</td>\n",
              "      <td>1</td>\n",
              "      <td>1.39</td>\n",
              "      <td>364</td>\n",
              "      <td>-0.6</td>\n",
              "      <td>1631</td>\n",
              "      <td>1</td>\n",
              "      <td>0.0</td>\n",
              "      <td>0.0</td>\n",
              "    </tr>\n",
              "    <tr>\n",
              "      <th>1</th>\n",
              "      <td>2375</td>\n",
              "      <td>26984851472</td>\n",
              "      <td>1</td>\n",
              "      <td>1033142</td>\n",
              "      <td>1</td>\n",
              "      <td>0.82</td>\n",
              "      <td>364</td>\n",
              "      <td>0.0</td>\n",
              "      <td>1631</td>\n",
              "      <td>1</td>\n",
              "      <td>0.0</td>\n",
              "      <td>0.0</td>\n",
              "    </tr>\n",
              "  </tbody>\n",
              "</table>\n",
              "</div>"
            ],
            "text/plain": [
              "   user_id    basket_id  day  item_id  quantity  sales_value  store_id  \\\n",
              "0     2375  26984851472    1  1004906         1         1.39       364   \n",
              "1     2375  26984851472    1  1033142         1         0.82       364   \n",
              "\n",
              "   retail_disc  trans_time  week_no  coupon_disc  coupon_match_disc  \n",
              "0         -0.6        1631        1          0.0                0.0  \n",
              "1          0.0        1631        1          0.0                0.0  "
            ]
          },
          "execution_count": 52,
          "metadata": {},
          "output_type": "execute_result"
        }
      ],
      "source": [
        "data_train.head(2)"
      ]
    },
    {
      "cell_type": "code",
      "execution_count": null,
      "metadata": {
        "id": "Ng_OBqaJIHy3",
        "outputId": "9b8bd811-80b7-47f1-bf70-58c51c48fc17"
      },
      "outputs": [
        {
          "name": "stderr",
          "output_type": "stream",
          "text": [
            "/var/folders/br/yq3lz4v51qg0kf7xl3xn91mh0000gn/T/ipykernel_1175/1027606932.py:1: SettingWithCopyWarning: \n",
            "A value is trying to be set on a copy of a slice from a DataFrame.\n",
            "Try using .loc[row_indexer,col_indexer] = value instead\n",
            "\n",
            "See the caveats in the documentation: https://pandas.pydata.org/pandas-docs/stable/user_guide/indexing.html#returning-a-view-versus-a-copy\n",
            "  data_train['price'] = data_train['sales_value'] / (np.maximum(data_train['quantity'], 1))\n"
          ]
        },
        {
          "data": {
            "text/plain": [
              "499.99"
            ]
          },
          "execution_count": 53,
          "metadata": {},
          "output_type": "execute_result"
        }
      ],
      "source": [
        "data_train['price'] = data_train['sales_value'] / (np.maximum(data_train['quantity'], 1))\n",
        "data_train['price'].max()"
      ]
    },
    {
      "cell_type": "code",
      "execution_count": null,
      "metadata": {
        "id": "fO-CqBT4IHy3",
        "outputId": "5fad70dd-f1ae-4cb2-9e1f-dab3484d4919"
      },
      "outputs": [
        {
          "data": {
            "text/plain": [
              "0.99"
            ]
          },
          "execution_count": 54,
          "metadata": {},
          "output_type": "execute_result"
        }
      ],
      "source": [
        "# < 1$\n",
        "data_train['price'].quantile(0.20)"
      ]
    },
    {
      "cell_type": "code",
      "execution_count": null,
      "metadata": {
        "id": "3kBJJ2s3IHy4",
        "outputId": "253ef171-4dd8-42f8-c912-9deb792dd597"
      },
      "outputs": [
        {
          "data": {
            "text/plain": [
              "82.01435450003483"
            ]
          },
          "execution_count": 55,
          "metadata": {},
          "output_type": "execute_result"
        }
      ],
      "source": [
        "# > 100$\n",
        "data_train['price'].quantile(0.99995)"
      ]
    },
    {
      "cell_type": "code",
      "execution_count": null,
      "metadata": {
        "id": "ldahUz0szZdQ"
      },
      "outputs": [],
      "source": [
        "interesting_cats = ['PASTRY', 'PRODUCE', 'DRUG GM', 'FLORAL']"
      ]
    },
    {
      "cell_type": "code",
      "execution_count": null,
      "metadata": {
        "id": "oAK7h-0CIHy4"
      },
      "outputs": [],
      "source": [
        "def prefilter_items(data, interesting_cats):\n",
        "    # Уберем самые популярные товары (их и так купят)\n",
        "    popularity = data_train.groupby('item_id')['user_id'].nunique().reset_index() / data_train['user_id'].nunique()\n",
        "    popularity.rename(columns={'user_id': 'share_unique_users'}, inplace=True)\n",
        "    \n",
        "    top_popular = popularity[popularity['share_unique_users'] > 0.5].item_id.tolist()\n",
        "    data = data[~data['item_id'].isin(top_popular)]\n",
        "    \n",
        "    # Уберем самые НЕ популярные товары (их и так НЕ купят)\n",
        "    top_notpopular = popularity[popularity['share_unique_users'] < 0.01].item_id.tolist()\n",
        "    data = data[~data['item_id'].isin(top_notpopular)]\n",
        "    \n",
        "    # Уберем товары, которые не продавались за последние 12 месяцев\n",
        "    data = data.loc[data['week_no'] > (max(data['week_no']) - 52)]\n",
        "\n",
        "    \n",
        "    # Уберем не интересные для рекоммендаций категории (department)\n",
        "    data = data.loc[data['item_id'].isin(item_features.loc[item_features['department'].isin(interesting_cats)]['item_id'].unique())]\n",
        "    \n",
        "    # Уберем слишком дешевые товары (на них не заработаем). 1 покупка из рассылок стоит 60 руб. \n",
        "    data = data.loc[data['price'] > data['price'].quantile(0.05)]\n",
        "    # Уберем слишком дорогие товары\n",
        "    data = data.loc[data['price'] < data['price'].quantile(0.95)]\n",
        "    return data\n",
        "    \n",
        "    \n",
        "def postfilter_items(user_id, recommednations):\n",
        "    pass"
      ]
    },
    {
      "cell_type": "markdown",
      "metadata": {
        "id": "OqYWeY14IHy4"
      },
      "source": [
        "Все эти функции отправим затем в *utils.py*"
      ]
    },
    {
      "cell_type": "markdown",
      "metadata": {
        "id": "D5FnO4Q5zZdR"
      },
      "source": [
        "# ДЗ\n",
        "\n",
        "1) Попытаться ответить на вопросы/выдвинуть гипотезы\n",
        "\n",
        "2) Доделать прошлые домашния задания\n",
        "\n",
        "3) Прочитать статьи BM25/MatrixFactorization\n",
        "\n",
        "4) Поэкспериментировать с ALS (grid-search)"
      ]
    },
    {
      "cell_type": "markdown",
      "metadata": {
        "id": "vi9IjmajzZdR"
      },
      "source": [
        "- **3 товара с акцией** (Как это учесть? А если на товар была акция 10%, а потом 50%, что будет стоять в user-item матрице?)\n",
        "\n",
        "можно добавить флаг \"акция\" и фильтровать по нему\n",
        "\n",
        "\n",
        "- **1 новый товар** (юзер никогда не покупал. Просто фильтруем аутпут ALS? А если у таких товаров очень маленькая вероятность покупки? Может, использовать другую логику/модель?) \n",
        "\n",
        "попробовать предложить самый популярынй товар из близкой (но не отсутствующей у юзера) категории покупок \n",
        "\n",
        "- **1 товар для роста среднего чека** (товары минимум дороже чем обычно покупает юзер. Как это измерить? На сколько дороже?)\n",
        "\n",
        "считать среднюю стоимость товара по категориям из чека и предлагать товар дороже на 10% (или по согласованию с менеджером) той же категории"
      ]
    },
    {
      "cell_type": "code",
      "execution_count": null,
      "metadata": {
        "id": "wryvqp7WzZdR",
        "outputId": "97767cc9-cca4-439d-b06a-f49eea6767e1"
      },
      "outputs": [
        {
          "name": "stderr",
          "output_type": "stream",
          "text": [
            "100%|██████████| 10/10 [00:04<00:00,  2.04it/s, loss=0.0596]\n"
          ]
        },
        {
          "name": "stdout",
          "output_type": "stream",
          "text": [
            "0.20048971596473739\n"
          ]
        }
      ],
      "source": [
        "# Лучшие параметры модели\n",
        "model = AlternatingLeastSquares(factors=200, \n",
        "                                regularization=0.01,\n",
        "                                iterations=10, \n",
        "                                calculate_training_loss=True, \n",
        "                                num_threads=4) # K - кол-во билжайших соседей\n",
        "\n",
        "model.fit(csr_matrix(user_item_matrix).T.tocsr(),  # На вход item-user matrix\n",
        "        show_progress=True)\n",
        "\n",
        "result['als_bm25'] = result['user_id'].apply(lambda x: get_recommendations(x, model=model, N=5))\n",
        "print(result.apply(lambda row: precision_at_k(row['als_bm25'], row['actual']), axis=1).mean())"
      ]
    },
    {
      "cell_type": "markdown",
      "metadata": {
        "id": "SZxwKTo4zZdR"
      },
      "source": [
        "# Links\n",
        "\n",
        "BM25\n",
        "\n",
        "https://en.wikipedia.org/wiki/Okapi_BM25#:~:text=BM25%20is%20a%20bag%2Dof,slightly%20different%20components%20and%20parameters.\n",
        "\n",
        "\n",
        "Matrix factorization (ALS, SVD)\n",
        "https://datasciencemadesimpler.wordpress.com/tag/alternating-least-squares/"
      ]
    },
    {
      "cell_type": "code",
      "execution_count": null,
      "metadata": {
        "id": "dhY9ogo-zZdS"
      },
      "outputs": [],
      "source": [
        ""
      ]
    }
  ],
  "metadata": {
    "colab": {
      "name": "webinar_3.ipynb",
      "provenance": [],
      "toc_visible": true,
      "include_colab_link": true
    },
    "kernelspec": {
      "display_name": "Python 3 (ipykernel)",
      "language": "python",
      "name": "python3"
    },
    "language_info": {
      "codemirror_mode": {
        "name": "ipython",
        "version": 3
      },
      "file_extension": ".py",
      "mimetype": "text/x-python",
      "name": "python",
      "nbconvert_exporter": "python",
      "pygments_lexer": "ipython3",
      "version": "3.9.7"
    }
  },
  "nbformat": 4,
  "nbformat_minor": 0
}